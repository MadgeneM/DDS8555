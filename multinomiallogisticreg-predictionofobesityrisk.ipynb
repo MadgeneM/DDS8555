{
 "cells": [
  {
   "cell_type": "code",
   "execution_count": 1,
   "id": "cc866394",
   "metadata": {
    "_cell_guid": "b1076dfc-b9ad-4769-8c92-a6c4dae69d19",
    "_uuid": "8f2839f25d086af736a60e9eeb907d3b93b6e0e5",
    "execution": {
     "iopub.execute_input": "2025-06-16T05:17:27.169203Z",
     "iopub.status.busy": "2025-06-16T05:17:27.168892Z",
     "iopub.status.idle": "2025-06-16T05:17:27.174187Z",
     "shell.execute_reply": "2025-06-16T05:17:27.173187Z"
    },
    "papermill": {
     "duration": 0.013119,
     "end_time": "2025-06-16T05:17:27.176400",
     "exception": false,
     "start_time": "2025-06-16T05:17:27.163281",
     "status": "completed"
    },
    "tags": []
   },
   "outputs": [],
   "source": [
    "#-----------------------------------------\n",
    "# Title: Multinomial Logistic Regression with Multi-class Prediction of Obesity Risk Dataset\n",
    "# Subtitle: DDS-8555, Assignment 5\n",
    "# Author: Madgene Moise\n",
    "# Date: Sunday, June 15, 2025\n",
    "#-----------------------------------------"
   ]
  },
  {
   "cell_type": "code",
   "execution_count": 2,
   "id": "e4bb3c71",
   "metadata": {
    "execution": {
     "iopub.execute_input": "2025-06-16T05:17:27.185158Z",
     "iopub.status.busy": "2025-06-16T05:17:27.183669Z",
     "iopub.status.idle": "2025-06-16T05:17:29.547599Z",
     "shell.execute_reply": "2025-06-16T05:17:29.546469Z"
    },
    "papermill": {
     "duration": 2.369697,
     "end_time": "2025-06-16T05:17:29.549635",
     "exception": false,
     "start_time": "2025-06-16T05:17:27.179938",
     "status": "completed"
    },
    "tags": []
   },
   "outputs": [
    {
     "name": "stdout",
     "output_type": "stream",
     "text": [
      "<class 'pandas.core.frame.DataFrame'>\n",
      "RangeIndex: 20758 entries, 0 to 20757\n",
      "Data columns (total 18 columns):\n",
      " #   Column                          Non-Null Count  Dtype  \n",
      "---  ------                          --------------  -----  \n",
      " 0   id                              20758 non-null  int64  \n",
      " 1   Gender                          20758 non-null  object \n",
      " 2   Age                             20758 non-null  float64\n",
      " 3   Height                          20758 non-null  float64\n",
      " 4   Weight                          20758 non-null  float64\n",
      " 5   family_history_with_overweight  20758 non-null  object \n",
      " 6   FAVC                            20758 non-null  object \n",
      " 7   FCVC                            20758 non-null  float64\n",
      " 8   NCP                             20758 non-null  float64\n",
      " 9   CAEC                            20758 non-null  object \n",
      " 10  SMOKE                           20758 non-null  object \n",
      " 11  CH2O                            20758 non-null  float64\n",
      " 12  SCC                             20758 non-null  object \n",
      " 13  FAF                             20758 non-null  float64\n",
      " 14  TUE                             20758 non-null  float64\n",
      " 15  CALC                            20758 non-null  object \n",
      " 16  MTRANS                          20758 non-null  object \n",
      " 17  NObeyesdad                      20758 non-null  object \n",
      "dtypes: float64(8), int64(1), object(9)\n",
      "memory usage: 2.9+ MB\n",
      "<class 'pandas.core.frame.DataFrame'>\n",
      "RangeIndex: 13840 entries, 0 to 13839\n",
      "Data columns (total 17 columns):\n",
      " #   Column                          Non-Null Count  Dtype  \n",
      "---  ------                          --------------  -----  \n",
      " 0   id                              13840 non-null  int64  \n",
      " 1   Gender                          13840 non-null  object \n",
      " 2   Age                             13840 non-null  float64\n",
      " 3   Height                          13840 non-null  float64\n",
      " 4   Weight                          13840 non-null  float64\n",
      " 5   family_history_with_overweight  13840 non-null  object \n",
      " 6   FAVC                            13840 non-null  object \n",
      " 7   FCVC                            13840 non-null  float64\n",
      " 8   NCP                             13840 non-null  float64\n",
      " 9   CAEC                            13840 non-null  object \n",
      " 10  SMOKE                           13840 non-null  object \n",
      " 11  CH2O                            13840 non-null  float64\n",
      " 12  SCC                             13840 non-null  object \n",
      " 13  FAF                             13840 non-null  float64\n",
      " 14  TUE                             13840 non-null  float64\n",
      " 15  CALC                            13840 non-null  object \n",
      " 16  MTRANS                          13840 non-null  object \n",
      "dtypes: float64(8), int64(1), object(8)\n",
      "memory usage: 1.8+ MB\n"
     ]
    },
    {
     "data": {
      "text/plain": [
       "(None,\n",
       "    id  Gender        Age    Height      Weight family_history_with_overweight  \\\n",
       " 0   0    Male  24.443011  1.699998   81.669950                            yes   \n",
       " 1   1  Female  18.000000  1.560000   57.000000                            yes   \n",
       " 2   2  Female  18.000000  1.711460   50.165754                            yes   \n",
       " 3   3  Female  20.952737  1.710730  131.274851                            yes   \n",
       " 4   4    Male  31.641081  1.914186   93.798055                            yes   \n",
       " \n",
       "   FAVC      FCVC       NCP        CAEC SMOKE      CH2O SCC       FAF  \\\n",
       " 0  yes  2.000000  2.983297   Sometimes    no  2.763573  no  0.000000   \n",
       " 1  yes  2.000000  3.000000  Frequently    no  2.000000  no  1.000000   \n",
       " 2  yes  1.880534  1.411685   Sometimes    no  1.910378  no  0.866045   \n",
       " 3  yes  3.000000  3.000000   Sometimes    no  1.674061  no  1.467863   \n",
       " 4  yes  2.679664  1.971472   Sometimes    no  1.979848  no  1.967973   \n",
       " \n",
       "         TUE       CALC                 MTRANS           NObeyesdad  \n",
       " 0  0.976473  Sometimes  Public_Transportation  Overweight_Level_II  \n",
       " 1  1.000000         no             Automobile        Normal_Weight  \n",
       " 2  1.673584         no  Public_Transportation  Insufficient_Weight  \n",
       " 3  0.780199  Sometimes  Public_Transportation     Obesity_Type_III  \n",
       " 4  0.931721  Sometimes  Public_Transportation  Overweight_Level_II  ,\n",
       " None,\n",
       "       id  Gender        Age    Height      Weight  \\\n",
       " 0  20758    Male  26.899886  1.848294  120.644178   \n",
       " 1  20759  Female  21.000000  1.600000   66.000000   \n",
       " 2  20760  Female  26.000000  1.643355  111.600553   \n",
       " 3  20761    Male  20.979254  1.553127  103.669116   \n",
       " 4  20762  Female  26.000000  1.627396  104.835346   \n",
       " \n",
       "   family_history_with_overweight FAVC      FCVC       NCP       CAEC SMOKE  \\\n",
       " 0                            yes  yes  2.938616  3.000000  Sometimes    no   \n",
       " 1                            yes  yes  2.000000  1.000000  Sometimes    no   \n",
       " 2                            yes  yes  3.000000  3.000000  Sometimes    no   \n",
       " 3                            yes  yes  2.000000  2.977909  Sometimes    no   \n",
       " 4                            yes  yes  3.000000  3.000000  Sometimes    no   \n",
       " \n",
       "        CH2O SCC       FAF       TUE       CALC                 MTRANS  \n",
       " 0  2.825629  no  0.855400  0.000000  Sometimes  Public_Transportation  \n",
       " 1  3.000000  no  1.000000  0.000000  Sometimes  Public_Transportation  \n",
       " 2  2.621877  no  0.000000  0.250502  Sometimes  Public_Transportation  \n",
       " 3  2.786417  no  0.094851  0.000000  Sometimes  Public_Transportation  \n",
       " 4  2.653531  no  0.000000  0.741069  Sometimes  Public_Transportation  )"
      ]
     },
     "execution_count": 2,
     "metadata": {},
     "output_type": "execute_result"
    }
   ],
   "source": [
    "import pandas as pd\n",
    "\n",
    "# Load the training and testing datasets\n",
    "\n",
    "train_df = pd.read_csv(\"/kaggle/input/playground-series-s4e2/train.csv\") \n",
    "test_df = pd.read_csv(\"/kaggle/input/playground-series-s4e2/test.csv\")\n",
    "\n",
    "# Display basic information about the datasets\n",
    "train_df.info(), train_df.head(), test_df.info(), test_df.head()"
   ]
  },
  {
   "cell_type": "code",
   "execution_count": 3,
   "id": "b55f6764",
   "metadata": {
    "execution": {
     "iopub.execute_input": "2025-06-16T05:17:29.557043Z",
     "iopub.status.busy": "2025-06-16T05:17:29.556742Z",
     "iopub.status.idle": "2025-06-16T05:17:31.598629Z",
     "shell.execute_reply": "2025-06-16T05:17:31.597606Z"
    },
    "papermill": {
     "duration": 2.047543,
     "end_time": "2025-06-16T05:17:31.600363",
     "exception": false,
     "start_time": "2025-06-16T05:17:29.552820",
     "status": "completed"
    },
    "tags": []
   },
   "outputs": [],
   "source": [
    "from sklearn.linear_model import LogisticRegression\n",
    "from sklearn.preprocessing import LabelEncoder, StandardScaler\n",
    "from sklearn.metrics import classification_report, confusion_matrix\n",
    "import numpy as np\n",
    "\n",
    "# Separate predictors and target\n",
    "X_train = train_df.drop(['id', 'NObeyesdad'], axis=1).copy()\n",
    "y_train = train_df['NObeyesdad']\n",
    "X_test = test_df.drop(['id'], axis=1).copy()\n",
    "\n",
    "# Combine train and test for consistent encoding\n",
    "X_combined = pd.concat([X_train, X_test], axis=0)"
   ]
  },
  {
   "cell_type": "code",
   "execution_count": 4,
   "id": "635c1b41",
   "metadata": {
    "execution": {
     "iopub.execute_input": "2025-06-16T05:17:31.608520Z",
     "iopub.status.busy": "2025-06-16T05:17:31.608082Z",
     "iopub.status.idle": "2025-06-16T05:17:35.893788Z",
     "shell.execute_reply": "2025-06-16T05:17:35.892565Z"
    },
    "papermill": {
     "duration": 4.29169,
     "end_time": "2025-06-16T05:17:35.895660",
     "exception": false,
     "start_time": "2025-06-16T05:17:31.603970",
     "status": "completed"
    },
    "tags": []
   },
   "outputs": [
    {
     "data": {
      "text/plain": [
       "('                     precision    recall  f1-score   support\\n\\nInsufficient_Weight       0.88      0.94      0.91      2523\\n      Normal_Weight       0.85      0.81      0.83      3082\\n     Obesity_Type_I       0.82      0.83      0.83      2910\\n    Obesity_Type_II       0.94      0.96      0.95      3248\\n   Obesity_Type_III       0.99      1.00      1.00      4046\\n Overweight_Level_I       0.72      0.69      0.71      2427\\nOverweight_Level_II       0.71      0.69      0.70      2522\\n\\n           accuracy                           0.86     20758\\n          macro avg       0.84      0.85      0.85     20758\\n       weighted avg       0.86      0.86      0.86     20758\\n',\n",
       " array([[2380,  133,    0,    1,    0,    7,    2],\n",
       "        [ 315, 2499,    5,    0,    0,  229,   34],\n",
       "        [   3,    3, 2424,  184,   21,   48,  227],\n",
       "        [   0,    0,   96, 3127,    0,    2,   23],\n",
       "        [   1,    0,    0,    4, 4037,    4,    0],\n",
       "        [  16,  249,   69,    0,    0, 1677,  416],\n",
       "        [   0,   45,  355,   26,    3,  358, 1735]]))"
      ]
     },
     "execution_count": 4,
     "metadata": {},
     "output_type": "execute_result"
    }
   ],
   "source": [
    "# Identify categorical columns\n",
    "categorical_cols = X_combined.select_dtypes(include='object').columns.tolist()\n",
    "\n",
    "# Encode all categorical columns using LabelEncoder\n",
    "encoders = {}\n",
    "for col in categorical_cols:\n",
    "    le = LabelEncoder()\n",
    "    X_combined[col] = le.fit_transform(X_combined[col].astype(str))\n",
    "    encoders[col] = le\n",
    "\n",
    "# Split back into train and test\n",
    "X_train_encoded = X_combined.iloc[:X_train.shape[0], :]\n",
    "X_test_encoded = X_combined.iloc[X_train.shape[0]:, :]\n",
    "\n",
    "# Encode target variable\n",
    "target_le = LabelEncoder()\n",
    "y_train_encoded = target_le.fit_transform(y_train)\n",
    "\n",
    "# Scale numeric features\n",
    "scaler = StandardScaler()\n",
    "X_train_scaled = scaler.fit_transform(X_train_encoded)\n",
    "X_test_scaled = scaler.transform(X_test_encoded)\n",
    "\n",
    "# Fit multinomial logistic regression\n",
    "multi_logreg = LogisticRegression(multi_class='multinomial', solver='lbfgs', max_iter=1000)\n",
    "multi_logreg.fit(X_train_scaled, y_train_encoded)\n",
    "\n",
    "# Predict\n",
    "train_preds = multi_logreg.predict(X_train_scaled)\n",
    "test_preds = multi_logreg.predict(X_test_scaled)\n",
    "test_preds_labels = target_le.inverse_transform(test_preds)\n",
    "\n",
    "# Evaluate\n",
    "report = classification_report(y_train_encoded, train_preds, target_names=target_le.classes_)\n",
    "conf_matrix = confusion_matrix(y_train_encoded, train_preds)\n",
    "\n",
    "report, conf_matrix"
   ]
  },
  {
   "cell_type": "markdown",
   "id": "3122dd6e",
   "metadata": {
    "papermill": {
     "duration": 0.004902,
     "end_time": "2025-06-16T05:17:35.905928",
     "exception": false,
     "start_time": "2025-06-16T05:17:35.901026",
     "status": "completed"
    },
    "tags": []
   },
   "source": [
    "This shows strong performance overall, especially for extreme obesity classes, but somewhat lower precision/recall for intermediate overweight levels. Overall accuracy is 0.86 with support of 20758. The confusion matrix highlights high true positive rates on Obesity_Type_III and Obesity_Type_II. There was some misclassification observed between Overweight_Level_1 and Normal_Weight."
   ]
  },
  {
   "cell_type": "markdown",
   "id": "ce375075",
   "metadata": {
    "papermill": {
     "duration": 0.002742,
     "end_time": "2025-06-16T05:17:35.912331",
     "exception": false,
     "start_time": "2025-06-16T05:17:35.909589",
     "status": "completed"
    },
    "tags": []
   },
   "source": [
    "**Assumptions check**\n",
    "* Multicollinearity: Logistic regression assumes no perfect multicollinearity. I encoded categorical variables and standardized numeric ones, but a Variance Inflation Factor (VIF) check could confirm it rigorously.\n",
    "* Linearity: Assumes a linear relationship between log-odds and predictors. Some variables (like age, height, and weight) are likely to satisfy this, but interactions or non-linear terms could improve the fit.\n",
    "* Independence: Each observation should be independent (given this is individual health data, that is plausible). "
   ]
  },
  {
   "cell_type": "markdown",
   "id": "5489e1a1",
   "metadata": {
    "papermill": {
     "duration": 0.003607,
     "end_time": "2025-06-16T05:17:35.919035",
     "exception": false,
     "start_time": "2025-06-16T05:17:35.915428",
     "status": "completed"
    },
    "tags": []
   },
   "source": [
    "The model distinguishes well between extreme classes (e.g., Obesity_Type_III vs. Insufficient_Weight). Intermediate levels (Normal, Overweight I/II) are harder to distinguish due to overlapping health traits. High recall for severe obesity shows that the model is robust for health risk identification."
   ]
  },
  {
   "cell_type": "code",
   "execution_count": 5,
   "id": "80c69219",
   "metadata": {
    "execution": {
     "iopub.execute_input": "2025-06-16T05:17:35.927263Z",
     "iopub.status.busy": "2025-06-16T05:17:35.926853Z",
     "iopub.status.idle": "2025-06-16T05:17:35.944979Z",
     "shell.execute_reply": "2025-06-16T05:17:35.944003Z"
    },
    "papermill": {
     "duration": 0.023762,
     "end_time": "2025-06-16T05:17:35.946519",
     "exception": false,
     "start_time": "2025-06-16T05:17:35.922757",
     "status": "completed"
    },
    "tags": []
   },
   "outputs": [
    {
     "data": {
      "text/html": [
       "<div>\n",
       "<style scoped>\n",
       "    .dataframe tbody tr th:only-of-type {\n",
       "        vertical-align: middle;\n",
       "    }\n",
       "\n",
       "    .dataframe tbody tr th {\n",
       "        vertical-align: top;\n",
       "    }\n",
       "\n",
       "    .dataframe thead th {\n",
       "        text-align: right;\n",
       "    }\n",
       "</style>\n",
       "<table border=\"1\" class=\"dataframe\">\n",
       "  <thead>\n",
       "    <tr style=\"text-align: right;\">\n",
       "      <th></th>\n",
       "      <th>id</th>\n",
       "      <th>NObeyesdad</th>\n",
       "    </tr>\n",
       "  </thead>\n",
       "  <tbody>\n",
       "    <tr>\n",
       "      <th>0</th>\n",
       "      <td>20758</td>\n",
       "      <td>Obesity_Type_II</td>\n",
       "    </tr>\n",
       "    <tr>\n",
       "      <th>1</th>\n",
       "      <td>20759</td>\n",
       "      <td>Overweight_Level_I</td>\n",
       "    </tr>\n",
       "    <tr>\n",
       "      <th>2</th>\n",
       "      <td>20760</td>\n",
       "      <td>Obesity_Type_III</td>\n",
       "    </tr>\n",
       "    <tr>\n",
       "      <th>3</th>\n",
       "      <td>20761</td>\n",
       "      <td>Obesity_Type_I</td>\n",
       "    </tr>\n",
       "    <tr>\n",
       "      <th>4</th>\n",
       "      <td>20762</td>\n",
       "      <td>Obesity_Type_III</td>\n",
       "    </tr>\n",
       "  </tbody>\n",
       "</table>\n",
       "</div>"
      ],
      "text/plain": [
       "      id          NObeyesdad\n",
       "0  20758     Obesity_Type_II\n",
       "1  20759  Overweight_Level_I\n",
       "2  20760    Obesity_Type_III\n",
       "3  20761      Obesity_Type_I\n",
       "4  20762    Obesity_Type_III"
      ]
     },
     "execution_count": 5,
     "metadata": {},
     "output_type": "execute_result"
    }
   ],
   "source": [
    "# Export predictions\n",
    "test_predictions_df = pd.DataFrame({\n",
    "    'id': test_df['id'],\n",
    "    'NObeyesdad': test_preds_labels\n",
    "})\n",
    "\n",
    "test_predictions_df.head()"
   ]
  },
  {
   "cell_type": "code",
   "execution_count": 6,
   "id": "85e7399b",
   "metadata": {
    "execution": {
     "iopub.execute_input": "2025-06-16T05:17:35.954391Z",
     "iopub.status.busy": "2025-06-16T05:17:35.954096Z",
     "iopub.status.idle": "2025-06-16T05:17:38.683619Z",
     "shell.execute_reply": "2025-06-16T05:17:38.682684Z"
    },
    "papermill": {
     "duration": 2.735334,
     "end_time": "2025-06-16T05:17:38.685309",
     "exception": false,
     "start_time": "2025-06-16T05:17:35.949975",
     "status": "completed"
    },
    "tags": []
   },
   "outputs": [
    {
     "data": {
      "text/html": [
       "<div>\n",
       "<style scoped>\n",
       "    .dataframe tbody tr th:only-of-type {\n",
       "        vertical-align: middle;\n",
       "    }\n",
       "\n",
       "    .dataframe tbody tr th {\n",
       "        vertical-align: top;\n",
       "    }\n",
       "\n",
       "    .dataframe thead th {\n",
       "        text-align: right;\n",
       "    }\n",
       "</style>\n",
       "<table border=\"1\" class=\"dataframe\">\n",
       "  <thead>\n",
       "    <tr style=\"text-align: right;\">\n",
       "      <th></th>\n",
       "      <th>feature</th>\n",
       "      <th>VIF</th>\n",
       "    </tr>\n",
       "  </thead>\n",
       "  <tbody>\n",
       "    <tr>\n",
       "      <th>0</th>\n",
       "      <td>const</td>\n",
       "      <td>1.000000</td>\n",
       "    </tr>\n",
       "    <tr>\n",
       "      <th>1</th>\n",
       "      <td>Gender</td>\n",
       "      <td>1.949274</td>\n",
       "    </tr>\n",
       "    <tr>\n",
       "      <th>2</th>\n",
       "      <td>Age</td>\n",
       "      <td>2.093857</td>\n",
       "    </tr>\n",
       "    <tr>\n",
       "      <th>3</th>\n",
       "      <td>Height</td>\n",
       "      <td>2.397053</td>\n",
       "    </tr>\n",
       "    <tr>\n",
       "      <th>4</th>\n",
       "      <td>Weight</td>\n",
       "      <td>2.369225</td>\n",
       "    </tr>\n",
       "    <tr>\n",
       "      <th>5</th>\n",
       "      <td>family_history_with_overweight</td>\n",
       "      <td>1.455841</td>\n",
       "    </tr>\n",
       "    <tr>\n",
       "      <th>6</th>\n",
       "      <td>FAVC</td>\n",
       "      <td>1.078366</td>\n",
       "    </tr>\n",
       "    <tr>\n",
       "      <th>7</th>\n",
       "      <td>FCVC</td>\n",
       "      <td>1.284813</td>\n",
       "    </tr>\n",
       "    <tr>\n",
       "      <th>8</th>\n",
       "      <td>NCP</td>\n",
       "      <td>1.091430</td>\n",
       "    </tr>\n",
       "    <tr>\n",
       "      <th>9</th>\n",
       "      <td>CAEC</td>\n",
       "      <td>1.178694</td>\n",
       "    </tr>\n",
       "    <tr>\n",
       "      <th>10</th>\n",
       "      <td>SMOKE</td>\n",
       "      <td>1.013466</td>\n",
       "    </tr>\n",
       "    <tr>\n",
       "      <th>11</th>\n",
       "      <td>CH2O</td>\n",
       "      <td>1.152652</td>\n",
       "    </tr>\n",
       "    <tr>\n",
       "      <th>12</th>\n",
       "      <td>SCC</td>\n",
       "      <td>1.060805</td>\n",
       "    </tr>\n",
       "    <tr>\n",
       "      <th>13</th>\n",
       "      <td>FAF</td>\n",
       "      <td>1.229502</td>\n",
       "    </tr>\n",
       "    <tr>\n",
       "      <th>14</th>\n",
       "      <td>TUE</td>\n",
       "      <td>1.151903</td>\n",
       "    </tr>\n",
       "    <tr>\n",
       "      <th>15</th>\n",
       "      <td>CALC</td>\n",
       "      <td>1.100977</td>\n",
       "    </tr>\n",
       "    <tr>\n",
       "      <th>16</th>\n",
       "      <td>MTRANS</td>\n",
       "      <td>1.740918</td>\n",
       "    </tr>\n",
       "  </tbody>\n",
       "</table>\n",
       "</div>"
      ],
      "text/plain": [
       "                           feature       VIF\n",
       "0                            const  1.000000\n",
       "1                           Gender  1.949274\n",
       "2                              Age  2.093857\n",
       "3                           Height  2.397053\n",
       "4                           Weight  2.369225\n",
       "5   family_history_with_overweight  1.455841\n",
       "6                             FAVC  1.078366\n",
       "7                             FCVC  1.284813\n",
       "8                              NCP  1.091430\n",
       "9                             CAEC  1.178694\n",
       "10                           SMOKE  1.013466\n",
       "11                            CH2O  1.152652\n",
       "12                             SCC  1.060805\n",
       "13                             FAF  1.229502\n",
       "14                             TUE  1.151903\n",
       "15                            CALC  1.100977\n",
       "16                          MTRANS  1.740918"
      ]
     },
     "execution_count": 6,
     "metadata": {},
     "output_type": "execute_result"
    }
   ],
   "source": [
    "import statsmodels.api as sm\n",
    "from statsmodels.stats.outliers_influence import variance_inflation_factor\n",
    "import numpy as np\n",
    "\n",
    "# For VIF, use a DataFrame with an intercept term\n",
    "X_vif = sm.add_constant(X_train_scaled)\n",
    "\n",
    "# Compute VIF for each feature\n",
    "vif_data = pd.DataFrame()\n",
    "vif_data[\"feature\"] = [\"const\"] + list(X_train.columns)\n",
    "vif_data[\"VIF\"] = [variance_inflation_factor(X_vif, i) for i in range(X_vif.shape[1])]\n",
    "\n",
    "vif_data"
   ]
  },
  {
   "cell_type": "markdown",
   "id": "662ba853",
   "metadata": {
    "papermill": {
     "duration": 0.003195,
     "end_time": "2025-06-16T05:17:38.692134",
     "exception": false,
     "start_time": "2025-06-16T05:17:38.688939",
     "status": "completed"
    },
    "tags": []
   },
   "source": [
    "All Variance Inflation Factor (VIF) values are well below 5, indicating no problematic multicollinearity. This satisfies the logistic regression assumption regarding independent predictors."
   ]
  },
  {
   "cell_type": "code",
   "execution_count": 7,
   "id": "1d08b8de",
   "metadata": {
    "execution": {
     "iopub.execute_input": "2025-06-16T05:17:38.701483Z",
     "iopub.status.busy": "2025-06-16T05:17:38.701037Z",
     "iopub.status.idle": "2025-06-16T05:17:39.114040Z",
     "shell.execute_reply": "2025-06-16T05:17:39.112889Z"
    },
    "papermill": {
     "duration": 0.419496,
     "end_time": "2025-06-16T05:17:39.116036",
     "exception": false,
     "start_time": "2025-06-16T05:17:38.696540",
     "status": "completed"
    },
    "tags": []
   },
   "outputs": [
    {
     "data": {
      "image/png": "[encoded data removed]",
      "text/plain": [
       "<Figure size 1000x600 with 1 Axes>"
      ]
     },
     "metadata": {},
     "output_type": "display_data"
    }
   ],
   "source": [
    "import matplotlib.pyplot as plt\n",
    "\n",
    "# Compute predicted probabilities for each class\n",
    "probs = multi_logreg.predict_proba(X_train_scaled)\n",
    "\n",
    "# For multinomial logistic regression, deviance residuals are more complex.\n",
    "# We'll approximate using the Pearson residuals for each observation:\n",
    "# r_i = (y_i - p_i) / sqrt(p_i * (1 - p_i))\n",
    "\n",
    "# Create one-vs-rest residuals for the true class\n",
    "n_samples = y_train_encoded.shape[0]\n",
    "n_classes = probs.shape[1]\n",
    "residuals = np.zeros(n_samples)\n",
    "\n",
    "for i in range(n_samples):\n",
    "    true_class = y_train_encoded[i]\n",
    "    p = probs[i, true_class]\n",
    "    residuals[i] = (1 - p) / np.sqrt(p * (1 - p))\n",
    "\n",
    "# Plot residuals vs. fitted probabilities for the true class\n",
    "fitted_probs = probs[np.arange(n_samples), y_train_encoded]\n",
    "\n",
    "plt.figure(figsize=(10, 6))\n",
    "plt.scatter(fitted_probs, residuals, alpha=0.3, edgecolor='k')\n",
    "plt.axhline(0, color='red', linestyle='--')\n",
    "plt.xlabel('Fitted Probability (True Class)')\n",
    "plt.ylabel('Approx. Pearson Residual')\n",
    "plt.title('Residuals vs Fitted Probabilities')\n",
    "plt.show()"
   ]
  },
  {
   "cell_type": "markdown",
   "id": "7c232333",
   "metadata": {
    "papermill": {
     "duration": 0.004045,
     "end_time": "2025-06-16T05:17:39.124394",
     "exception": false,
     "start_time": "2025-06-16T05:17:39.120349",
     "status": "completed"
    },
    "tags": []
   },
   "source": [
    "This scatterplot shows approximate Pearson residuals plotted against the predicted probability for each observation's true class. The residuals are centered around zero, as expected. There is no clear funnel shape or systematic pattern (suggesting homoscedasticity - constant variance). Some larger residuals exist when fitted probabilities are low (which is normal for misclassified or low-confidence cases). "
   ]
  }
 ],
 "metadata": {
  "kaggle": {
   "accelerator": "none",
   "dataSources": [
    {
     "databundleVersionId": 10950255,
     "sourceId": 68479,
     "sourceType": "competition"
    }
   ],
   "dockerImageVersionId": 31040,
   "isGpuEnabled": false,
   "isInternetEnabled": true,
   "language": "python",
   "sourceType": "notebook"
  },
  "kernelspec": {
   "display_name": "Python 3",
   "language": "python",
   "name": "python3"
  },
  "language_info": {
   "codemirror_mode": {
    "name": "ipython",
    "version": 3
   },
   "file_extension": ".py",
   "mimetype": "text/x-python",
   "name": "python",
   "nbconvert_exporter": "python",
   "pygments_lexer": "ipython3",
   "version": "3.11.11"
  },
  "papermill": {
   "default_parameters": {},
   "duration": 18.255121,
   "end_time": "2025-06-16T05:17:39.950943",
   "environment_variables": {},
   "exception": null,
   "input_path": "__notebook__.ipynb",
   "output_path": "__notebook__.ipynb",
   "parameters": {},
   "start_time": "2025-06-16T05:17:21.695822",
   "version": "2.6.0"
  }
 },
 "nbformat": 4,
 "nbformat_minor": 5
}
