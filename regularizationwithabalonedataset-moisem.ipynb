{
 "cells": [
  {
   "cell_type": "code",
   "execution_count": 1,
   "id": "6f0f857f",
   "metadata": {
    "execution": {
     "iopub.execute_input": "2025-06-02T01:08:28.394249Z",
     "iopub.status.busy": "2025-06-02T01:08:28.393893Z",
     "iopub.status.idle": "2025-06-02T01:08:28.398977Z",
     "shell.execute_reply": "2025-06-02T01:08:28.398149Z"
    },
    "id": "ghjXmyljMEo-",
    "papermill": {
     "duration": 0.01291,
     "end_time": "2025-06-02T01:08:28.400722",
     "exception": false,
     "start_time": "2025-06-02T01:08:28.387812",
     "status": "completed"
    },
    "tags": []
   },
   "outputs": [],
   "source": [
    "#-----------------------------------------\n",
    "# Title: Regularization Regression With Abalone Dataset\n",
    "# Subtitle: DDS-8555, Assignment 3, Part 1\n",
    "# Author: Madgene Moise\n",
    "# Date: Sunday, June 1, 2025\n",
    "#-----------------------------------------"
   ]
  },
  {
   "cell_type": "code",
   "execution_count": 2,
   "id": "a7d00285",
   "metadata": {
    "execution": {
     "iopub.execute_input": "2025-06-02T01:08:28.409786Z",
     "iopub.status.busy": "2025-06-02T01:08:28.409356Z",
     "iopub.status.idle": "2025-06-02T01:08:30.814190Z",
     "shell.execute_reply": "2025-06-02T01:08:30.813078Z"
    },
    "executionInfo": {
     "elapsed": 1915,
     "status": "ok",
     "timestamp": 1748226869771,
     "user": {
      "displayName": "madgy85",
      "userId": "06303590710809156866"
     },
     "user_tz": 240
    },
    "id": "vcPfEdLkcIAE",
    "papermill": {
     "duration": 2.411406,
     "end_time": "2025-06-02T01:08:30.816068",
     "exception": false,
     "start_time": "2025-06-02T01:08:28.404662",
     "status": "completed"
    },
    "tags": []
   },
   "outputs": [],
   "source": [
    "# Step 1: Import necessary library\n",
    "import pandas as pd"
   ]
  },
  {
   "cell_type": "code",
   "execution_count": 3,
   "id": "5d43eb55",
   "metadata": {
    "execution": {
     "iopub.execute_input": "2025-06-02T01:08:30.826031Z",
     "iopub.status.busy": "2025-06-02T01:08:30.825588Z",
     "iopub.status.idle": "2025-06-02T01:08:31.127155Z",
     "shell.execute_reply": "2025-06-02T01:08:31.126077Z"
    },
    "executionInfo": {
     "elapsed": 456,
     "status": "ok",
     "timestamp": 1748227382238,
     "user": {
      "displayName": "madgy85",
      "userId": "06303590710809156866"
     },
     "user_tz": 240
    },
    "id": "rYOMLmeqcW6S",
    "outputId": "3b4b31d0-77d8-414e-81a0-3eb1c69f4546",
    "papermill": {
     "duration": 0.309015,
     "end_time": "2025-06-02T01:08:31.129023",
     "exception": false,
     "start_time": "2025-06-02T01:08:30.820008",
     "status": "completed"
    },
    "tags": []
   },
   "outputs": [
    {
     "data": {
      "text/html": [
       "<div>\n",
       "<style scoped>\n",
       "    .dataframe tbody tr th:only-of-type {\n",
       "        vertical-align: middle;\n",
       "    }\n",
       "\n",
       "    .dataframe tbody tr th {\n",
       "        vertical-align: top;\n",
       "    }\n",
       "\n",
       "    .dataframe thead th {\n",
       "        text-align: right;\n",
       "    }\n",
       "</style>\n",
       "<table border=\"1\" class=\"dataframe\">\n",
       "  <thead>\n",
       "    <tr style=\"text-align: right;\">\n",
       "      <th></th>\n",
       "      <th>id</th>\n",
       "      <th>Sex</th>\n",
       "      <th>Length</th>\n",
       "      <th>Diameter</th>\n",
       "      <th>Height</th>\n",
       "      <th>Whole weight</th>\n",
       "      <th>Whole weight.1</th>\n",
       "      <th>Whole weight.2</th>\n",
       "      <th>Shell weight</th>\n",
       "      <th>Rings</th>\n",
       "    </tr>\n",
       "  </thead>\n",
       "  <tbody>\n",
       "    <tr>\n",
       "      <th>0</th>\n",
       "      <td>0</td>\n",
       "      <td>F</td>\n",
       "      <td>0.550</td>\n",
       "      <td>0.430</td>\n",
       "      <td>0.150</td>\n",
       "      <td>0.7715</td>\n",
       "      <td>0.3285</td>\n",
       "      <td>0.1465</td>\n",
       "      <td>0.2400</td>\n",
       "      <td>11</td>\n",
       "    </tr>\n",
       "    <tr>\n",
       "      <th>1</th>\n",
       "      <td>1</td>\n",
       "      <td>F</td>\n",
       "      <td>0.630</td>\n",
       "      <td>0.490</td>\n",
       "      <td>0.145</td>\n",
       "      <td>1.1300</td>\n",
       "      <td>0.4580</td>\n",
       "      <td>0.2765</td>\n",
       "      <td>0.3200</td>\n",
       "      <td>11</td>\n",
       "    </tr>\n",
       "    <tr>\n",
       "      <th>2</th>\n",
       "      <td>2</td>\n",
       "      <td>I</td>\n",
       "      <td>0.160</td>\n",
       "      <td>0.110</td>\n",
       "      <td>0.025</td>\n",
       "      <td>0.0210</td>\n",
       "      <td>0.0055</td>\n",
       "      <td>0.0030</td>\n",
       "      <td>0.0050</td>\n",
       "      <td>6</td>\n",
       "    </tr>\n",
       "    <tr>\n",
       "      <th>3</th>\n",
       "      <td>3</td>\n",
       "      <td>M</td>\n",
       "      <td>0.595</td>\n",
       "      <td>0.475</td>\n",
       "      <td>0.150</td>\n",
       "      <td>0.9145</td>\n",
       "      <td>0.3755</td>\n",
       "      <td>0.2055</td>\n",
       "      <td>0.2500</td>\n",
       "      <td>10</td>\n",
       "    </tr>\n",
       "    <tr>\n",
       "      <th>4</th>\n",
       "      <td>4</td>\n",
       "      <td>I</td>\n",
       "      <td>0.555</td>\n",
       "      <td>0.425</td>\n",
       "      <td>0.130</td>\n",
       "      <td>0.7820</td>\n",
       "      <td>0.3695</td>\n",
       "      <td>0.1600</td>\n",
       "      <td>0.1975</td>\n",
       "      <td>9</td>\n",
       "    </tr>\n",
       "  </tbody>\n",
       "</table>\n",
       "</div>"
      ],
      "text/plain": [
       "   id Sex  Length  Diameter  Height  Whole weight  Whole weight.1  \\\n",
       "0   0   F   0.550     0.430   0.150        0.7715          0.3285   \n",
       "1   1   F   0.630     0.490   0.145        1.1300          0.4580   \n",
       "2   2   I   0.160     0.110   0.025        0.0210          0.0055   \n",
       "3   3   M   0.595     0.475   0.150        0.9145          0.3755   \n",
       "4   4   I   0.555     0.425   0.130        0.7820          0.3695   \n",
       "\n",
       "   Whole weight.2  Shell weight  Rings  \n",
       "0          0.1465        0.2400     11  \n",
       "1          0.2765        0.3200     11  \n",
       "2          0.0030        0.0050      6  \n",
       "3          0.2055        0.2500     10  \n",
       "4          0.1600        0.1975      9  "
      ]
     },
     "execution_count": 3,
     "metadata": {},
     "output_type": "execute_result"
    }
   ],
   "source": [
    "# Load the training and testing datasets\n",
    "train_df = pd.read_csv(\"/kaggle/input/playground-series-s4e4/train.csv\") \n",
    "test_df = pd.read_csv(\"/kaggle/input/playground-series-s4e4/test.csv\")\n",
    "\n",
    "# Display the first few rows of the training dataset\n",
    "train_df.head()"
   ]
  },
  {
   "cell_type": "code",
   "execution_count": 4,
   "id": "bf1dce4c",
   "metadata": {
    "execution": {
     "iopub.execute_input": "2025-06-02T01:08:31.138199Z",
     "iopub.status.busy": "2025-06-02T01:08:31.137874Z",
     "iopub.status.idle": "2025-06-02T01:08:33.465460Z",
     "shell.execute_reply": "2025-06-02T01:08:33.464189Z"
    },
    "executionInfo": {
     "elapsed": 854,
     "status": "ok",
     "timestamp": 1748228018151,
     "user": {
      "displayName": "madgy85",
      "userId": "06303590710809156866"
     },
     "user_tz": 240
    },
    "id": "Sfj1VrNue7sm",
    "papermill": {
     "duration": 2.334881,
     "end_time": "2025-06-02T01:08:33.467946",
     "exception": false,
     "start_time": "2025-06-02T01:08:31.133065",
     "status": "completed"
    },
    "tags": []
   },
   "outputs": [],
   "source": [
    "# Categorical: Sex (Male=M, Female=F, Infant=I)\n",
    "# Numerical: Length, Diameter, Height, Whole weight, Whole weight.1, Whole weight.2, Shell weight.\n",
    "# Target : Rings (This is the response variable we aim to predict)\n",
    "\n",
    "# Preprocessing: Convert categorical Sex to dummy variables.\n",
    "# Check for multicolinearity or duplicate features (Whole weight seems repeated).\n",
    "\n",
    "# (1) Encode the categorical variable sex.\n",
    "# (2) Build a regularized regression model (using Lasso) to perform feature selection.\n",
    "# (3) Interpret the model and check regression assumptions\n",
    "\n",
    "# Preprocessing and fitting a Laso regression model\n",
    "\n",
    "from sklearn.preprocessing import OneHotEncoder, StandardScaler\n",
    "from sklearn.linear_model import LassoCV\n",
    "from sklearn.pipeline import Pipeline\n",
    "from sklearn.compose import ColumnTransformer\n",
    "from sklearn.model_selection import train_test_split"
   ]
  },
  {
   "cell_type": "code",
   "execution_count": 5,
   "id": "8b2cca9c",
   "metadata": {
    "execution": {
     "iopub.execute_input": "2025-06-02T01:08:33.479332Z",
     "iopub.status.busy": "2025-06-02T01:08:33.478646Z",
     "iopub.status.idle": "2025-06-02T01:08:33.505045Z",
     "shell.execute_reply": "2025-06-02T01:08:33.503903Z"
    },
    "executionInfo": {
     "elapsed": 11,
     "status": "ok",
     "timestamp": 1748228035683,
     "user": {
      "displayName": "madgy85",
      "userId": "06303590710809156866"
     },
     "user_tz": 240
    },
    "id": "0H1jHAJTgqbV",
    "papermill": {
     "duration": 0.034168,
     "end_time": "2025-06-02T01:08:33.506915",
     "exception": false,
     "start_time": "2025-06-02T01:08:33.472747",
     "status": "completed"
    },
    "tags": []
   },
   "outputs": [],
   "source": [
    "# Define features and target\n",
    "X = train_df.drop(columns=[\"id\", \"Rings\"])\n",
    "y = train_df[\"Rings\"]"
   ]
  },
  {
   "cell_type": "code",
   "execution_count": 6,
   "id": "32472244",
   "metadata": {
    "execution": {
     "iopub.execute_input": "2025-06-02T01:08:33.517465Z",
     "iopub.status.busy": "2025-06-02T01:08:33.516099Z",
     "iopub.status.idle": "2025-06-02T01:08:33.522398Z",
     "shell.execute_reply": "2025-06-02T01:08:33.520895Z"
    },
    "executionInfo": {
     "elapsed": 14,
     "status": "ok",
     "timestamp": 1748228053118,
     "user": {
      "displayName": "madgy85",
      "userId": "06303590710809156866"
     },
     "user_tz": 240
    },
    "id": "lEhfEC9TguX9",
    "papermill": {
     "duration": 0.01363,
     "end_time": "2025-06-02T01:08:33.524433",
     "exception": false,
     "start_time": "2025-06-02T01:08:33.510803",
     "status": "completed"
    },
    "tags": []
   },
   "outputs": [],
   "source": [
    "# Identify categorical and numerical columns\n",
    "categorical_features = [\"Sex\"]\n",
    "numerical_features = [col for col in X.columns if col not in categorical_features]"
   ]
  },
  {
   "cell_type": "code",
   "execution_count": 7,
   "id": "9d13b517",
   "metadata": {
    "execution": {
     "iopub.execute_input": "2025-06-02T01:08:33.534753Z",
     "iopub.status.busy": "2025-06-02T01:08:33.533535Z",
     "iopub.status.idle": "2025-06-02T01:08:33.539455Z",
     "shell.execute_reply": "2025-06-02T01:08:33.538200Z"
    },
    "executionInfo": {
     "elapsed": 30,
     "status": "ok",
     "timestamp": 1748228071421,
     "user": {
      "displayName": "madgy85",
      "userId": "06303590710809156866"
     },
     "user_tz": 240
    },
    "id": "II05ZSfigy1k",
    "papermill": {
     "duration": 0.013865,
     "end_time": "2025-06-02T01:08:33.542387",
     "exception": false,
     "start_time": "2025-06-02T01:08:33.528522",
     "status": "completed"
    },
    "tags": []
   },
   "outputs": [],
   "source": [
    "# Define the preprocessing for numerical and categorical data\n",
    "preprocessor = ColumnTransformer(transformers=[\n",
    "    (\"num\", StandardScaler(), numerical_features),\n",
    "    (\"cat\", OneHotEncoder(drop='first'), categorical_features)\n",
    "])"
   ]
  },
  {
   "cell_type": "code",
   "execution_count": 8,
   "id": "8e1b5d3b",
   "metadata": {
    "execution": {
     "iopub.execute_input": "2025-06-02T01:08:33.553897Z",
     "iopub.status.busy": "2025-06-02T01:08:33.552252Z",
     "iopub.status.idle": "2025-06-02T01:08:33.560617Z",
     "shell.execute_reply": "2025-06-02T01:08:33.559345Z"
    },
    "papermill": {
     "duration": 0.016139,
     "end_time": "2025-06-02T01:08:33.562762",
     "exception": false,
     "start_time": "2025-06-02T01:08:33.546623",
     "status": "completed"
    },
    "tags": []
   },
   "outputs": [],
   "source": [
    "# Define the LassoCV regression pipeline\n",
    "lasso_pipeline = Pipeline(steps=[\n",
    "    (\"preprocessor\", preprocessor),\n",
    "    (\"regressor\", LassoCV(cv=5, random_state=42))\n",
    "])"
   ]
  },
  {
   "cell_type": "code",
   "execution_count": 9,
   "id": "f7e0984d",
   "metadata": {
    "execution": {
     "iopub.execute_input": "2025-06-02T01:08:33.571673Z",
     "iopub.status.busy": "2025-06-02T01:08:33.571343Z",
     "iopub.status.idle": "2025-06-02T01:08:34.636821Z",
     "shell.execute_reply": "2025-06-02T01:08:34.635905Z"
    },
    "papermill": {
     "duration": 1.072103,
     "end_time": "2025-06-02T01:08:34.638846",
     "exception": false,
     "start_time": "2025-06-02T01:08:33.566743",
     "status": "completed"
    },
    "tags": []
   },
   "outputs": [
    {
     "data": {
      "text/html": [
       "<style>#sk-container-id-1 {color: black;background-color: white;}#sk-container-id-1 pre{padding: 0;}#sk-container-id-1 div.sk-toggleable {background-color: white;}#sk-container-id-1 label.sk-toggleable__label {cursor: pointer;display: block;width: 100%;margin-bottom: 0;padding: 0.3em;box-sizing: border-box;text-align: center;}#sk-container-id-1 label.sk-toggleable__label-arrow:before {content: \"▸\";float: left;margin-right: 0.25em;color: #696969;}#sk-container-id-1 label.sk-toggleable__label-arrow:hover:before {color: black;}#sk-container-id-1 div.sk-estimator:hover label.sk-toggleable__label-arrow:before {color: black;}#sk-container-id-1 div.sk-toggleable__content {max-height: 0;max-width: 0;overflow: hidden;text-align: left;background-color: #f0f8ff;}#sk-container-id-1 div.sk-toggleable__content pre {margin: 0.2em;color: black;border-radius: 0.25em;background-color: #f0f8ff;}#sk-container-id-1 input.sk-toggleable__control:checked~div.sk-toggleable__content {max-height: 200px;max-width: 100%;overflow: auto;}#sk-container-id-1 input.sk-toggleable__control:checked~label.sk-toggleable__label-arrow:before {content: \"▾\";}#sk-container-id-1 div.sk-estimator input.sk-toggleable__control:checked~label.sk-toggleable__label {background-color: #d4ebff;}#sk-container-id-1 div.sk-label input.sk-toggleable__control:checked~label.sk-toggleable__label {background-color: #d4ebff;}#sk-container-id-1 input.sk-hidden--visually {border: 0;clip: rect(1px 1px 1px 1px);clip: rect(1px, 1px, 1px, 1px);height: 1px;margin: -1px;overflow: hidden;padding: 0;position: absolute;width: 1px;}#sk-container-id-1 div.sk-estimator {font-family: monospace;background-color: #f0f8ff;border: 1px dotted black;border-radius: 0.25em;box-sizing: border-box;margin-bottom: 0.5em;}#sk-container-id-1 div.sk-estimator:hover {background-color: #d4ebff;}#sk-container-id-1 div.sk-parallel-item::after {content: \"\";width: 100%;border-bottom: 1px solid gray;flex-grow: 1;}#sk-container-id-1 div.sk-label:hover label.sk-toggleable__label {background-color: #d4ebff;}#sk-container-id-1 div.sk-serial::before {content: \"\";position: absolute;border-left: 1px solid gray;box-sizing: border-box;top: 0;bottom: 0;left: 50%;z-index: 0;}#sk-container-id-1 div.sk-serial {display: flex;flex-direction: column;align-items: center;background-color: white;padding-right: 0.2em;padding-left: 0.2em;position: relative;}#sk-container-id-1 div.sk-item {position: relative;z-index: 1;}#sk-container-id-1 div.sk-parallel {display: flex;align-items: stretch;justify-content: center;background-color: white;position: relative;}#sk-container-id-1 div.sk-item::before, #sk-container-id-1 div.sk-parallel-item::before {content: \"\";position: absolute;border-left: 1px solid gray;box-sizing: border-box;top: 0;bottom: 0;left: 50%;z-index: -1;}#sk-container-id-1 div.sk-parallel-item {display: flex;flex-direction: column;z-index: 1;position: relative;background-color: white;}#sk-container-id-1 div.sk-parallel-item:first-child::after {align-self: flex-end;width: 50%;}#sk-container-id-1 div.sk-parallel-item:last-child::after {align-self: flex-start;width: 50%;}#sk-container-id-1 div.sk-parallel-item:only-child::after {width: 0;}#sk-container-id-1 div.sk-dashed-wrapped {border: 1px dashed gray;margin: 0 0.4em 0.5em 0.4em;box-sizing: border-box;padding-bottom: 0.4em;background-color: white;}#sk-container-id-1 div.sk-label label {font-family: monospace;font-weight: bold;display: inline-block;line-height: 1.2em;}#sk-container-id-1 div.sk-label-container {text-align: center;}#sk-container-id-1 div.sk-container {/* jupyter's `normalize.less` sets `[hidden] { display: none; }` but bootstrap.min.css set `[hidden] { display: none !important; }` so we also need the `!important` here to be able to override the default hidden behavior on the sphinx rendered scikit-learn.org. See: https://github.com/scikit-learn/scikit-learn/issues/21755 */display: inline-block !important;position: relative;}#sk-container-id-1 div.sk-text-repr-fallback {display: none;}</style><div id=\"sk-container-id-1\" class=\"sk-top-container\"><div class=\"sk-text-repr-fallback\"><pre>Pipeline(steps=[(&#x27;preprocessor&#x27;,\n",
       "                 ColumnTransformer(transformers=[(&#x27;num&#x27;, StandardScaler(),\n",
       "                                                  [&#x27;Length&#x27;, &#x27;Diameter&#x27;,\n",
       "                                                   &#x27;Height&#x27;, &#x27;Whole weight&#x27;,\n",
       "                                                   &#x27;Whole weight.1&#x27;,\n",
       "                                                   &#x27;Whole weight.2&#x27;,\n",
       "                                                   &#x27;Shell weight&#x27;]),\n",
       "                                                 (&#x27;cat&#x27;,\n",
       "                                                  OneHotEncoder(drop=&#x27;first&#x27;),\n",
       "                                                  [&#x27;Sex&#x27;])])),\n",
       "                (&#x27;regressor&#x27;, LassoCV(cv=5, random_state=42))])</pre><b>In a Jupyter environment, please rerun this cell to show the HTML representation or trust the notebook. <br />On GitHub, the HTML representation is unable to render, please try loading this page with nbviewer.org.</b></div><div class=\"sk-container\" hidden><div class=\"sk-item sk-dashed-wrapped\"><div class=\"sk-label-container\"><div class=\"sk-label sk-toggleable\"><input class=\"sk-toggleable__control sk-hidden--visually\" id=\"sk-estimator-id-1\" type=\"checkbox\" ><label for=\"sk-estimator-id-1\" class=\"sk-toggleable__label sk-toggleable__label-arrow\">Pipeline</label><div class=\"sk-toggleable__content\"><pre>Pipeline(steps=[(&#x27;preprocessor&#x27;,\n",
       "                 ColumnTransformer(transformers=[(&#x27;num&#x27;, StandardScaler(),\n",
       "                                                  [&#x27;Length&#x27;, &#x27;Diameter&#x27;,\n",
       "                                                   &#x27;Height&#x27;, &#x27;Whole weight&#x27;,\n",
       "                                                   &#x27;Whole weight.1&#x27;,\n",
       "                                                   &#x27;Whole weight.2&#x27;,\n",
       "                                                   &#x27;Shell weight&#x27;]),\n",
       "                                                 (&#x27;cat&#x27;,\n",
       "                                                  OneHotEncoder(drop=&#x27;first&#x27;),\n",
       "                                                  [&#x27;Sex&#x27;])])),\n",
       "                (&#x27;regressor&#x27;, LassoCV(cv=5, random_state=42))])</pre></div></div></div><div class=\"sk-serial\"><div class=\"sk-item sk-dashed-wrapped\"><div class=\"sk-label-container\"><div class=\"sk-label sk-toggleable\"><input class=\"sk-toggleable__control sk-hidden--visually\" id=\"sk-estimator-id-2\" type=\"checkbox\" ><label for=\"sk-estimator-id-2\" class=\"sk-toggleable__label sk-toggleable__label-arrow\">preprocessor: ColumnTransformer</label><div class=\"sk-toggleable__content\"><pre>ColumnTransformer(transformers=[(&#x27;num&#x27;, StandardScaler(),\n",
       "                                 [&#x27;Length&#x27;, &#x27;Diameter&#x27;, &#x27;Height&#x27;,\n",
       "                                  &#x27;Whole weight&#x27;, &#x27;Whole weight.1&#x27;,\n",
       "                                  &#x27;Whole weight.2&#x27;, &#x27;Shell weight&#x27;]),\n",
       "                                (&#x27;cat&#x27;, OneHotEncoder(drop=&#x27;first&#x27;), [&#x27;Sex&#x27;])])</pre></div></div></div><div class=\"sk-parallel\"><div class=\"sk-parallel-item\"><div class=\"sk-item\"><div class=\"sk-label-container\"><div class=\"sk-label sk-toggleable\"><input class=\"sk-toggleable__control sk-hidden--visually\" id=\"sk-estimator-id-3\" type=\"checkbox\" ><label for=\"sk-estimator-id-3\" class=\"sk-toggleable__label sk-toggleable__label-arrow\">num</label><div class=\"sk-toggleable__content\"><pre>[&#x27;Length&#x27;, &#x27;Diameter&#x27;, &#x27;Height&#x27;, &#x27;Whole weight&#x27;, &#x27;Whole weight.1&#x27;, &#x27;Whole weight.2&#x27;, &#x27;Shell weight&#x27;]</pre></div></div></div><div class=\"sk-serial\"><div class=\"sk-item\"><div class=\"sk-estimator sk-toggleable\"><input class=\"sk-toggleable__control sk-hidden--visually\" id=\"sk-estimator-id-4\" type=\"checkbox\" ><label for=\"sk-estimator-id-4\" class=\"sk-toggleable__label sk-toggleable__label-arrow\">StandardScaler</label><div class=\"sk-toggleable__content\"><pre>StandardScaler()</pre></div></div></div></div></div></div><div class=\"sk-parallel-item\"><div class=\"sk-item\"><div class=\"sk-label-container\"><div class=\"sk-label sk-toggleable\"><input class=\"sk-toggleable__control sk-hidden--visually\" id=\"sk-estimator-id-5\" type=\"checkbox\" ><label for=\"sk-estimator-id-5\" class=\"sk-toggleable__label sk-toggleable__label-arrow\">cat</label><div class=\"sk-toggleable__content\"><pre>[&#x27;Sex&#x27;]</pre></div></div></div><div class=\"sk-serial\"><div class=\"sk-item\"><div class=\"sk-estimator sk-toggleable\"><input class=\"sk-toggleable__control sk-hidden--visually\" id=\"sk-estimator-id-6\" type=\"checkbox\" ><label for=\"sk-estimator-id-6\" class=\"sk-toggleable__label sk-toggleable__label-arrow\">OneHotEncoder</label><div class=\"sk-toggleable__content\"><pre>OneHotEncoder(drop=&#x27;first&#x27;)</pre></div></div></div></div></div></div></div></div><div class=\"sk-item\"><div class=\"sk-estimator sk-toggleable\"><input class=\"sk-toggleable__control sk-hidden--visually\" id=\"sk-estimator-id-7\" type=\"checkbox\" ><label for=\"sk-estimator-id-7\" class=\"sk-toggleable__label sk-toggleable__label-arrow\">LassoCV</label><div class=\"sk-toggleable__content\"><pre>LassoCV(cv=5, random_state=42)</pre></div></div></div></div></div></div></div>"
      ],
      "text/plain": [
       "Pipeline(steps=[('preprocessor',\n",
       "                 ColumnTransformer(transformers=[('num', StandardScaler(),\n",
       "                                                  ['Length', 'Diameter',\n",
       "                                                   'Height', 'Whole weight',\n",
       "                                                   'Whole weight.1',\n",
       "                                                   'Whole weight.2',\n",
       "                                                   'Shell weight']),\n",
       "                                                 ('cat',\n",
       "                                                  OneHotEncoder(drop='first'),\n",
       "                                                  ['Sex'])])),\n",
       "                ('regressor', LassoCV(cv=5, random_state=42))])"
      ]
     },
     "execution_count": 9,
     "metadata": {},
     "output_type": "execute_result"
    }
   ],
   "source": [
    "# Fit the model\n",
    "lasso_pipeline.fit(X, y)"
   ]
  },
  {
   "cell_type": "code",
   "execution_count": 10,
   "id": "aacb6c6e",
   "metadata": {
    "execution": {
     "iopub.execute_input": "2025-06-02T01:08:34.654711Z",
     "iopub.status.busy": "2025-06-02T01:08:34.654182Z",
     "iopub.status.idle": "2025-06-02T01:08:34.662319Z",
     "shell.execute_reply": "2025-06-02T01:08:34.661542Z"
    },
    "papermill": {
     "duration": 0.018598,
     "end_time": "2025-06-02T01:08:34.664565",
     "exception": false,
     "start_time": "2025-06-02T01:08:34.645967",
     "status": "completed"
    },
    "tags": []
   },
   "outputs": [],
   "source": [
    "# Retrieve coefficients and feature names\n",
    "feature_names = (\n",
    "    numerical_features + \n",
    "    list(lasso_pipeline.named_steps[\"preprocessor\"].named_transformers_[\"cat\"].get_feature_names_out([\"Sex\"]))\n",
    ")\n",
    "coefficients = lasso_pipeline.named_steps[\"regressor\"].coef_"
   ]
  },
  {
   "cell_type": "code",
   "execution_count": 11,
   "id": "e8d2b7af",
   "metadata": {
    "execution": {
     "iopub.execute_input": "2025-06-02T01:08:34.680511Z",
     "iopub.status.busy": "2025-06-02T01:08:34.680151Z",
     "iopub.status.idle": "2025-06-02T01:08:34.694953Z",
     "shell.execute_reply": "2025-06-02T01:08:34.694118Z"
    },
    "papermill": {
     "duration": 0.024944,
     "end_time": "2025-06-02T01:08:34.697038",
     "exception": false,
     "start_time": "2025-06-02T01:08:34.672094",
     "status": "completed"
    },
    "tags": []
   },
   "outputs": [
    {
     "name": "stdout",
     "output_type": "stream",
     "text": [
      "          Feature  Coefficient\n",
      "4  Whole weight.1    -3.155410\n",
      "6    Shell weight     2.747700\n",
      "3    Whole weight     1.528500\n",
      "2          Height     0.797716\n",
      "7           Sex_I    -0.698571\n",
      "5  Whole weight.2    -0.625385\n",
      "1        Diameter     0.589235\n",
      "0          Length    -0.037121\n",
      "8           Sex_M    -0.000000\n"
     ]
    }
   ],
   "source": [
    "# Combine into a DataFrame\n",
    "coef_df = pd.DataFrame({\n",
    "    \"Feature\": feature_names,\n",
    "    \"Coefficient\": coefficients\n",
    "}).sort_values(by=\"Coefficient\", key=abs, ascending=False)\n",
    "\n",
    "print (coef_df)"
   ]
  },
  {
   "cell_type": "markdown",
   "id": "6f1c6a36",
   "metadata": {
    "papermill": {
     "duration": 0.006156,
     "end_time": "2025-06-02T01:08:34.710203",
     "exception": false,
     "start_time": "2025-06-02T01:08:34.704047",
     "status": "completed"
    },
    "tags": []
   },
   "source": [
    "The Lasso regression model has selected and assigned non-zero coefficients to a subset of features. \n",
    "Top Positive Predictors:\n",
    "* Shell weight and Whole weight suggest heavier specimens tend to have more rings, which aligns with the idea that older abalones are larger and heavier.\n",
    "* Height is also positively associated with ring count.\n",
    "\n",
    "Top Negative Predictors:\n",
    "* Whole weight.1: This component of weight negatively correlates with ring count, possibly reflecting a distribution of mass in younger abalones.\n",
    "* Sex_I (Infants): Being classified as an infant is associated with fewer rings (younger age), as expected."
   ]
  },
  {
   "cell_type": "code",
   "execution_count": 12,
   "id": "8a5b573c",
   "metadata": {
    "execution": {
     "iopub.execute_input": "2025-06-02T01:08:34.724404Z",
     "iopub.status.busy": "2025-06-02T01:08:34.724041Z",
     "iopub.status.idle": "2025-06-02T01:08:37.714550Z",
     "shell.execute_reply": "2025-06-02T01:08:37.713506Z"
    },
    "papermill": {
     "duration": 2.999385,
     "end_time": "2025-06-02T01:08:37.716107",
     "exception": false,
     "start_time": "2025-06-02T01:08:34.716722",
     "status": "completed"
    },
    "tags": []
   },
   "outputs": [
    {
     "data": {
      "image/png": "[encoded data removed]",
      "text/plain": [
       "<Figure size 600x400 with 1 Axes>"
      ]
     },
     "metadata": {},
     "output_type": "display_data"
    },
    {
     "name": "stderr",
     "output_type": "stream",
     "text": [
      "/usr/local/lib/python3.11/dist-packages/seaborn/_oldcore.py:1119: FutureWarning: use_inf_as_na option is deprecated and will be removed in a future version. Convert inf values to NaN before operating instead.\n",
      "  with pd.option_context('mode.use_inf_as_na', True):\n"
     ]
    },
    {
     "data": {
      "image/png": "[encoded data removed]",
      "text/plain": [
       "<Figure size 600x400 with 1 Axes>"
      ]
     },
     "metadata": {},
     "output_type": "display_data"
    },
    {
     "data": {
      "image/png": "[encoded data removed]",
      "text/plain": [
       "<Figure size 600x400 with 1 Axes>"
      ]
     },
     "metadata": {},
     "output_type": "display_data"
    }
   ],
   "source": [
    "# Check regression assumptions (normality, homoscedasticity, outliers).\n",
    "# Visualize residuals to validate the model.\n",
    "\n",
    "import matplotlib.pyplot as plt\n",
    "import seaborn as sns\n",
    "import numpy as np\n",
    "from sklearn.metrics import mean_squared_error\n",
    "\n",
    "# Predict on training data\n",
    "y_pred = lasso_pipeline.predict(X)\n",
    "residuals = y - y_pred\n",
    "\n",
    "# Plot residuals vs fitted values\n",
    "plt.figure(figsize=(6, 4))\n",
    "sns.scatterplot(x=y_pred, y=residuals)\n",
    "plt.axhline(0, color='red', linestyle='--')\n",
    "plt.xlabel(\"Fitted values\")\n",
    "plt.ylabel(\"Residuals\")\n",
    "plt.title(\"Residuals vs Fitted Values\")\n",
    "plt.tight_layout()\n",
    "plt.show()\n",
    "\n",
    "# Histogram of residuals\n",
    "plt.figure(figsize=(6, 4))\n",
    "sns.histplot(residuals, kde=True)\n",
    "plt.title(\"Histogram of Residuals\")\n",
    "plt.xlabel(\"Residuals\")\n",
    "plt.tight_layout()\n",
    "plt.show()\n",
    "\n",
    "# Q-Q plot for residuals\n",
    "from scipy import stats\n",
    "plt.figure(figsize=(6, 4))\n",
    "stats.probplot(residuals, dist=\"norm\", plot=plt)\n",
    "plt.title(\"Q-Q Plot of Residuals\")\n",
    "plt.tight_layout()\n",
    "plt.show()"
   ]
  },
  {
   "cell_type": "markdown",
   "id": "30a499aa",
   "metadata": {
    "papermill": {
     "duration": 0.006255,
     "end_time": "2025-06-02T01:08:37.729591",
     "exception": false,
     "start_time": "2025-06-02T01:08:37.723336",
     "status": "completed"
    },
    "tags": []
   },
   "source": [
    "For the plot of Residuals vs. Fitted Values, the residuals appear fairly evenly scattered around zero, which suggests the assumption of linearity and no major heteroscedasticity (non-constant variance) is reasonably met. However, slight funneling toward higher fitted values may suggest mild heteroscedasticity. \n",
    "\n",
    "For the plot of Histogram of Residuals, the residuals show a somewhat bell-shaped distribution but exhibit moderate skewness. This indicates mild deviation from normality, which is not uncommon in real-world data. \n",
    "\n",
    "For the Quantile(Q)-Quantile(Q) plot, most points lie along the diagonal reference line, indicating approximate normality. Some deviations at the tails suggest possible outliers or slight non-normality.\n",
    "\n",
    "It looks like Lasso effectively selected a few influential features, simplifying the model while retaining predictive power. The important predictors (Shell weight, Whole weight, and Height) are positively associated with ring count. Also, being an Infant and having a higher Whole weight.1 are negatively associated. \n",
    "\n",
    "The overall assumption is that the residuals are approximately normal, and the variance appears to be mostly constant."
   ]
  },
  {
   "cell_type": "code",
   "execution_count": 13,
   "id": "c99481e9",
   "metadata": {
    "execution": {
     "iopub.execute_input": "2025-06-02T01:08:37.743951Z",
     "iopub.status.busy": "2025-06-02T01:08:37.743474Z",
     "iopub.status.idle": "2025-06-02T01:08:37.798262Z",
     "shell.execute_reply": "2025-06-02T01:08:37.797082Z"
    },
    "papermill": {
     "duration": 0.064148,
     "end_time": "2025-06-02T01:08:37.800011",
     "exception": false,
     "start_time": "2025-06-02T01:08:37.735863",
     "status": "completed"
    },
    "tags": []
   },
   "outputs": [
    {
     "data": {
      "text/html": [
       "<div>\n",
       "<style scoped>\n",
       "    .dataframe tbody tr th:only-of-type {\n",
       "        vertical-align: middle;\n",
       "    }\n",
       "\n",
       "    .dataframe tbody tr th {\n",
       "        vertical-align: top;\n",
       "    }\n",
       "\n",
       "    .dataframe thead th {\n",
       "        text-align: right;\n",
       "    }\n",
       "</style>\n",
       "<table border=\"1\" class=\"dataframe\">\n",
       "  <thead>\n",
       "    <tr style=\"text-align: right;\">\n",
       "      <th></th>\n",
       "      <th>id</th>\n",
       "      <th>Rings</th>\n",
       "    </tr>\n",
       "  </thead>\n",
       "  <tbody>\n",
       "    <tr>\n",
       "      <th>0</th>\n",
       "      <td>90615</td>\n",
       "      <td>8.662825</td>\n",
       "    </tr>\n",
       "    <tr>\n",
       "      <th>1</th>\n",
       "      <td>90616</td>\n",
       "      <td>10.045565</td>\n",
       "    </tr>\n",
       "    <tr>\n",
       "      <th>2</th>\n",
       "      <td>90617</td>\n",
       "      <td>10.346088</td>\n",
       "    </tr>\n",
       "    <tr>\n",
       "      <th>3</th>\n",
       "      <td>90618</td>\n",
       "      <td>10.855420</td>\n",
       "    </tr>\n",
       "    <tr>\n",
       "      <th>4</th>\n",
       "      <td>90619</td>\n",
       "      <td>7.762872</td>\n",
       "    </tr>\n",
       "  </tbody>\n",
       "</table>\n",
       "</div>"
      ],
      "text/plain": [
       "      id      Rings\n",
       "0  90615   8.662825\n",
       "1  90616  10.045565\n",
       "2  90617  10.346088\n",
       "3  90618  10.855420\n",
       "4  90619   7.762872"
      ]
     },
     "execution_count": 13,
     "metadata": {},
     "output_type": "execute_result"
    }
   ],
   "source": [
    "# Prepare test set features (excluding 'id')\n",
    "X_test = test_df.drop(columns=[\"id\"])\n",
    "\n",
    "# Generate predictions\n",
    "test_predictions = lasso_pipeline.predict(X_test)\n",
    "test_predictions_clipped = test_predictions.clip(min=0)\n",
    "\n",
    "# Prepare submission DataFrame\n",
    "submission_df = pd.DataFrame({\n",
    "    \"id\": test_df[\"id\"],\n",
    "    \"Rings\": test_predictions_clipped\n",
    "})\n",
    "\n",
    "submission_df.head()"
   ]
  }
 ],
 "metadata": {
  "colab": {
   "authorship_tag": "ABX9TyP4Zq88V3OiCvw4iW7Ma5FE",
   "provenance": []
  },
  "kaggle": {
   "accelerator": "none",
   "dataSources": [
    {
     "databundleVersionId": 8096274,
     "sourceId": 72489,
     "sourceType": "competition"
    }
   ],
   "dockerImageVersionId": 31040,
   "isGpuEnabled": false,
   "isInternetEnabled": false,
   "language": "python",
   "sourceType": "notebook"
  },
  "kernelspec": {
   "display_name": "Python 3",
   "language": "python",
   "name": "python3"
  },
  "language_info": {
   "codemirror_mode": {
    "name": "ipython",
    "version": 3
   },
   "file_extension": ".py",
   "mimetype": "text/x-python",
   "name": "python",
   "nbconvert_exporter": "python",
   "pygments_lexer": "ipython3",
   "version": "3.11.11"
  },
  "papermill": {
   "default_parameters": {},
   "duration": 15.859456,
   "end_time": "2025-06-02T01:08:38.631122",
   "environment_variables": {},
   "exception": null,
   "input_path": "__notebook__.ipynb",
   "output_path": "__notebook__.ipynb",
   "parameters": {},
   "start_time": "2025-06-02T01:08:22.771666",
   "version": "2.6.0"
  }
 },
 "nbformat": 4,
 "nbformat_minor": 5
}
