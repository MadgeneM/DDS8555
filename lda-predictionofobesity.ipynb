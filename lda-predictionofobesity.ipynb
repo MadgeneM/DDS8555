{
 "cells": [
  {
   "cell_type": "code",
   "execution_count": 1,
   "id": "052d6e36",
   "metadata": {
    "_cell_guid": "b1076dfc-b9ad-4769-8c92-a6c4dae69d19",
    "_uuid": "8f2839f25d086af736a60e9eeb907d3b93b6e0e5",
    "execution": {
     "iopub.execute_input": "2025-06-16T06:01:53.638086Z",
     "iopub.status.busy": "2025-06-16T06:01:53.637792Z",
     "iopub.status.idle": "2025-06-16T06:01:53.642785Z",
     "shell.execute_reply": "2025-06-16T06:01:53.641942Z"
    },
    "papermill": {
     "duration": 0.010799,
     "end_time": "2025-06-16T06:01:53.644222",
     "exception": false,
     "start_time": "2025-06-16T06:01:53.633423",
     "status": "completed"
    },
    "tags": []
   },
   "outputs": [],
   "source": [
    "#-----------------------------------------\n",
    "# Title:  Linear Discriminant Analysis (LDA) Multi-Class Prediction of Obesity Risk Dataset\n",
    "# Subtitle: DDS-8555, Assignment 5\n",
    "# Author: Madgene Moise\n",
    "# Date: Sunday, June 15, 2025\n",
    "#-----------------------------------------"
   ]
  },
  {
   "cell_type": "code",
   "execution_count": 2,
   "id": "ba82e24a",
   "metadata": {
    "execution": {
     "iopub.execute_input": "2025-06-16T06:01:53.650586Z",
     "iopub.status.busy": "2025-06-16T06:01:53.650055Z",
     "iopub.status.idle": "2025-06-16T06:01:55.965521Z",
     "shell.execute_reply": "2025-06-16T06:01:55.964492Z"
    },
    "papermill": {
     "duration": 2.31994,
     "end_time": "2025-06-16T06:01:55.967067",
     "exception": false,
     "start_time": "2025-06-16T06:01:53.647127",
     "status": "completed"
    },
    "tags": []
   },
   "outputs": [
    {
     "name": "stdout",
     "output_type": "stream",
     "text": [
      "<class 'pandas.core.frame.DataFrame'>\n",
      "RangeIndex: 20758 entries, 0 to 20757\n",
      "Data columns (total 18 columns):\n",
      " #   Column                          Non-Null Count  Dtype  \n",
      "---  ------                          --------------  -----  \n",
      " 0   id                              20758 non-null  int64  \n",
      " 1   Gender                          20758 non-null  object \n",
      " 2   Age                             20758 non-null  float64\n",
      " 3   Height                          20758 non-null  float64\n",
      " 4   Weight                          20758 non-null  float64\n",
      " 5   family_history_with_overweight  20758 non-null  object \n",
      " 6   FAVC                            20758 non-null  object \n",
      " 7   FCVC                            20758 non-null  float64\n",
      " 8   NCP                             20758 non-null  float64\n",
      " 9   CAEC                            20758 non-null  object \n",
      " 10  SMOKE                           20758 non-null  object \n",
      " 11  CH2O                            20758 non-null  float64\n",
      " 12  SCC                             20758 non-null  object \n",
      " 13  FAF                             20758 non-null  float64\n",
      " 14  TUE                             20758 non-null  float64\n",
      " 15  CALC                            20758 non-null  object \n",
      " 16  MTRANS                          20758 non-null  object \n",
      " 17  NObeyesdad                      20758 non-null  object \n",
      "dtypes: float64(8), int64(1), object(9)\n",
      "memory usage: 2.9+ MB\n",
      "<class 'pandas.core.frame.DataFrame'>\n",
      "RangeIndex: 13840 entries, 0 to 13839\n",
      "Data columns (total 17 columns):\n",
      " #   Column                          Non-Null Count  Dtype  \n",
      "---  ------                          --------------  -----  \n",
      " 0   id                              13840 non-null  int64  \n",
      " 1   Gender                          13840 non-null  object \n",
      " 2   Age                             13840 non-null  float64\n",
      " 3   Height                          13840 non-null  float64\n",
      " 4   Weight                          13840 non-null  float64\n",
      " 5   family_history_with_overweight  13840 non-null  object \n",
      " 6   FAVC                            13840 non-null  object \n",
      " 7   FCVC                            13840 non-null  float64\n",
      " 8   NCP                             13840 non-null  float64\n",
      " 9   CAEC                            13840 non-null  object \n",
      " 10  SMOKE                           13840 non-null  object \n",
      " 11  CH2O                            13840 non-null  float64\n",
      " 12  SCC                             13840 non-null  object \n",
      " 13  FAF                             13840 non-null  float64\n",
      " 14  TUE                             13840 non-null  float64\n",
      " 15  CALC                            13840 non-null  object \n",
      " 16  MTRANS                          13840 non-null  object \n",
      "dtypes: float64(8), int64(1), object(8)\n",
      "memory usage: 1.8+ MB\n"
     ]
    },
    {
     "data": {
      "text/plain": [
       "(None,\n",
       "    id  Gender        Age    Height      Weight family_history_with_overweight  \\\n",
       " 0   0    Male  24.443011  1.699998   81.669950                            yes   \n",
       " 1   1  Female  18.000000  1.560000   57.000000                            yes   \n",
       " 2   2  Female  18.000000  1.711460   50.165754                            yes   \n",
       " 3   3  Female  20.952737  1.710730  131.274851                            yes   \n",
       " 4   4    Male  31.641081  1.914186   93.798055                            yes   \n",
       " \n",
       "   FAVC      FCVC       NCP        CAEC SMOKE      CH2O SCC       FAF  \\\n",
       " 0  yes  2.000000  2.983297   Sometimes    no  2.763573  no  0.000000   \n",
       " 1  yes  2.000000  3.000000  Frequently    no  2.000000  no  1.000000   \n",
       " 2  yes  1.880534  1.411685   Sometimes    no  1.910378  no  0.866045   \n",
       " 3  yes  3.000000  3.000000   Sometimes    no  1.674061  no  1.467863   \n",
       " 4  yes  2.679664  1.971472   Sometimes    no  1.979848  no  1.967973   \n",
       " \n",
       "         TUE       CALC                 MTRANS           NObeyesdad  \n",
       " 0  0.976473  Sometimes  Public_Transportation  Overweight_Level_II  \n",
       " 1  1.000000         no             Automobile        Normal_Weight  \n",
       " 2  1.673584         no  Public_Transportation  Insufficient_Weight  \n",
       " 3  0.780199  Sometimes  Public_Transportation     Obesity_Type_III  \n",
       " 4  0.931721  Sometimes  Public_Transportation  Overweight_Level_II  ,\n",
       " None,\n",
       "       id  Gender        Age    Height      Weight  \\\n",
       " 0  20758    Male  26.899886  1.848294  120.644178   \n",
       " 1  20759  Female  21.000000  1.600000   66.000000   \n",
       " 2  20760  Female  26.000000  1.643355  111.600553   \n",
       " 3  20761    Male  20.979254  1.553127  103.669116   \n",
       " 4  20762  Female  26.000000  1.627396  104.835346   \n",
       " \n",
       "   family_history_with_overweight FAVC      FCVC       NCP       CAEC SMOKE  \\\n",
       " 0                            yes  yes  2.938616  3.000000  Sometimes    no   \n",
       " 1                            yes  yes  2.000000  1.000000  Sometimes    no   \n",
       " 2                            yes  yes  3.000000  3.000000  Sometimes    no   \n",
       " 3                            yes  yes  2.000000  2.977909  Sometimes    no   \n",
       " 4                            yes  yes  3.000000  3.000000  Sometimes    no   \n",
       " \n",
       "        CH2O SCC       FAF       TUE       CALC                 MTRANS  \n",
       " 0  2.825629  no  0.855400  0.000000  Sometimes  Public_Transportation  \n",
       " 1  3.000000  no  1.000000  0.000000  Sometimes  Public_Transportation  \n",
       " 2  2.621877  no  0.000000  0.250502  Sometimes  Public_Transportation  \n",
       " 3  2.786417  no  0.094851  0.000000  Sometimes  Public_Transportation  \n",
       " 4  2.653531  no  0.000000  0.741069  Sometimes  Public_Transportation  )"
      ]
     },
     "execution_count": 2,
     "metadata": {},
     "output_type": "execute_result"
    }
   ],
   "source": [
    "import pandas as pd\n",
    "\n",
    "# Load the training and testing datasets\n",
    "\n",
    "train_df = pd.read_csv(\"/kaggle/input/playground-series-s4e2/train.csv\") \n",
    "test_df = pd.read_csv(\"/kaggle/input/playground-series-s4e2/test.csv\")\n",
    "\n",
    "# Display basic information about the datasets\n",
    "train_df.info(), train_df.head(), test_df.info(), test_df.head()"
   ]
  },
  {
   "cell_type": "code",
   "execution_count": 3,
   "id": "f203dfcb",
   "metadata": {
    "execution": {
     "iopub.execute_input": "2025-06-16T06:01:55.973163Z",
     "iopub.status.busy": "2025-06-16T06:01:55.972893Z",
     "iopub.status.idle": "2025-06-16T06:01:58.179755Z",
     "shell.execute_reply": "2025-06-16T06:01:58.178945Z"
    },
    "papermill": {
     "duration": 2.211566,
     "end_time": "2025-06-16T06:01:58.181320",
     "exception": false,
     "start_time": "2025-06-16T06:01:55.969754",
     "status": "completed"
    },
    "tags": []
   },
   "outputs": [],
   "source": [
    "from sklearn.preprocessing import LabelEncoder\n",
    "from sklearn.discriminant_analysis import LinearDiscriminantAnalysis\n",
    "from sklearn.metrics import classification_report, confusion_matrix\n",
    "import numpy as np\n",
    "\n",
    "# Combine train and test for consistent encoding\n",
    "combined_df = pd.concat([train_df.drop('NObeyesdad', axis=1), test_df], axis=0)\n",
    "\n",
    "# Encode categorical variables\n",
    "categorical_cols = combined_df.select_dtypes(include=['object']).columns.tolist()\n",
    "categorical_cols.remove('NObeyesdad') if 'NObeyesdad' in categorical_cols else None\n",
    "\n",
    "# Encode all categorical variables including target\n",
    "label_encoders = {}\n",
    "for col in categorical_cols:\n",
    "    le = LabelEncoder()\n",
    "    combined_df[col] = le.fit_transform(combined_df[col])\n",
    "    label_encoders[col] = le\n",
    "\n",
    "# Split back\n",
    "X_train = combined_df.iloc[:train_df.shape[0], :].copy()\n",
    "X_test = combined_df.iloc[train_df.shape[0]:, :].copy()\n",
    "y_train = LabelEncoder().fit_transform(train_df['NObeyesdad'])\n",
    "\n",
    "# Drop id columns (not predictive)\n",
    "X_train = X_train.drop(columns=['id'])\n",
    "X_test = X_test.drop(columns=['id'])"
   ]
  },
  {
   "cell_type": "code",
   "execution_count": 4,
   "id": "cf2fee40",
   "metadata": {
    "execution": {
     "iopub.execute_input": "2025-06-16T06:01:58.187845Z",
     "iopub.status.busy": "2025-06-16T06:01:58.187437Z",
     "iopub.status.idle": "2025-06-16T06:01:58.451613Z",
     "shell.execute_reply": "2025-06-16T06:01:58.450815Z"
    },
    "papermill": {
     "duration": 0.269064,
     "end_time": "2025-06-16T06:01:58.453072",
     "exception": false,
     "start_time": "2025-06-16T06:01:58.184008",
     "status": "completed"
    },
    "tags": []
   },
   "outputs": [
    {
     "data": {
      "text/plain": [
       "(array([[2286,  226,    1,    1,    0,    4,    5],\n",
       "        [ 439, 2185,    5,    0,    0,  356,   97],\n",
       "        [   2,    7, 2227,  299,   20,   89,  266],\n",
       "        [   0,    0,  101, 3107,    9,    1,   30],\n",
       "        [   0,    1,    2,    5, 4034,    4,    0],\n",
       "        [  21,  321,   63,    1,    0, 1534,  487],\n",
       "        [   2,   56,  360,   17,    0,  443, 1644]]),\n",
       " '              precision    recall  f1-score   support\\n\\n           0       0.83      0.91      0.87      2523\\n           1       0.78      0.71      0.74      3082\\n           2       0.81      0.77      0.79      2910\\n           3       0.91      0.96      0.93      3248\\n           4       0.99      1.00      0.99      4046\\n           5       0.63      0.63      0.63      2427\\n           6       0.65      0.65      0.65      2522\\n\\n    accuracy                           0.82     20758\\n   macro avg       0.80      0.80      0.80     20758\\nweighted avg       0.82      0.82      0.82     20758\\n',\n",
       " array(['Obesity_Type_II', 'Overweight_Level_I', 'Obesity_Type_III',\n",
       "        'Obesity_Type_II', 'Obesity_Type_III'], dtype=object))"
      ]
     },
     "execution_count": 4,
     "metadata": {},
     "output_type": "execute_result"
    }
   ],
   "source": [
    "# Build Linear Discriminant Analysis (LDA) Model\n",
    "lda = LinearDiscriminantAnalysis()\n",
    "lda.fit(X_train, y_train)\n",
    "\n",
    "# Predict on training data for evaluation\n",
    "y_train_pred = lda.predict(X_train)\n",
    "\n",
    "# Predict on test data\n",
    "y_test_pred = lda.predict(X_test)\n",
    "\n",
    "# Decode predictions to original labels\n",
    "target_le = LabelEncoder().fit(train_df['NObeyesdad'])\n",
    "y_test_pred_labels = target_le.inverse_transform(y_test_pred)\n",
    "\n",
    "# Evaluate model\n",
    "train_conf_matrix = confusion_matrix(y_train, y_train_pred)\n",
    "train_class_report = classification_report(y_train, y_train_pred)\n",
    "\n",
    "train_conf_matrix, train_class_report, y_test_pred_labels[:5]"
   ]
  },
  {
   "cell_type": "markdown",
   "id": "7c2f67d2",
   "metadata": {
    "papermill": {
     "duration": 0.002278,
     "end_time": "2025-06-16T06:01:58.458120",
     "exception": false,
     "start_time": "2025-06-16T06:01:58.455842",
     "status": "completed"
    },
    "tags": []
   },
   "source": [
    "The Linear Discriminant Analysis (LDA) model performs well overall, achieving an accuracy of about 82%. Classes like Normal Weight (Class 4) and Obesity_Type_I (Class 3) are predicted with very high precision and recall. More confusion is seen among intermediate obesity levels (Overweight and Obesity_Types I - III), which is expected due to overlap in predictor patterns."
   ]
  },
  {
   "cell_type": "markdown",
   "id": "6ad8894a",
   "metadata": {
    "papermill": {
     "duration": 0.002121,
     "end_time": "2025-06-16T06:01:58.462600",
     "exception": false,
     "start_time": "2025-06-16T06:01:58.460479",
     "status": "completed"
    },
    "tags": []
   },
   "source": [
    "**Assumptions Investigation**\n",
    "* Multivariate Normality: LDA assumes predictors are normally distributed within each class. While real-life obesity data might deviate from this, LDA is robust when the sample size is large.\n",
    "* Equal Covariance Matrices: LDA assumes equal covariance across groups. Deviations may cause misclassifications, but are generally tolerable for large datasets.\n",
    "* Linearity: LDA works best when class boundaries are approximately linear combinations of predictors. "
   ]
  },
  {
   "cell_type": "code",
   "execution_count": 5,
   "id": "01c8bb24",
   "metadata": {
    "execution": {
     "iopub.execute_input": "2025-06-16T06:01:58.468944Z",
     "iopub.status.busy": "2025-06-16T06:01:58.468151Z",
     "iopub.status.idle": "2025-06-16T06:01:59.790731Z",
     "shell.execute_reply": "2025-06-16T06:01:59.789729Z"
    },
    "papermill": {
     "duration": 1.327218,
     "end_time": "2025-06-16T06:01:59.792136",
     "exception": false,
     "start_time": "2025-06-16T06:01:58.464918",
     "status": "completed"
    },
    "tags": []
   },
   "outputs": [
    {
     "name": "stderr",
     "output_type": "stream",
     "text": [
      "/usr/local/lib/python3.11/dist-packages/seaborn/_oldcore.py:1119: FutureWarning: use_inf_as_na option is deprecated and will be removed in a future version. Convert inf values to NaN before operating instead.\n",
      "  with pd.option_context('mode.use_inf_as_na', True):\n"
     ]
    },
    {
     "data": {
      "image/png": "[encoded data removed]",
      "text/plain": [
       "<Figure size 1000x600 with 1 Axes>"
      ]
     },
     "metadata": {},
     "output_type": "display_data"
    },
    {
     "data": {
      "image/png": "[encoded data removed]",
      "text/plain": [
       "<Figure size 1000x800 with 2 Axes>"
      ]
     },
     "metadata": {},
     "output_type": "display_data"
    },
    {
     "data": {
      "text/html": [
       "<div>\n",
       "<style scoped>\n",
       "    .dataframe tbody tr th:only-of-type {\n",
       "        vertical-align: middle;\n",
       "    }\n",
       "\n",
       "    .dataframe tbody tr th {\n",
       "        vertical-align: top;\n",
       "    }\n",
       "\n",
       "    .dataframe thead th {\n",
       "        text-align: right;\n",
       "    }\n",
       "</style>\n",
       "<table border=\"1\" class=\"dataframe\">\n",
       "  <thead>\n",
       "    <tr style=\"text-align: right;\">\n",
       "      <th></th>\n",
       "      <th>True_Class</th>\n",
       "      <th>Predicted_Class</th>\n",
       "      <th>Count</th>\n",
       "    </tr>\n",
       "  </thead>\n",
       "  <tbody>\n",
       "    <tr>\n",
       "      <th>0</th>\n",
       "      <td>0</td>\n",
       "      <td>1</td>\n",
       "      <td>226</td>\n",
       "    </tr>\n",
       "    <tr>\n",
       "      <th>1</th>\n",
       "      <td>0</td>\n",
       "      <td>2</td>\n",
       "      <td>1</td>\n",
       "    </tr>\n",
       "    <tr>\n",
       "      <th>2</th>\n",
       "      <td>0</td>\n",
       "      <td>3</td>\n",
       "      <td>1</td>\n",
       "    </tr>\n",
       "    <tr>\n",
       "      <th>3</th>\n",
       "      <td>0</td>\n",
       "      <td>5</td>\n",
       "      <td>4</td>\n",
       "    </tr>\n",
       "    <tr>\n",
       "      <th>4</th>\n",
       "      <td>0</td>\n",
       "      <td>6</td>\n",
       "      <td>5</td>\n",
       "    </tr>\n",
       "    <tr>\n",
       "      <th>5</th>\n",
       "      <td>1</td>\n",
       "      <td>0</td>\n",
       "      <td>439</td>\n",
       "    </tr>\n",
       "    <tr>\n",
       "      <th>6</th>\n",
       "      <td>1</td>\n",
       "      <td>2</td>\n",
       "      <td>5</td>\n",
       "    </tr>\n",
       "    <tr>\n",
       "      <th>7</th>\n",
       "      <td>1</td>\n",
       "      <td>5</td>\n",
       "      <td>356</td>\n",
       "    </tr>\n",
       "    <tr>\n",
       "      <th>8</th>\n",
       "      <td>1</td>\n",
       "      <td>6</td>\n",
       "      <td>97</td>\n",
       "    </tr>\n",
       "    <tr>\n",
       "      <th>9</th>\n",
       "      <td>2</td>\n",
       "      <td>0</td>\n",
       "      <td>2</td>\n",
       "    </tr>\n",
       "  </tbody>\n",
       "</table>\n",
       "</div>"
      ],
      "text/plain": [
       "   True_Class  Predicted_Class  Count\n",
       "0           0                1    226\n",
       "1           0                2      1\n",
       "2           0                3      1\n",
       "3           0                5      4\n",
       "4           0                6      5\n",
       "5           1                0    439\n",
       "6           1                2      5\n",
       "7           1                5    356\n",
       "8           1                6     97\n",
       "9           2                0      2"
      ]
     },
     "execution_count": 5,
     "metadata": {},
     "output_type": "execute_result"
    }
   ],
   "source": [
    "import matplotlib.pyplot as plt\n",
    "import seaborn as sns\n",
    "\n",
    "# Compute residuals: difference between true and predicted labels for train set\n",
    "train_residuals = y_train - y_train_pred\n",
    "\n",
    "# Add residuals to a DataFrame for easy plotting\n",
    "residuals_df = pd.DataFrame({\n",
    "    'True_Class': y_train,\n",
    "    'Predicted_Class': y_train_pred,\n",
    "    'Residual': train_residuals\n",
    "})\n",
    "\n",
    "# Plot residuals distribution\n",
    "plt.figure(figsize=(10, 6))\n",
    "sns.histplot(train_residuals, bins=np.arange(-7, 8, 1), kde=False)\n",
    "plt.title(\"Distribution of Classification Residuals (True - Predicted)\")\n",
    "plt.xlabel(\"Residual (True Label - Predicted Label)\")\n",
    "plt.ylabel(\"Count\")\n",
    "plt.show()\n",
    "\n",
    "# Confusion heatmap for better visualization\n",
    "plt.figure(figsize=(10, 8))\n",
    "sns.heatmap(train_conf_matrix, annot=True, fmt='d', cmap='Blues')\n",
    "plt.title(\"Confusion Matrix Heatmap (Training Data)\")\n",
    "plt.xlabel(\"Predicted Class\")\n",
    "plt.ylabel(\"True Class\")\n",
    "plt.show()\n",
    "\n",
    "# Misclassification pattern: which true classes get misclassified as which predicted classes\n",
    "misclassified_df = residuals_df[residuals_df['Residual'] != 0]\n",
    "\n",
    "# Count misclassifications by (True, Predicted)\n",
    "misclassification_counts = misclassified_df.groupby(['True_Class', 'Predicted_Class']).size().reset_index(name='Count')\n",
    "\n",
    "misclassification_counts.head(10)"
   ]
  },
  {
   "cell_type": "markdown",
   "id": "6961f631",
   "metadata": {
    "papermill": {
     "duration": 0.004058,
     "end_time": "2025-06-16T06:01:59.800891",
     "exception": false,
     "start_time": "2025-06-16T06:01:59.796833",
     "status": "completed"
    },
    "tags": []
   },
   "source": [
    "Assumptions Check: \n",
    "No clear outliers or systemic bias. Errors align with the data's natural class overlap.\n",
    "\n",
    "Residuals Distribution (True Label - Predicted Label):\n",
    "The histogram shows that most residuals are zero (perfect classification). Misclassifications mainly cluster around plus or minus one and plus or minus two, indicating most errors happen to adjacent classes (e.g., predicting Obesity_Type_II instead of Type_III). \n",
    "\n",
    "Confusion Matrix Heatmap:\n",
    "Diagonal dominance confirms good model accuracy. Misclassifications are visible mainly near the diagonal (suggesting confusion between neighboring obesity categories, which is expected due to overlapping features. \n",
    "\n",
    "Observation: \n",
    "Errors mainly occur between adjacent weight categories. There are very few large jumps (e.g., predicting Normal Weight as Obesity), indicating this model is capturing the general weight class structure well."
   ]
  },
  {
   "cell_type": "code",
   "execution_count": 6,
   "id": "14fef51f",
   "metadata": {
    "execution": {
     "iopub.execute_input": "2025-06-16T06:01:59.810566Z",
     "iopub.status.busy": "2025-06-16T06:01:59.810084Z",
     "iopub.status.idle": "2025-06-16T06:01:59.819871Z",
     "shell.execute_reply": "2025-06-16T06:01:59.819040Z"
    },
    "papermill": {
     "duration": 0.016076,
     "end_time": "2025-06-16T06:01:59.821114",
     "exception": false,
     "start_time": "2025-06-16T06:01:59.805038",
     "status": "completed"
    },
    "tags": []
   },
   "outputs": [
    {
     "data": {
      "text/html": [
       "<div>\n",
       "<style scoped>\n",
       "    .dataframe tbody tr th:only-of-type {\n",
       "        vertical-align: middle;\n",
       "    }\n",
       "\n",
       "    .dataframe tbody tr th {\n",
       "        vertical-align: top;\n",
       "    }\n",
       "\n",
       "    .dataframe thead th {\n",
       "        text-align: right;\n",
       "    }\n",
       "</style>\n",
       "<table border=\"1\" class=\"dataframe\">\n",
       "  <thead>\n",
       "    <tr style=\"text-align: right;\">\n",
       "      <th></th>\n",
       "      <th>id</th>\n",
       "      <th>NObeyesdad</th>\n",
       "    </tr>\n",
       "  </thead>\n",
       "  <tbody>\n",
       "    <tr>\n",
       "      <th>0</th>\n",
       "      <td>20758</td>\n",
       "      <td>Obesity_Type_II</td>\n",
       "    </tr>\n",
       "    <tr>\n",
       "      <th>1</th>\n",
       "      <td>20759</td>\n",
       "      <td>Overweight_Level_I</td>\n",
       "    </tr>\n",
       "    <tr>\n",
       "      <th>2</th>\n",
       "      <td>20760</td>\n",
       "      <td>Obesity_Type_III</td>\n",
       "    </tr>\n",
       "    <tr>\n",
       "      <th>3</th>\n",
       "      <td>20761</td>\n",
       "      <td>Obesity_Type_II</td>\n",
       "    </tr>\n",
       "    <tr>\n",
       "      <th>4</th>\n",
       "      <td>20762</td>\n",
       "      <td>Obesity_Type_III</td>\n",
       "    </tr>\n",
       "  </tbody>\n",
       "</table>\n",
       "</div>"
      ],
      "text/plain": [
       "      id          NObeyesdad\n",
       "0  20758     Obesity_Type_II\n",
       "1  20759  Overweight_Level_I\n",
       "2  20760    Obesity_Type_III\n",
       "3  20761     Obesity_Type_II\n",
       "4  20762    Obesity_Type_III"
      ]
     },
     "execution_count": 6,
     "metadata": {},
     "output_type": "execute_result"
    }
   ],
   "source": [
    "# Prepare submission DataFrame\n",
    "submission_df = test_df[['id']].copy()\n",
    "submission_df['NObeyesdad'] = y_test_pred_labels\n",
    "\n",
    "submission_df.head()"
   ]
  }
 ],
 "metadata": {
  "kaggle": {
   "accelerator": "none",
   "dataSources": [
    {
     "databundleVersionId": 10950255,
     "sourceId": 68479,
     "sourceType": "competition"
    }
   ],
   "dockerImageVersionId": 31040,
   "isGpuEnabled": false,
   "isInternetEnabled": true,
   "language": "python",
   "sourceType": "notebook"
  },
  "kernelspec": {
   "display_name": "Python 3",
   "language": "python",
   "name": "python3"
  },
  "language_info": {
   "codemirror_mode": {
    "name": "ipython",
    "version": 3
   },
   "file_extension": ".py",
   "mimetype": "text/x-python",
   "name": "python",
   "nbconvert_exporter": "python",
   "pygments_lexer": "ipython3",
   "version": "3.11.11"
  },
  "papermill": {
   "default_parameters": {},
   "duration": 12.178874,
   "end_time": "2025-06-16T06:02:00.544969",
   "environment_variables": {},
   "exception": null,
   "input_path": "__notebook__.ipynb",
   "output_path": "__notebook__.ipynb",
   "parameters": {},
   "start_time": "2025-06-16T06:01:48.366095",
   "version": "2.6.0"
  }
 },
 "nbformat": 4,
 "nbformat_minor": 5
}
