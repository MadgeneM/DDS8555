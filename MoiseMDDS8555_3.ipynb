{
  "nbformat": 4,
  "nbformat_minor": 0,
  "metadata": {
    "colab": {
      "provenance": [],
      "authorship_tag": "ABX9TyM5w+zuISNVjw1mbKgKTrpP",
      "include_colab_link": true
    },
    "kernelspec": {
      "name": "python3",
      "display_name": "Python 3"
    },
    "language_info": {
      "name": "python"
    }
  },
  "cells": [
    {
      "cell_type": "markdown",
      "metadata": {
        "id": "view-in-github",
        "colab_type": "text"
      },
      "source": [
        "<a href=\"https://colab.research.google.com/github/MadgeneM/DDS8555/blob/main/MoiseMDDS8555_3.ipynb\" target=\"_parent\"><img src=\"https://colab.research.google.com/assets/colab-badge.svg\" alt=\"Open In Colab\"/></a>"
      ]
    },
    {
      "cell_type": "code",
      "execution_count": null,
      "metadata": {
        "id": "CGlgqxabGHjs"
      },
      "outputs": [],
      "source": [
        "# Title: Assignment 3\n",
        "# Author: Madgene Moise\n",
        "# Date: Sunday, June 1, 2025"
      ]
    },
    {
      "cell_type": "code",
      "source": [
        "# Import necessary libraries\n",
        "import numpy as np\n",
        "import pandas as pd\n",
        "from sklearn.linear_model import LassoCV\n",
        "from sklearn.preprocessing import PolynomialFeatures\n",
        "from sklearn.pipeline import make_pipeline\n",
        "import matplotlib.pyplot as plt\n",
        "import statsmodels.api as sm\n",
        "from sklearn.model_selection import cross_val_score\n",
        "from sklearn.linear_model import LinearRegression"
      ],
      "metadata": {
        "id": "fHXJ0j9hGbvu"
      },
      "execution_count": null,
      "outputs": []
    },
    {
      "cell_type": "code",
      "source": [
        "# Set seed for reproducibility\n",
        "np.random.seed(0)\n",
        "\n",
        "# (a) Generate data\n",
        "n = 100\n",
        "X = np.random.normal(0, 1, n)\n",
        "epsilon = np.random.normal(0, 1, n)"
      ],
      "metadata": {
        "id": "5hgdwPjWGugV"
      },
      "execution_count": null,
      "outputs": []
    },
    {
      "cell_type": "code",
      "source": [
        "# (b) Generate response Y using a cubic model\n",
        "beta_0 = 1\n",
        "beta_1 = 2\n",
        "beta_2 = 3\n",
        "beta_3 = 4\n",
        "Y = beta_0 + beta_1*X + beta_2*X**2 + beta_3*X**3 + epsilon"
      ],
      "metadata": {
        "id": "_EkXZR0_G2eF"
      },
      "execution_count": null,
      "outputs": []
    },
    {
      "cell_type": "code",
      "source": [
        "# Create data frame with X, X^2, ..., X^10\n",
        "X_poly = np.vstack([X**i for i in range(1, 11)]).T\n",
        "X_poly_df = pd.DataFrame(X_poly, columns=[f'X^{i}' for i in range(1, 11)])\n",
        "\n",
        "# Return the first few rows of the data\n",
        "X_poly_df['Y'] = Y\n",
        "X_poly_df.head()"
      ],
      "metadata": {
        "colab": {
          "base_uri": "https://localhost:8080/",
          "height": 206
        },
        "id": "gI2k5ufGG69c",
        "outputId": "d9e7b436-8017-431a-e0ba-a7d1bcf239c3"
      },
      "execution_count": null,
      "outputs": [
        {
          "output_type": "execute_result",
          "data": {
            "text/plain": [
              "        X^1       X^2        X^3        X^4        X^5         X^6  \\\n",
              "0  1.764052  3.111881   5.489520   9.683801  17.082733   30.134834   \n",
              "1  0.400157  0.160126   0.064075   0.025640   0.010260    0.004106   \n",
              "2  0.978738  0.957928   0.937561   0.917626   0.898116    0.879020   \n",
              "3  2.240893  5.021602  11.252875  25.216490  56.507461  126.627185   \n",
              "4  1.867558  3.487773   6.513618  12.164559  22.718020   42.427220   \n",
              "\n",
              "          X^7         X^8          X^9         X^10          Y  \n",
              "0   53.159425   93.776009   165.425788   291.819750  37.704979  \n",
              "1    0.001643    0.000657     0.000263     0.000105   1.189235  \n",
              "2    0.860330    0.842038     0.824134     0.806612   8.311017  \n",
              "3  283.757997  635.871366  1424.919820  3193.093133  66.527488  \n",
              "4   79.235294  147.976506   276.354706   516.108440  40.079783  "
            ],
            "text/html": [
              "\n",
              "  <div id=\"df-beeb063f-b621-42e8-adc7-034b30ab3ae5\" class=\"colab-df-container\">\n",
              "    <div>\n",
              "<style scoped>\n",
              "    .dataframe tbody tr th:only-of-type {\n",
              "        vertical-align: middle;\n",
              "    }\n",
              "\n",
              "    .dataframe tbody tr th {\n",
              "        vertical-align: top;\n",
              "    }\n",
              "\n",
              "    .dataframe thead th {\n",
              "        text-align: right;\n",
              "    }\n",
              "</style>\n",
              "<table border=\"1\" class=\"dataframe\">\n",
              "  <thead>\n",
              "    <tr style=\"text-align: right;\">\n",
              "      <th></th>\n",
              "      <th>X^1</th>\n",
              "      <th>X^2</th>\n",
              "      <th>X^3</th>\n",
              "      <th>X^4</th>\n",
              "      <th>X^5</th>\n",
              "      <th>X^6</th>\n",
              "      <th>X^7</th>\n",
              "      <th>X^8</th>\n",
              "      <th>X^9</th>\n",
              "      <th>X^10</th>\n",
              "      <th>Y</th>\n",
              "    </tr>\n",
              "  </thead>\n",
              "  <tbody>\n",
              "    <tr>\n",
              "      <th>0</th>\n",
              "      <td>1.764052</td>\n",
              "      <td>3.111881</td>\n",
              "      <td>5.489520</td>\n",
              "      <td>9.683801</td>\n",
              "      <td>17.082733</td>\n",
              "      <td>30.134834</td>\n",
              "      <td>53.159425</td>\n",
              "      <td>93.776009</td>\n",
              "      <td>165.425788</td>\n",
              "      <td>291.819750</td>\n",
              "      <td>37.704979</td>\n",
              "    </tr>\n",
              "    <tr>\n",
              "      <th>1</th>\n",
              "      <td>0.400157</td>\n",
              "      <td>0.160126</td>\n",
              "      <td>0.064075</td>\n",
              "      <td>0.025640</td>\n",
              "      <td>0.010260</td>\n",
              "      <td>0.004106</td>\n",
              "      <td>0.001643</td>\n",
              "      <td>0.000657</td>\n",
              "      <td>0.000263</td>\n",
              "      <td>0.000105</td>\n",
              "      <td>1.189235</td>\n",
              "    </tr>\n",
              "    <tr>\n",
              "      <th>2</th>\n",
              "      <td>0.978738</td>\n",
              "      <td>0.957928</td>\n",
              "      <td>0.937561</td>\n",
              "      <td>0.917626</td>\n",
              "      <td>0.898116</td>\n",
              "      <td>0.879020</td>\n",
              "      <td>0.860330</td>\n",
              "      <td>0.842038</td>\n",
              "      <td>0.824134</td>\n",
              "      <td>0.806612</td>\n",
              "      <td>8.311017</td>\n",
              "    </tr>\n",
              "    <tr>\n",
              "      <th>3</th>\n",
              "      <td>2.240893</td>\n",
              "      <td>5.021602</td>\n",
              "      <td>11.252875</td>\n",
              "      <td>25.216490</td>\n",
              "      <td>56.507461</td>\n",
              "      <td>126.627185</td>\n",
              "      <td>283.757997</td>\n",
              "      <td>635.871366</td>\n",
              "      <td>1424.919820</td>\n",
              "      <td>3193.093133</td>\n",
              "      <td>66.527488</td>\n",
              "    </tr>\n",
              "    <tr>\n",
              "      <th>4</th>\n",
              "      <td>1.867558</td>\n",
              "      <td>3.487773</td>\n",
              "      <td>6.513618</td>\n",
              "      <td>12.164559</td>\n",
              "      <td>22.718020</td>\n",
              "      <td>42.427220</td>\n",
              "      <td>79.235294</td>\n",
              "      <td>147.976506</td>\n",
              "      <td>276.354706</td>\n",
              "      <td>516.108440</td>\n",
              "      <td>40.079783</td>\n",
              "    </tr>\n",
              "  </tbody>\n",
              "</table>\n",
              "</div>\n",
              "    <div class=\"colab-df-buttons\">\n",
              "\n",
              "  <div class=\"colab-df-container\">\n",
              "    <button class=\"colab-df-convert\" onclick=\"convertToInteractive('df-beeb063f-b621-42e8-adc7-034b30ab3ae5')\"\n",
              "            title=\"Convert this dataframe to an interactive table.\"\n",
              "            style=\"display:none;\">\n",
              "\n",
              "  <svg xmlns=\"http://www.w3.org/2000/svg\" height=\"24px\" viewBox=\"0 -960 960 960\">\n",
              "    <path d=\"M120-120v-720h720v720H120Zm60-500h600v-160H180v160Zm220 220h160v-160H400v160Zm0 220h160v-160H400v160ZM180-400h160v-160H180v160Zm440 0h160v-160H620v160ZM180-180h160v-160H180v160Zm440 0h160v-160H620v160Z\"/>\n",
              "  </svg>\n",
              "    </button>\n",
              "\n",
              "  <style>\n",
              "    .colab-df-container {\n",
              "      display:flex;\n",
              "      gap: 12px;\n",
              "    }\n",
              "\n",
              "    .colab-df-convert {\n",
              "      background-color: #E8F0FE;\n",
              "      border: none;\n",
              "      border-radius: 50%;\n",
              "      cursor: pointer;\n",
              "      display: none;\n",
              "      fill: #1967D2;\n",
              "      height: 32px;\n",
              "      padding: 0 0 0 0;\n",
              "      width: 32px;\n",
              "    }\n",
              "\n",
              "    .colab-df-convert:hover {\n",
              "      background-color: #E2EBFA;\n",
              "      box-shadow: 0px 1px 2px rgba(60, 64, 67, 0.3), 0px 1px 3px 1px rgba(60, 64, 67, 0.15);\n",
              "      fill: #174EA6;\n",
              "    }\n",
              "\n",
              "    .colab-df-buttons div {\n",
              "      margin-bottom: 4px;\n",
              "    }\n",
              "\n",
              "    [theme=dark] .colab-df-convert {\n",
              "      background-color: #3B4455;\n",
              "      fill: #D2E3FC;\n",
              "    }\n",
              "\n",
              "    [theme=dark] .colab-df-convert:hover {\n",
              "      background-color: #434B5C;\n",
              "      box-shadow: 0px 1px 3px 1px rgba(0, 0, 0, 0.15);\n",
              "      filter: drop-shadow(0px 1px 2px rgba(0, 0, 0, 0.3));\n",
              "      fill: #FFFFFF;\n",
              "    }\n",
              "  </style>\n",
              "\n",
              "    <script>\n",
              "      const buttonEl =\n",
              "        document.querySelector('#df-beeb063f-b621-42e8-adc7-034b30ab3ae5 button.colab-df-convert');\n",
              "      buttonEl.style.display =\n",
              "        google.colab.kernel.accessAllowed ? 'block' : 'none';\n",
              "\n",
              "      async function convertToInteractive(key) {\n",
              "        const element = document.querySelector('#df-beeb063f-b621-42e8-adc7-034b30ab3ae5');\n",
              "        const dataTable =\n",
              "          await google.colab.kernel.invokeFunction('convertToInteractive',\n",
              "                                                    [key], {});\n",
              "        if (!dataTable) return;\n",
              "\n",
              "        const docLinkHtml = 'Like what you see? Visit the ' +\n",
              "          '<a target=\"_blank\" href=https://colab.research.google.com/notebooks/data_table.ipynb>data table notebook</a>'\n",
              "          + ' to learn more about interactive tables.';\n",
              "        element.innerHTML = '';\n",
              "        dataTable['output_type'] = 'display_data';\n",
              "        await google.colab.output.renderOutput(dataTable, element);\n",
              "        const docLink = document.createElement('div');\n",
              "        docLink.innerHTML = docLinkHtml;\n",
              "        element.appendChild(docLink);\n",
              "      }\n",
              "    </script>\n",
              "  </div>\n",
              "\n",
              "\n",
              "    <div id=\"df-e8c20db5-1c4c-4b27-bbd6-4d1a66d61174\">\n",
              "      <button class=\"colab-df-quickchart\" onclick=\"quickchart('df-e8c20db5-1c4c-4b27-bbd6-4d1a66d61174')\"\n",
              "                title=\"Suggest charts\"\n",
              "                style=\"display:none;\">\n",
              "\n",
              "<svg xmlns=\"http://www.w3.org/2000/svg\" height=\"24px\"viewBox=\"0 0 24 24\"\n",
              "     width=\"24px\">\n",
              "    <g>\n",
              "        <path d=\"M19 3H5c-1.1 0-2 .9-2 2v14c0 1.1.9 2 2 2h14c1.1 0 2-.9 2-2V5c0-1.1-.9-2-2-2zM9 17H7v-7h2v7zm4 0h-2V7h2v10zm4 0h-2v-4h2v4z\"/>\n",
              "    </g>\n",
              "</svg>\n",
              "      </button>\n",
              "\n",
              "<style>\n",
              "  .colab-df-quickchart {\n",
              "      --bg-color: #E8F0FE;\n",
              "      --fill-color: #1967D2;\n",
              "      --hover-bg-color: #E2EBFA;\n",
              "      --hover-fill-color: #174EA6;\n",
              "      --disabled-fill-color: #AAA;\n",
              "      --disabled-bg-color: #DDD;\n",
              "  }\n",
              "\n",
              "  [theme=dark] .colab-df-quickchart {\n",
              "      --bg-color: #3B4455;\n",
              "      --fill-color: #D2E3FC;\n",
              "      --hover-bg-color: #434B5C;\n",
              "      --hover-fill-color: #FFFFFF;\n",
              "      --disabled-bg-color: #3B4455;\n",
              "      --disabled-fill-color: #666;\n",
              "  }\n",
              "\n",
              "  .colab-df-quickchart {\n",
              "    background-color: var(--bg-color);\n",
              "    border: none;\n",
              "    border-radius: 50%;\n",
              "    cursor: pointer;\n",
              "    display: none;\n",
              "    fill: var(--fill-color);\n",
              "    height: 32px;\n",
              "    padding: 0;\n",
              "    width: 32px;\n",
              "  }\n",
              "\n",
              "  .colab-df-quickchart:hover {\n",
              "    background-color: var(--hover-bg-color);\n",
              "    box-shadow: 0 1px 2px rgba(60, 64, 67, 0.3), 0 1px 3px 1px rgba(60, 64, 67, 0.15);\n",
              "    fill: var(--button-hover-fill-color);\n",
              "  }\n",
              "\n",
              "  .colab-df-quickchart-complete:disabled,\n",
              "  .colab-df-quickchart-complete:disabled:hover {\n",
              "    background-color: var(--disabled-bg-color);\n",
              "    fill: var(--disabled-fill-color);\n",
              "    box-shadow: none;\n",
              "  }\n",
              "\n",
              "  .colab-df-spinner {\n",
              "    border: 2px solid var(--fill-color);\n",
              "    border-color: transparent;\n",
              "    border-bottom-color: var(--fill-color);\n",
              "    animation:\n",
              "      spin 1s steps(1) infinite;\n",
              "  }\n",
              "\n",
              "  @keyframes spin {\n",
              "    0% {\n",
              "      border-color: transparent;\n",
              "      border-bottom-color: var(--fill-color);\n",
              "      border-left-color: var(--fill-color);\n",
              "    }\n",
              "    20% {\n",
              "      border-color: transparent;\n",
              "      border-left-color: var(--fill-color);\n",
              "      border-top-color: var(--fill-color);\n",
              "    }\n",
              "    30% {\n",
              "      border-color: transparent;\n",
              "      border-left-color: var(--fill-color);\n",
              "      border-top-color: var(--fill-color);\n",
              "      border-right-color: var(--fill-color);\n",
              "    }\n",
              "    40% {\n",
              "      border-color: transparent;\n",
              "      border-right-color: var(--fill-color);\n",
              "      border-top-color: var(--fill-color);\n",
              "    }\n",
              "    60% {\n",
              "      border-color: transparent;\n",
              "      border-right-color: var(--fill-color);\n",
              "    }\n",
              "    80% {\n",
              "      border-color: transparent;\n",
              "      border-right-color: var(--fill-color);\n",
              "      border-bottom-color: var(--fill-color);\n",
              "    }\n",
              "    90% {\n",
              "      border-color: transparent;\n",
              "      border-bottom-color: var(--fill-color);\n",
              "    }\n",
              "  }\n",
              "</style>\n",
              "\n",
              "      <script>\n",
              "        async function quickchart(key) {\n",
              "          const quickchartButtonEl =\n",
              "            document.querySelector('#' + key + ' button');\n",
              "          quickchartButtonEl.disabled = true;  // To prevent multiple clicks.\n",
              "          quickchartButtonEl.classList.add('colab-df-spinner');\n",
              "          try {\n",
              "            const charts = await google.colab.kernel.invokeFunction(\n",
              "                'suggestCharts', [key], {});\n",
              "          } catch (error) {\n",
              "            console.error('Error during call to suggestCharts:', error);\n",
              "          }\n",
              "          quickchartButtonEl.classList.remove('colab-df-spinner');\n",
              "          quickchartButtonEl.classList.add('colab-df-quickchart-complete');\n",
              "        }\n",
              "        (() => {\n",
              "          let quickchartButtonEl =\n",
              "            document.querySelector('#df-e8c20db5-1c4c-4b27-bbd6-4d1a66d61174 button');\n",
              "          quickchartButtonEl.style.display =\n",
              "            google.colab.kernel.accessAllowed ? 'block' : 'none';\n",
              "        })();\n",
              "      </script>\n",
              "    </div>\n",
              "\n",
              "    </div>\n",
              "  </div>\n"
            ],
            "application/vnd.google.colaboratory.intrinsic+json": {
              "type": "dataframe",
              "variable_name": "X_poly_df",
              "summary": "{\n  \"name\": \"X_poly_df\",\n  \"rows\": 100,\n  \"fields\": [\n    {\n      \"column\": \"X^1\",\n      \"properties\": {\n        \"dtype\": \"number\",\n        \"std\": 1.0129597692685017,\n        \"min\": -2.5529898158340787,\n        \"max\": 2.2697546239876076,\n        \"num_unique_values\": 100,\n        \"samples\": [\n          -1.5362436862772237,\n          -1.180632184122412,\n          0.7290905621775369\n        ],\n        \"semantic_type\": \"\",\n        \"description\": \"\"\n      }\n    },\n    {\n      \"column\": \"X^2\",\n      \"properties\": {\n        \"dtype\": \"number\",\n        \"std\": 1.3062333722662958,\n        \"min\": 0.0001102504351376594,\n        \"max\": 6.517756999752523,\n        \"num_unique_values\": 100,\n        \"samples\": [\n          2.360044663626633,\n          1.3938923541856572,\n          0.5315730478563567\n        ],\n        \"semantic_type\": \"\",\n        \"description\": \"\"\n      }\n    },\n    {\n      \"column\": \"X^3\",\n      \"properties\": {\n        \"dtype\": \"number\",\n        \"std\": 3.204178912610643,\n        \"min\": -16.63976724244947,\n        \"max\": 11.693290215848386,\n        \"num_unique_values\": 100,\n        \"samples\": [\n          -3.6256037138286694,\n          -1.6456741745537433,\n          0.38756489230001784\n        ],\n        \"semantic_type\": \"\",\n        \"description\": \"\"\n      }\n    },\n    {\n      \"column\": \"X^4\",\n      \"properties\": {\n        \"dtype\": \"number\",\n        \"std\": 6.232737807948081,\n        \"min\": 1.2155158448043243e-08,\n        \"max\": 42.481156307823014,\n        \"num_unique_values\": 100,\n        \"samples\": [\n          5.5698108143125475,\n          1.9429358950572337,\n          0.2825699052072966\n        ],\n        \"semantic_type\": \"\",\n        \"description\": \"\"\n      }\n    },\n    {\n      \"column\": \"X^5\",\n      \"properties\": {\n        \"dtype\": \"number\",\n        \"std\": 15.310487580065436,\n        \"min\": -108.45395941872778,\n        \"max\": 60.241329449011886,\n        \"num_unique_values\": 100,\n        \"samples\": [\n          -8.556586697246253,\n          -2.2938926493912555,\n          0.20601905104204116\n        ],\n        \"semantic_type\": \"\",\n        \"description\": \"\"\n      }\n    },\n    {\n      \"column\": \"X^6\",\n      \"properties\": {\n        \"dtype\": \"number\",\n        \"std\": 34.31789774078618,\n        \"min\": 1.3401115080639642e-12,\n        \"max\": 276.88185388289446,\n        \"num_unique_values\": 100,\n        \"samples\": [\n          13.14500228972824,\n          2.7082434887931446,\n          0.15020654574352443\n        ],\n        \"semantic_type\": \"\",\n        \"description\": \"\"\n      }\n    },\n    {\n      \"column\": \"X^7\",\n      \"properties\": {\n        \"dtype\": \"number\",\n        \"std\": 85.89374427443603,\n        \"min\": -706.876553152289,\n        \"max\": 310.35044087641245,\n        \"num_unique_values\": 100,\n        \"samples\": [\n          -20.193926773694656,\n          -3.1974394253091516,\n          0.10951417487889215\n        ],\n        \"semantic_type\": \"\",\n        \"description\": \"\"\n      }\n    },\n    {\n      \"column\": \"X^8\",\n      \"properties\": {\n        \"dtype\": \"number\",\n        \"std\": 204.41624068962892,\n        \"min\": 1.47747876897037e-16,\n        \"max\": 1804.6486412496909,\n        \"num_unique_values\": 100,\n        \"samples\": [\n          31.022792507233003,\n          3.7749998923018535,\n          0.07984575132886056\n        ],\n        \"semantic_type\": \"\",\n        \"description\": \"\"\n      }\n    },\n    {\n      \"column\": \"X^9\",\n      \"properties\": {\n        \"dtype\": \"number\",\n        \"std\": 517.2278737021084,\n        \"min\": -4607.2496022692685,\n        \"max\": 1598.8590728846116,\n        \"num_unique_values\": 100,\n        \"samples\": [\n          -47.65856911992507,\n          -4.456886367910208,\n          0.05821478372384676\n        ],\n        \"semantic_type\": \"\",\n        \"description\": \"\"\n      }\n    },\n    {\n      \"column\": \"X^10\",\n      \"properties\": {\n        \"dtype\": \"number\",\n        \"std\": 1266.4859526668438,\n        \"min\": 1.6289267718563664e-20,\n        \"max\": 11762.261313599052,\n        \"num_unique_values\": 100,\n        \"samples\": [\n          73.21517590749154,\n          5.261943486931234,\n          0.04244384939226316\n        ],\n        \"semantic_type\": \"\",\n        \"description\": \"\"\n      }\n    },\n    {\n      \"column\": \"Y\",\n      \"properties\": {\n        \"dtype\": \"number\",\n        \"std\": 15.505250736160145,\n        \"min\": -50.73535207105283,\n        \"max\": 67.07346041097676,\n        \"num_unique_values\": 100,\n        \"samples\": [\n          -11.718171389213653,\n          -4.5887225425618405,\n          6.524018660905034\n        ],\n        \"semantic_type\": \"\",\n        \"description\": \"\"\n      }\n    }\n  ]\n}"
            }
          },
          "metadata": {},
          "execution_count": 4
        }
      ]
    },
    {
      "cell_type": "markdown",
      "source": [
        "I generated (1) a predictor X ~ N(0, 1), of length n = 100 and (2) a noise vector epsilon ~ N(0, 1), also of length 100."
      ],
      "metadata": {
        "id": "Cns6OvpDHC0U"
      }
    },
    {
      "cell_type": "code",
      "source": [
        "# Use statsmodels AIC-based stepwise approach for forward and backward selection.\n",
        "# (c) Forward Stepwise Selection using Cp.\n",
        "import itertools\n",
        "\n",
        "def calculate_cp(model, X, y, sigma2):\n",
        "    residuals = y - model.predict(sm.add_constant(X))\n",
        "    RSS = np.sum(residuals**2)\n",
        "    p = X.shape[1]\n",
        "    Cp = RSS / sigma2 - (len(y) - 2 * p)\n",
        "    return Cp\n",
        "\n",
        "def forward_stepwise_selection(X, y, max_features=10):\n",
        "    remaining = list(X.columns)\n",
        "    selected = []\n",
        "    best_models = []\n",
        "    sigma2 = np.var(y)\n",
        "\n",
        "    for i in range(1, max_features + 1):\n",
        "        best_cp = np.inf\n",
        "        best_model = None\n",
        "        for candidate in remaining:\n",
        "            predictors = selected + [candidate]\n",
        "            X_model = sm.add_constant(X[predictors])\n",
        "            model = sm.OLS(y, X_model).fit()\n",
        "            cp = calculate_cp(model, X[predictors], y, sigma2)\n",
        "            if cp < best_cp:\n",
        "                best_cp = cp\n",
        "                best_candidate = candidate\n",
        "                best_model = model\n",
        "        selected.append(best_candidate)\n",
        "        remaining.remove(best_candidate)\n",
        "        best_models.append((selected.copy(), best_model))\n",
        "\n",
        " # Find model with minimum Cp\n",
        "    best_cp_model = min(best_models, key=lambda item: calculate_cp(item[1], X[item[0]], y, sigma2))\n",
        "    return best_cp_model\n",
        "\n",
        "# Perform forward stepwise selection\n",
        "X_data = X_poly_df.drop(columns='Y')\n",
        "y_data = X_poly_df['Y']\n",
        "forward_result = forward_stepwise_selection(X_data, y_data)\n",
        "\n",
        "# Extract the model details\n",
        "selected_vars_forward, forward_model = forward_result\n",
        "selected_vars_forward, forward_model.params"
      ],
      "metadata": {
        "colab": {
          "base_uri": "https://localhost:8080/"
        },
        "id": "Me3G4TqTMP8X",
        "outputId": "0a77f1a2-e9e9-4ed5-ef2c-d397f3001424"
      },
      "execution_count": null,
      "outputs": [
        {
          "output_type": "execute_result",
          "data": {
            "text/plain": [
              "(['X^3', 'X^2'],\n",
              " const    1.114930\n",
              " X^3      4.561746\n",
              " X^2      2.981576\n",
              " dtype: float64)"
            ]
          },
          "metadata": {},
          "execution_count": 5
        }
      ]
    },
    {
      "cell_type": "markdown",
      "source": [
        "I performed forward stepwise selection using predictors X^1, X^2,..., X^10 to model: Y = beta_0 + beta_1*X + beta_2*X^2 + beta_3*X^3 + epsilon"
      ],
      "metadata": {
        "id": "Zv7vCjFENAeP"
      }
    },
    {
      "cell_type": "markdown",
      "source": [
        "The model that minimized Mallows' Cp included:\n",
        "\n",
        "\n",
        "*   Predictors: X^3, X^2\n",
        "*   Coefficients: Intercept (constant): 1.115, beta_3 for X^3: 4.562, and beta_2 for X^2: 2.982.\n",
        "\n",
        "This model correctly identifies two of the three true predictors from the generative model (X, X^2, X^3), but omits X^1, possibly because of its contribution to reducing RSS is less than the penalty by adding an extra variable."
      ],
      "metadata": {
        "id": "x71oD_5PVtMO"
      }
    },
    {
      "cell_type": "code",
      "source": [
        "# (d) Backward Stepwise Selection using Cp.\n",
        "\n",
        "def backward_stepwise_selection(X, y):\n",
        "    selected = list(X.columns)\n",
        "    sigma2 = np.var(y)\n",
        "    best_models = []\n",
        "\n",
        "    while len(selected) > 0:\n",
        "        X_model = sm.add_constant(X[selected])\n",
        "        model = sm.OLS(y, X_model).fit()\n",
        "        cp = calculate_cp(model, X[selected], y, sigma2)\n",
        "        best_models.append((selected.copy(), model))\n",
        "\n",
        "        worst_pval = model.pvalues.drop('const').idxmax()\n",
        "        if model.pvalues[worst_pval] > 0.05:\n",
        "            selected.remove(worst_pval)\n",
        "        else:\n",
        "            break\n",
        "\n",
        "    # Select the model with the minimum Cp\n",
        "    best_cp_model = min(best_models, key=lambda item: calculate_cp(item[1], X[item[0]], y, sigma2))\n",
        "    return best_cp_model\n",
        "\n",
        "# Perform backward stepwise selection\n",
        "backward_result = backward_stepwise_selection(X_data, y_data)\n",
        "\n",
        "# Extract the model details\n",
        "selected_vars_backward, backward_model = backward_result\n",
        "selected_vars_backward, backward_model.params"
      ],
      "metadata": {
        "colab": {
          "base_uri": "https://localhost:8080/"
        },
        "id": "ABOME1S_UysP",
        "outputId": "a4d13c2a-2ff3-403c-da61-b76300527d98"
      },
      "execution_count": null,
      "outputs": [
        {
          "output_type": "execute_result",
          "data": {
            "text/plain": [
              "(['X^1', 'X^2', 'X^3'],\n",
              " const    1.143159\n",
              " X^1      2.162551\n",
              " X^2      2.933202\n",
              " X^3      3.985227\n",
              " dtype: float64)"
            ]
          },
          "metadata": {},
          "execution_count": 6
        }
      ]
    },
    {
      "cell_type": "markdown",
      "source": [
        "I applied backward stepwise selection, starting with all predictors X^1,..., X^10, and removed variables based on p-values, keeping those that minimized Mallows' Cp."
      ],
      "metadata": {
        "id": "g1C1-zCyXMG-"
      }
    },
    {
      "cell_type": "markdown",
      "source": [
        "The model selected by backward stepwise selection:\n",
        "\n",
        "\n",
        "*   Predictors: X^1, X2, X^3\n",
        "*   Coefficients: Intercept (constant): 1.143, beta_1 for X^1: 2.163, beta_2 for X^2: 2.933, and beta_3 for X^3: 3.985.\n",
        "\n"
      ],
      "metadata": {
        "id": "2_dWa3K-XhW0"
      }
    },
    {
      "cell_type": "code",
      "source": [
        "# (e) Fitting a Lasso Model with Cross-Validation using X^1,...,X^10 as predictors.\n",
        "\n",
        "from sklearn.linear_model import LassoCV\n",
        "from sklearn.preprocessing import StandardScaler\n",
        "\n",
        "# Standardize the data before Lasso\n",
        "scaler = StandardScaler()\n",
        "X_scaled = scaler.fit_transform(X_data)\n",
        "\n",
        "# Fit Lasso with cross-validation\n",
        "lasso_cv = LassoCV(cv=10, random_state=0)\n",
        "lasso_cv.fit(X_scaled, y_data)\n",
        "\n",
        "# Coefficients\n",
        "lasso_coefs = pd.Series(lasso_cv.coef_, index=X_data.columns)\n",
        "\n",
        "# Plot cross-validation error vs lambda\n",
        "plt.figure(figsize=(8, 5))\n",
        "plt.plot(np.log(lasso_cv.alphas_), lasso_cv.mse_path_.mean(axis=1), marker='o')\n",
        "plt.axvline(np.log(lasso_cv.alpha_), color='r', linestyle='--', label='Chosen λ')\n",
        "plt.xlabel('log(λ)')\n",
        "plt.ylabel('Mean Squared Error (MSE)')\n",
        "plt.title('Lasso Cross-Validation Error vs log(λ)')\n",
        "plt.legend()\n",
        "plt.grid(True)\n",
        "plt.tight_layout()\n",
        "plt.show()\n",
        "\n",
        "lasso_cv.alpha_, lasso_coefs[lasso_coefs != 0]"
      ],
      "metadata": {
        "colab": {
          "base_uri": "https://localhost:8080/",
          "height": 611
        },
        "id": "5dcg1y08cGA4",
        "outputId": "3ec7a902-55ec-4f7b-cbf6-0470c1a78296"
      },
      "execution_count": null,
      "outputs": [
        {
          "output_type": "display_data",
          "data": {
            "text/plain": [
              "<Figure size 800x500 with 1 Axes>"
            ],
            "image/png": "[encoded data removed]"
          },
          "metadata": {}
        },
        {
          "output_type": "execute_result",
          "data": {
            "text/plain": [
              "(np.float64(0.04230947194937912),\n",
              " X^1     2.126880\n",
              " X^2     3.501015\n",
              " X^3    12.733920\n",
              " X^4     0.296414\n",
              " dtype: float64)"
            ]
          },
          "metadata": {},
          "execution_count": 7
        }
      ]
    },
    {
      "cell_type": "markdown",
      "source": [
        "I applied Lasso regression using 10-fold cross-validation on the standarized predictors X^1,..., X^10.\n",
        "The plot shows:\n",
        "\n",
        "*   Cross-validated Mean Squared Error (MSE) vs log(Lambda)\n",
        "*   The vertical red dashed line indicates the chosen Lamda that minimizes cross-validation error.\n",
        "\n",
        "The Lasso captured the true predictors X^1, X^2, and X^3, aligning with the data generation process. It also retained X^4 with a small coefficient, likely due to the correlation or noise fit. Compared to forward selection (missed X^1) and backward selection (perfect), Lasso performs well and offers automatic regularization to avoid overfitting.\n"
      ],
      "metadata": {
        "id": "V_Pd35x9ce5_"
      }
    },
    {
      "cell_type": "markdown",
      "source": [
        "Cross-Validation Summary:\n",
        "\n",
        "\n",
        "*   Optimal Lambda: Lambda = 0.0423\n",
        "*   Selected Predictors with Nonzero Coefficients: X^1: 2.127, X^2: 3.501, X^3: 12.734, X^4: 0.296.\n",
        "\n"
      ],
      "metadata": {
        "id": "WXnOwvtOcrk3"
      }
    },
    {
      "cell_type": "code",
      "source": [
        "# Generate data with Y = β₀ + β₇ * X^7 + ε and compare forward stepwise and Lasso selection.\n",
        "# (f) New response: Y = β₀ + β₇ * X^7 + ε\n",
        "beta_0_new = 1\n",
        "beta_7 = 5\n",
        "Y_new = beta_0_new + beta_7 * X_data['X^7'] + epsilon\n",
        "\n",
        "# Forward stepwise on new Y\n",
        "forward_result_new = forward_stepwise_selection(X_data, Y_new)\n",
        "selected_vars_forward_new, forward_model_new = forward_result_new\n",
        "\n",
        "# Lasso regression on new Y\n",
        "lasso_cv_new = LassoCV(cv=10, random_state=0)\n",
        "lasso_cv_new.fit(X_scaled, Y_new)\n",
        "lasso_coefs_new = pd.Series(lasso_cv_new.coef_, index=X_data.columns)\n",
        "\n",
        "# Output results\n",
        "selected_vars_forward_new, forward_model_new.params, lasso_cv_new.alpha_, lasso_coefs_new[lasso_coefs_new != 0]"
      ],
      "metadata": {
        "colab": {
          "base_uri": "https://localhost:8080/"
        },
        "id": "Wn-1VadieT0_",
        "outputId": "8b6b46c4-fc63-49ed-bbce-b48a6af6077e"
      },
      "execution_count": null,
      "outputs": [
        {
          "output_type": "execute_result",
          "data": {
            "text/plain": [
              "(['X^7'],\n",
              " const    1.082050\n",
              " X^7      4.999915\n",
              " dtype: float64,\n",
              " np.float64(0.42730867938930356),\n",
              " X^1     -1.582008\n",
              " X^5     57.190905\n",
              " X^7    286.884539\n",
              " X^8      2.612144\n",
              " X^9     87.301681\n",
              " dtype: float64)"
            ]
          },
          "metadata": {},
          "execution_count": 8
        }
      ]
    },
    {
      "cell_type": "markdown",
      "source": [
        "I generated a new response variable where only the 7th power of X is relevant: Y = 1 + 5*X^7 + epsilon"
      ],
      "metadata": {
        "id": "_522WcdRhPPy"
      }
    },
    {
      "cell_type": "markdown",
      "source": [
        "Forward Stepwise Selection Results:\n",
        "\n",
        "\n",
        "*   Selected Predictor: X^7\n",
        "*   Coefficients: Intercept: 1.082, beta_7: 4.999\n",
        "\n",
        "Note: Perfect recovery of the true model structure - Forward selection performed very well here."
      ],
      "metadata": {
        "id": "7hgdwhYefGe9"
      }
    },
    {
      "cell_type": "markdown",
      "source": [
        "Lasso Regression Results:\n",
        "\n",
        "\n",
        "*   Optimal Lambda: Lambda = 0.427\n",
        "*   Selected Predictors and Coefficients: X^1: -1.582, X^5: 57.191, X^7: 286.885, X^8: 2.612, X^9: 87.302."
      ],
      "metadata": {
        "id": "Uq3aT4dhftgl"
      }
    },
    {
      "cell_type": "markdown",
      "source": [
        "Warning: While Lasso did include X^7, it also included multiple higher-order terms likely due to correlation among polynomial features or difficulty isolating the single true predictor under regularization."
      ],
      "metadata": {
        "id": "rhlViXNUet9N"
      }
    },
    {
      "cell_type": "markdown",
      "source": [
        "Interpretation:\n",
        "Forward Stepwise exactly identified the correct model, likely because the signal was concentrated in a single predictor. Meanwhile, Lasso, while capturing the key signal in X^7, introduced additional predictors. This is a known limiation of Lasso when predictors are highly correlated (as is often the case with polynomial terms)."
      ],
      "metadata": {
        "id": "V9G6dBBkgfdU"
      }
    }
  ]
}