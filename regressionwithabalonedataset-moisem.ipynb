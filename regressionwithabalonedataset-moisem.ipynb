{
 "cells": [
  {
   "cell_type": "code",
   "execution_count": 1,
   "id": "c7b66221",
   "metadata": {
    "execution": {
     "iopub.execute_input": "2025-05-26T05:13:42.737496Z",
     "iopub.status.busy": "2025-05-26T05:13:42.737160Z",
     "iopub.status.idle": "2025-05-26T05:13:42.742148Z",
     "shell.execute_reply": "2025-05-26T05:13:42.741227Z"
    },
    "id": "ghjXmyljMEo-",
    "papermill": {
     "duration": 0.013644,
     "end_time": "2025-05-26T05:13:42.743722",
     "exception": false,
     "start_time": "2025-05-26T05:13:42.730078",
     "status": "completed"
    },
    "tags": []
   },
   "outputs": [],
   "source": [
    "#-----------------------------------------\n",
    "# Title: Regression With Abalone Dataset\n",
    "# Subtitle: DDS-8555, Assignment 2\n",
    "# Author: Madgene Moise\n",
    "# Date: Sunday, May 25, 2025\n",
    "#-----------------------------------------"
   ]
  },
  {
   "cell_type": "code",
   "execution_count": 2,
   "id": "d915f41a",
   "metadata": {
    "execution": {
     "iopub.execute_input": "2025-05-26T05:13:42.754502Z",
     "iopub.status.busy": "2025-05-26T05:13:42.754171Z",
     "iopub.status.idle": "2025-05-26T05:13:46.558041Z",
     "shell.execute_reply": "2025-05-26T05:13:46.556977Z"
    },
    "executionInfo": {
     "elapsed": 1915,
     "status": "ok",
     "timestamp": 1748226869771,
     "user": {
      "displayName": "madgy85",
      "userId": "06303590710809156866"
     },
     "user_tz": 240
    },
    "id": "vcPfEdLkcIAE",
    "papermill": {
     "duration": 3.811766,
     "end_time": "2025-05-26T05:13:46.560511",
     "exception": false,
     "start_time": "2025-05-26T05:13:42.748745",
     "status": "completed"
    },
    "tags": []
   },
   "outputs": [],
   "source": [
    "# Step 1: Import necessary libraries and load the datasets\n",
    "import pandas as pd\n",
    "import seaborn as sns"
   ]
  },
  {
   "cell_type": "code",
   "execution_count": 3,
   "id": "1c911172",
   "metadata": {
    "execution": {
     "iopub.execute_input": "2025-05-26T05:13:46.577976Z",
     "iopub.status.busy": "2025-05-26T05:13:46.577507Z",
     "iopub.status.idle": "2025-05-26T05:13:46.927193Z",
     "shell.execute_reply": "2025-05-26T05:13:46.926234Z"
    },
    "executionInfo": {
     "elapsed": 456,
     "status": "ok",
     "timestamp": 1748227382238,
     "user": {
      "displayName": "madgy85",
      "userId": "06303590710809156866"
     },
     "user_tz": 240
    },
    "id": "rYOMLmeqcW6S",
    "outputId": "3b4b31d0-77d8-414e-81a0-3eb1c69f4546",
    "papermill": {
     "duration": 0.360246,
     "end_time": "2025-05-26T05:13:46.928941",
     "exception": false,
     "start_time": "2025-05-26T05:13:46.568695",
     "status": "completed"
    },
    "tags": []
   },
   "outputs": [
    {
     "data": {
      "text/html": [
       "<div>\n",
       "<style scoped>\n",
       "    .dataframe tbody tr th:only-of-type {\n",
       "        vertical-align: middle;\n",
       "    }\n",
       "\n",
       "    .dataframe tbody tr th {\n",
       "        vertical-align: top;\n",
       "    }\n",
       "\n",
       "    .dataframe thead th {\n",
       "        text-align: right;\n",
       "    }\n",
       "</style>\n",
       "<table border=\"1\" class=\"dataframe\">\n",
       "  <thead>\n",
       "    <tr style=\"text-align: right;\">\n",
       "      <th></th>\n",
       "      <th>id</th>\n",
       "      <th>Sex</th>\n",
       "      <th>Length</th>\n",
       "      <th>Diameter</th>\n",
       "      <th>Height</th>\n",
       "      <th>Whole weight</th>\n",
       "      <th>Whole weight.1</th>\n",
       "      <th>Whole weight.2</th>\n",
       "      <th>Shell weight</th>\n",
       "      <th>Rings</th>\n",
       "    </tr>\n",
       "  </thead>\n",
       "  <tbody>\n",
       "    <tr>\n",
       "      <th>0</th>\n",
       "      <td>0</td>\n",
       "      <td>F</td>\n",
       "      <td>0.550</td>\n",
       "      <td>0.430</td>\n",
       "      <td>0.150</td>\n",
       "      <td>0.7715</td>\n",
       "      <td>0.3285</td>\n",
       "      <td>0.1465</td>\n",
       "      <td>0.2400</td>\n",
       "      <td>11</td>\n",
       "    </tr>\n",
       "    <tr>\n",
       "      <th>1</th>\n",
       "      <td>1</td>\n",
       "      <td>F</td>\n",
       "      <td>0.630</td>\n",
       "      <td>0.490</td>\n",
       "      <td>0.145</td>\n",
       "      <td>1.1300</td>\n",
       "      <td>0.4580</td>\n",
       "      <td>0.2765</td>\n",
       "      <td>0.3200</td>\n",
       "      <td>11</td>\n",
       "    </tr>\n",
       "    <tr>\n",
       "      <th>2</th>\n",
       "      <td>2</td>\n",
       "      <td>I</td>\n",
       "      <td>0.160</td>\n",
       "      <td>0.110</td>\n",
       "      <td>0.025</td>\n",
       "      <td>0.0210</td>\n",
       "      <td>0.0055</td>\n",
       "      <td>0.0030</td>\n",
       "      <td>0.0050</td>\n",
       "      <td>6</td>\n",
       "    </tr>\n",
       "    <tr>\n",
       "      <th>3</th>\n",
       "      <td>3</td>\n",
       "      <td>M</td>\n",
       "      <td>0.595</td>\n",
       "      <td>0.475</td>\n",
       "      <td>0.150</td>\n",
       "      <td>0.9145</td>\n",
       "      <td>0.3755</td>\n",
       "      <td>0.2055</td>\n",
       "      <td>0.2500</td>\n",
       "      <td>10</td>\n",
       "    </tr>\n",
       "    <tr>\n",
       "      <th>4</th>\n",
       "      <td>4</td>\n",
       "      <td>I</td>\n",
       "      <td>0.555</td>\n",
       "      <td>0.425</td>\n",
       "      <td>0.130</td>\n",
       "      <td>0.7820</td>\n",
       "      <td>0.3695</td>\n",
       "      <td>0.1600</td>\n",
       "      <td>0.1975</td>\n",
       "      <td>9</td>\n",
       "    </tr>\n",
       "  </tbody>\n",
       "</table>\n",
       "</div>"
      ],
      "text/plain": [
       "   id Sex  Length  Diameter  Height  Whole weight  Whole weight.1  \\\n",
       "0   0   F   0.550     0.430   0.150        0.7715          0.3285   \n",
       "1   1   F   0.630     0.490   0.145        1.1300          0.4580   \n",
       "2   2   I   0.160     0.110   0.025        0.0210          0.0055   \n",
       "3   3   M   0.595     0.475   0.150        0.9145          0.3755   \n",
       "4   4   I   0.555     0.425   0.130        0.7820          0.3695   \n",
       "\n",
       "   Whole weight.2  Shell weight  Rings  \n",
       "0          0.1465        0.2400     11  \n",
       "1          0.2765        0.3200     11  \n",
       "2          0.0030        0.0050      6  \n",
       "3          0.2055        0.2500     10  \n",
       "4          0.1600        0.1975      9  "
      ]
     },
     "execution_count": 3,
     "metadata": {},
     "output_type": "execute_result"
    }
   ],
   "source": [
    "# Load the training and testing datasets\n",
    "train_df = pd.read_csv(\"/kaggle/input/playground-series-s4e4/train.csv\") \n",
    "test_df = pd.read_csv(\"/kaggle/input/playground-series-s4e4/test.csv\")\n",
    "\n",
    "# Display the first few rows of the training dataset\n",
    "train_df.head()"
   ]
  },
  {
   "cell_type": "markdown",
   "id": "d518f72d",
   "metadata": {
    "id": "9BYM642peejI",
    "papermill": {
     "duration": 0.004452,
     "end_time": "2025-05-26T05:13:46.938220",
     "exception": false,
     "start_time": "2025-05-26T05:13:46.933768",
     "status": "completed"
    },
    "tags": []
   },
   "source": [
    "A dataset that resembles the Abalone dataset, where the goal is to predict the age of abalone snails typically represented as:\n",
    "Age = Rings + 1.5."
   ]
  },
  {
   "cell_type": "code",
   "execution_count": 4,
   "id": "b00a1b87",
   "metadata": {
    "execution": {
     "iopub.execute_input": "2025-05-26T05:13:46.949092Z",
     "iopub.status.busy": "2025-05-26T05:13:46.948660Z",
     "iopub.status.idle": "2025-05-26T05:13:47.635692Z",
     "shell.execute_reply": "2025-05-26T05:13:47.634765Z"
    },
    "executionInfo": {
     "elapsed": 854,
     "status": "ok",
     "timestamp": 1748228018151,
     "user": {
      "displayName": "madgy85",
      "userId": "06303590710809156866"
     },
     "user_tz": 240
    },
    "id": "Sfj1VrNue7sm",
    "papermill": {
     "duration": 0.694632,
     "end_time": "2025-05-26T05:13:47.637422",
     "exception": false,
     "start_time": "2025-05-26T05:13:46.942790",
     "status": "completed"
    },
    "tags": []
   },
   "outputs": [],
   "source": [
    "# Categorical: Sex (Male=M, Female=F, Infant=I)\n",
    "# Numerical: Length, Diameter, Height, Whole weight, etc.\n",
    "\n",
    "# Preprocessing: Convert categorical Sex to dummy variables.\n",
    "# Check for multicolinearity or duplicate features (Whole weight seems repeated).\n",
    "\n",
    "from sklearn.model_selection import train_test_split\n",
    "from sklearn.linear_model import LinearRegression\n",
    "from sklearn.ensemble import RandomForestRegressor\n",
    "from sklearn.metrics import mean_squared_error, r2_score\n",
    "from sklearn.preprocessing import OneHotEncoder\n",
    "import numpy as np"
   ]
  },
  {
   "cell_type": "code",
   "execution_count": 5,
   "id": "5d68fef6",
   "metadata": {
    "execution": {
     "iopub.execute_input": "2025-05-26T05:13:47.648152Z",
     "iopub.status.busy": "2025-05-26T05:13:47.647713Z",
     "iopub.status.idle": "2025-05-26T05:13:47.671913Z",
     "shell.execute_reply": "2025-05-26T05:13:47.670614Z"
    },
    "executionInfo": {
     "elapsed": 11,
     "status": "ok",
     "timestamp": 1748228035683,
     "user": {
      "displayName": "madgy85",
      "userId": "06303590710809156866"
     },
     "user_tz": 240
    },
    "id": "0H1jHAJTgqbV",
    "papermill": {
     "duration": 0.031357,
     "end_time": "2025-05-26T05:13:47.673628",
     "exception": false,
     "start_time": "2025-05-26T05:13:47.642271",
     "status": "completed"
    },
    "tags": []
   },
   "outputs": [],
   "source": [
    "# Drop id column and inspect duplicate weight columns\n",
    "train_df = train_df.drop(columns=['id'])\n",
    "test_ids = test_df['id']\n",
    "test_df = test_df.drop(columns=['id'])"
   ]
  },
  {
   "cell_type": "code",
   "execution_count": 6,
   "id": "6f59ea6f",
   "metadata": {
    "execution": {
     "iopub.execute_input": "2025-05-26T05:13:47.684437Z",
     "iopub.status.busy": "2025-05-26T05:13:47.684116Z",
     "iopub.status.idle": "2025-05-26T05:13:47.696901Z",
     "shell.execute_reply": "2025-05-26T05:13:47.695936Z"
    },
    "executionInfo": {
     "elapsed": 14,
     "status": "ok",
     "timestamp": 1748228053118,
     "user": {
      "displayName": "madgy85",
      "userId": "06303590710809156866"
     },
     "user_tz": 240
    },
    "id": "lEhfEC9TguX9",
    "papermill": {
     "duration": 0.020169,
     "end_time": "2025-05-26T05:13:47.698712",
     "exception": false,
     "start_time": "2025-05-26T05:13:47.678543",
     "status": "completed"
    },
    "tags": []
   },
   "outputs": [],
   "source": [
    "# Drop one of the duplicated 'Whole weight' columns\n",
    "train_df = train_df.drop(columns=['Whole weight.1'])\n",
    "test_df = test_df.drop(columns=['Whole weight.1'])"
   ]
  },
  {
   "cell_type": "code",
   "execution_count": 7,
   "id": "bc5bba0c",
   "metadata": {
    "execution": {
     "iopub.execute_input": "2025-05-26T05:13:47.715629Z",
     "iopub.status.busy": "2025-05-26T05:13:47.715244Z",
     "iopub.status.idle": "2025-05-26T05:13:47.767881Z",
     "shell.execute_reply": "2025-05-26T05:13:47.766908Z"
    },
    "executionInfo": {
     "elapsed": 30,
     "status": "ok",
     "timestamp": 1748228071421,
     "user": {
      "displayName": "madgy85",
      "userId": "06303590710809156866"
     },
     "user_tz": 240
    },
    "id": "II05ZSfigy1k",
    "papermill": {
     "duration": 0.062599,
     "end_time": "2025-05-26T05:13:47.769649",
     "exception": false,
     "start_time": "2025-05-26T05:13:47.707050",
     "status": "completed"
    },
    "tags": []
   },
   "outputs": [],
   "source": [
    "# One-hot encode the 'Sex' column\n",
    "combined_df = pd.concat([train_df.drop(columns=['Rings']), test_df], axis=0)\n",
    "encoded = pd.get_dummies(combined_df, columns=['Sex'])"
   ]
  },
  {
   "cell_type": "code",
   "execution_count": 8,
   "id": "103fde4c",
   "metadata": {
    "execution": {
     "iopub.execute_input": "2025-05-26T05:13:47.781174Z",
     "iopub.status.busy": "2025-05-26T05:13:47.780766Z",
     "iopub.status.idle": "2025-05-26T05:13:47.785719Z",
     "shell.execute_reply": "2025-05-26T05:13:47.784950Z"
    },
    "executionInfo": {
     "elapsed": 4,
     "status": "ok",
     "timestamp": 1748228086508,
     "user": {
      "displayName": "madgy85",
      "userId": "06303590710809156866"
     },
     "user_tz": 240
    },
    "id": "I9OjTGuzg3CU",
    "papermill": {
     "duration": 0.012612,
     "end_time": "2025-05-26T05:13:47.787433",
     "exception": false,
     "start_time": "2025-05-26T05:13:47.774821",
     "status": "completed"
    },
    "tags": []
   },
   "outputs": [],
   "source": [
    "# Split encoded data back into train and test\n",
    "X_train = encoded.iloc[:len(train_df), :]\n",
    "X_test = encoded.iloc[len(train_df):, :]"
   ]
  },
  {
   "cell_type": "code",
   "execution_count": 9,
   "id": "2250c63d",
   "metadata": {
    "execution": {
     "iopub.execute_input": "2025-05-26T05:13:47.804659Z",
     "iopub.status.busy": "2025-05-26T05:13:47.804271Z",
     "iopub.status.idle": "2025-05-26T05:13:47.809612Z",
     "shell.execute_reply": "2025-05-26T05:13:47.808613Z"
    },
    "executionInfo": {
     "elapsed": 20,
     "status": "ok",
     "timestamp": 1748228098974,
     "user": {
      "displayName": "madgy85",
      "userId": "06303590710809156866"
     },
     "user_tz": 240
    },
    "id": "ESPQZU5pg6zl",
    "papermill": {
     "duration": 0.015499,
     "end_time": "2025-05-26T05:13:47.811278",
     "exception": false,
     "start_time": "2025-05-26T05:13:47.795779",
     "status": "completed"
    },
    "tags": []
   },
   "outputs": [],
   "source": [
    "# Target variable\n",
    "y_train = train_df['Rings']"
   ]
  },
  {
   "cell_type": "code",
   "execution_count": 10,
   "id": "e7919cd3",
   "metadata": {
    "execution": {
     "iopub.execute_input": "2025-05-26T05:13:47.828536Z",
     "iopub.status.busy": "2025-05-26T05:13:47.827826Z",
     "iopub.status.idle": "2025-05-26T05:13:47.937993Z",
     "shell.execute_reply": "2025-05-26T05:13:47.937289Z"
    },
    "executionInfo": {
     "elapsed": 282,
     "status": "ok",
     "timestamp": 1748228114281,
     "user": {
      "displayName": "madgy85",
      "userId": "06303590710809156866"
     },
     "user_tz": 240
    },
    "id": "RE-2dyb7g9hl",
    "papermill": {
     "duration": 0.120345,
     "end_time": "2025-05-26T05:13:47.939837",
     "exception": false,
     "start_time": "2025-05-26T05:13:47.819492",
     "status": "completed"
    },
    "tags": []
   },
   "outputs": [],
   "source": [
    "# Model 1: Linear Regression\n",
    "linreg = LinearRegression()\n",
    "linreg.fit(X_train, y_train)\n",
    "y_pred_lin = linreg.predict(X_train)"
   ]
  },
  {
   "cell_type": "code",
   "execution_count": 11,
   "id": "0daf3d70",
   "metadata": {
    "execution": {
     "iopub.execute_input": "2025-05-26T05:13:47.952675Z",
     "iopub.status.busy": "2025-05-26T05:13:47.952371Z",
     "iopub.status.idle": "2025-05-26T05:14:33.350321Z",
     "shell.execute_reply": "2025-05-26T05:14:33.349266Z"
    },
    "executionInfo": {
     "elapsed": 57677,
     "status": "ok",
     "timestamp": 1748228185821,
     "user": {
      "displayName": "madgy85",
      "userId": "06303590710809156866"
     },
     "user_tz": 240
    },
    "id": "36ISM2UJhBTN",
    "papermill": {
     "duration": 45.406441,
     "end_time": "2025-05-26T05:14:33.352091",
     "exception": false,
     "start_time": "2025-05-26T05:13:47.945650",
     "status": "completed"
    },
    "tags": []
   },
   "outputs": [],
   "source": [
    "# Model 2: Random Forest Regressor\n",
    "rf = RandomForestRegressor(random_state=42, n_estimators=100)\n",
    "rf.fit(X_train, y_train)\n",
    "y_pred_rf = rf.predict(X_train)"
   ]
  },
  {
   "cell_type": "code",
   "execution_count": 12,
   "id": "b652ed4d",
   "metadata": {
    "execution": {
     "iopub.execute_input": "2025-05-26T05:14:33.363389Z",
     "iopub.status.busy": "2025-05-26T05:14:33.363097Z",
     "iopub.status.idle": "2025-05-26T05:14:33.381787Z",
     "shell.execute_reply": "2025-05-26T05:14:33.380965Z"
    },
    "executionInfo": {
     "elapsed": 48,
     "status": "ok",
     "timestamp": 1748228426532,
     "user": {
      "displayName": "madgy85",
      "userId": "06303590710809156866"
     },
     "user_tz": 240
    },
    "id": "z4DwcHO_iFlE",
    "outputId": "2421c0b4-7ec4-49c9-9a3e-966197624f0d",
    "papermill": {
     "duration": 0.025857,
     "end_time": "2025-05-26T05:14:33.383556",
     "exception": false,
     "start_time": "2025-05-26T05:14:33.357699",
     "status": "completed"
    },
    "tags": []
   },
   "outputs": [
    {
     "data": {
      "text/html": [
       "<div>\n",
       "<style scoped>\n",
       "    .dataframe tbody tr th:only-of-type {\n",
       "        vertical-align: middle;\n",
       "    }\n",
       "\n",
       "    .dataframe tbody tr th {\n",
       "        vertical-align: top;\n",
       "    }\n",
       "\n",
       "    .dataframe thead th {\n",
       "        text-align: right;\n",
       "    }\n",
       "</style>\n",
       "<table border=\"1\" class=\"dataframe\">\n",
       "  <thead>\n",
       "    <tr style=\"text-align: right;\">\n",
       "      <th></th>\n",
       "      <th>Model</th>\n",
       "      <th>RMSE</th>\n",
       "      <th>R^2 Score</th>\n",
       "    </tr>\n",
       "  </thead>\n",
       "  <tbody>\n",
       "    <tr>\n",
       "      <th>0</th>\n",
       "      <td>Linear Regression</td>\n",
       "      <td>2.113128</td>\n",
       "      <td>0.557376</td>\n",
       "    </tr>\n",
       "    <tr>\n",
       "      <th>1</th>\n",
       "      <td>Random Forest</td>\n",
       "      <td>0.752363</td>\n",
       "      <td>0.943890</td>\n",
       "    </tr>\n",
       "  </tbody>\n",
       "</table>\n",
       "</div>"
      ],
      "text/plain": [
       "               Model      RMSE  R^2 Score\n",
       "0  Linear Regression  2.113128   0.557376\n",
       "1      Random Forest  0.752363   0.943890"
      ]
     },
     "execution_count": 12,
     "metadata": {},
     "output_type": "execute_result"
    }
   ],
   "source": [
    "# Evaluate both models\n",
    "results = pd.DataFrame({\n",
    "    'Model': ['Linear Regression', 'Random Forest'],\n",
    "    'RMSE': [\n",
    "        np.sqrt(mean_squared_error(y_train, y_pred_lin)),\n",
    "        np.sqrt(mean_squared_error(y_train, y_pred_rf))\n",
    "    ],\n",
    "    'R^2 Score': [\n",
    "        r2_score(y_train, y_pred_lin),\n",
    "        r2_score(y_train, y_pred_rf)\n",
    "    ]\n",
    "})\n",
    "results"
   ]
  },
  {
   "cell_type": "markdown",
   "id": "4848817f",
   "metadata": {
    "id": "ivYNwcQriVCT",
    "papermill": {
     "duration": 0.004375,
     "end_time": "2025-05-26T05:14:33.392570",
     "exception": false,
     "start_time": "2025-05-26T05:14:33.388195",
     "status": "completed"
    },
    "tags": []
   },
   "source": [
    "Interpretation: Linear Regression captures about 56% of the variance, with moderate error. Random Forest fits the training data extremely well, suggesting much higher accuracy. However, this could indicate a better model or potential overfitting (check residuals to confirm)."
   ]
  },
  {
   "cell_type": "code",
   "execution_count": 13,
   "id": "ea754e97",
   "metadata": {
    "execution": {
     "iopub.execute_input": "2025-05-26T05:14:33.403405Z",
     "iopub.status.busy": "2025-05-26T05:14:33.403096Z",
     "iopub.status.idle": "2025-05-26T05:14:35.264946Z",
     "shell.execute_reply": "2025-05-26T05:14:35.263525Z"
    },
    "executionInfo": {
     "elapsed": 2396,
     "status": "ok",
     "timestamp": 1748228744894,
     "user": {
      "displayName": "madgy85",
      "userId": "06303590710809156866"
     },
     "user_tz": 240
    },
    "id": "ORVECVNci5gi",
    "papermill": {
     "duration": 1.870418,
     "end_time": "2025-05-26T05:14:35.267863",
     "exception": false,
     "start_time": "2025-05-26T05:14:33.397445",
     "status": "completed"
    },
    "tags": []
   },
   "outputs": [],
   "source": [
    "# Analyze model assumptions (normality, homoscedasticity, outliers) and generate predictions on the test set.\n",
    "# First, import the necessary libraries to perform this task.\n",
    "import matplotlib.pyplot as plt\n",
    "import seaborn as sns\n",
    "import statsmodels.api as sm"
   ]
  },
  {
   "cell_type": "code",
   "execution_count": 14,
   "id": "33ebc958",
   "metadata": {
    "execution": {
     "iopub.execute_input": "2025-05-26T05:14:35.279407Z",
     "iopub.status.busy": "2025-05-26T05:14:35.278830Z",
     "iopub.status.idle": "2025-05-26T05:14:35.285626Z",
     "shell.execute_reply": "2025-05-26T05:14:35.284882Z"
    },
    "executionInfo": {
     "elapsed": 16,
     "status": "ok",
     "timestamp": 1748228783047,
     "user": {
      "displayName": "madgy85",
      "userId": "06303590710809156866"
     },
     "user_tz": 240
    },
    "id": "eZ_Uz6EpjiUy",
    "papermill": {
     "duration": 0.01374,
     "end_time": "2025-05-26T05:14:35.287129",
     "exception": false,
     "start_time": "2025-05-26T05:14:35.273389",
     "status": "completed"
    },
    "tags": []
   },
   "outputs": [],
   "source": [
    "# Residuals for both models\n",
    "residuals_lin = y_train - y_pred_lin\n",
    "residuals_rf = y_train - y_pred_rf"
   ]
  },
  {
   "cell_type": "code",
   "execution_count": 15,
   "id": "d411d9b3",
   "metadata": {
    "execution": {
     "iopub.execute_input": "2025-05-26T05:14:35.297908Z",
     "iopub.status.busy": "2025-05-26T05:14:35.297325Z",
     "iopub.status.idle": "2025-05-26T05:14:37.080086Z",
     "shell.execute_reply": "2025-05-26T05:14:37.079023Z"
    },
    "executionInfo": {
     "elapsed": 1602,
     "status": "ok",
     "timestamp": 1748228917707,
     "user": {
      "displayName": "madgy85",
      "userId": "06303590710809156866"
     },
     "user_tz": 240
    },
    "id": "iF0LN0gzjkZR",
    "outputId": "f4f58bba-142d-45c4-dc9e-b2108d2d3302",
    "papermill": {
     "duration": 1.790812,
     "end_time": "2025-05-26T05:14:37.082725",
     "exception": false,
     "start_time": "2025-05-26T05:14:35.291913",
     "status": "completed"
    },
    "tags": []
   },
   "outputs": [
    {
     "name": "stderr",
     "output_type": "stream",
     "text": [
      "/usr/local/lib/python3.11/dist-packages/seaborn/_oldcore.py:1119: FutureWarning: use_inf_as_na option is deprecated and will be removed in a future version. Convert inf values to NaN before operating instead.\n",
      "  with pd.option_context('mode.use_inf_as_na', True):\n"
     ]
    },
    {
     "data": {
      "image/png": "[encoded data removed]",
      "text/plain": [
       "<Figure size 1800x500 with 3 Axes>"
      ]
     },
     "metadata": {},
     "output_type": "display_data"
    }
   ],
   "source": [
    "# Plot residual diagnostics for Linear Regression\n",
    "fig, axes = plt.subplots(1, 3, figsize=(18, 5))\n",
    "\n",
    "# Residuals histogram\n",
    "sns.histplot(residuals_lin, kde=True, ax=axes[0], bins=30)\n",
    "axes[0].set_title(\"Linear Regression Residuals Histogram\")\n",
    "\n",
    "# Q-Q plot\n",
    "sm.qqplot(residuals_lin, line='s', ax=axes[1])\n",
    "axes[1].set_title(\"Q-Q Plot of Linear Regression Residuals\")\n",
    "\n",
    "# Residuals vs Fitted\n",
    "axes[2].scatter(y_pred_lin, residuals_lin, alpha=0.5)\n",
    "axes[2].axhline(y=0, color='red', linestyle='--')\n",
    "axes[2].set_xlabel(\"Fitted Values\")\n",
    "axes[2].set_ylabel(\"Residuals\")\n",
    "axes[2].set_title(\"Residuals vs Fitted (Linear Regression)\")\n",
    "\n",
    "plt.tight_layout()\n",
    "plt.show()"
   ]
  },
  {
   "cell_type": "markdown",
   "id": "69979266",
   "metadata": {
    "id": "sSBDAlwfn7G2",
    "papermill": {
     "duration": 0.006634,
     "end_time": "2025-05-26T05:14:37.096359",
     "exception": false,
     "start_time": "2025-05-26T05:14:37.089725",
     "status": "completed"
    },
    "tags": []
   },
   "source": [
    "The histogram (left panel) shows that the residuals are centered around 0, which is good. However, there is a noticeable skew and heavier tails, especially on the right (positive residuals). This suggests departures from normality, particularly with some extreme residual values."
   ]
  },
  {
   "cell_type": "markdown",
   "id": "58610f60",
   "metadata": {
    "id": "cfbPcydIor-V",
    "papermill": {
     "duration": 0.006634,
     "end_time": "2025-05-26T05:14:37.109550",
     "exception": false,
     "start_time": "2025-05-26T05:14:37.102916",
     "status": "completed"
    },
    "tags": []
   },
   "source": [
    "The Q-Q plot (middle panel) shows the middle portion of the distribution follows the straight line (normal). However, the deviations in both tails (left and right) indicate non-normality, with heavy-tailed residuals. This confirms the histogram insight. Therefore, the assumption of normality is violated, particularly in the tails which is a common issue with integer/count targets like Rings."
   ]
  },
  {
   "cell_type": "markdown",
   "id": "54ed6d32",
   "metadata": {
    "id": "4RScWJV_q3R6",
    "papermill": {
     "duration": 0.006419,
     "end_time": "2025-05-26T05:14:37.122647",
     "exception": false,
     "start_time": "2025-05-26T05:14:37.116228",
     "status": "completed"
    },
    "tags": []
   },
   "source": [
    "The residuals vs. fitted plot (right panel), shows a clear funnel shape where the residuals have a larger spread for lower fitted values and shrink as fitted values increase. This indicates heteroscedasticity because the variance of errors is not constant. A few large residuals are observed at higher predicted values, suggesting potential outliers or leverage points. The model violates homoscedasticity. The variance of residuals decreases with increasing fitted values."
   ]
  },
  {
   "cell_type": "markdown",
   "id": "f3fc8952",
   "metadata": {
    "id": "tBcco0KXsrY4",
    "papermill": {
     "duration": 0.006251,
     "end_time": "2025-05-26T05:14:37.135373",
     "exception": false,
     "start_time": "2025-05-26T05:14:37.129122",
     "status": "completed"
    },
    "tags": []
   },
   "source": [
    "Outliers and influential observations:\n",
    "The Q-Q- plot and Residuals vs. Fitted plot both reveal some extreme residuals. Some points deviate beyond + or - 20 in residual scale, indicating potential outliers. There is no evidence of massive leverage effects visually, but furhter analysis (e.g., Cook's Distance) would confirm.\n",
    "Overall there are likely some moderate to strong outliers."
   ]
  }
 ],
 "metadata": {
  "colab": {
   "authorship_tag": "ABX9TyP4Zq88V3OiCvw4iW7Ma5FE",
   "provenance": []
  },
  "kaggle": {
   "accelerator": "none",
   "dataSources": [
    {
     "databundleVersionId": 8096274,
     "sourceId": 72489,
     "sourceType": "competition"
    }
   ],
   "dockerImageVersionId": 31040,
   "isGpuEnabled": false,
   "isInternetEnabled": false,
   "language": "python",
   "sourceType": "notebook"
  },
  "kernelspec": {
   "display_name": "Python 3",
   "language": "python",
   "name": "python3"
  },
  "language_info": {
   "codemirror_mode": {
    "name": "ipython",
    "version": 3
   },
   "file_extension": ".py",
   "mimetype": "text/x-python",
   "name": "python",
   "nbconvert_exporter": "python",
   "pygments_lexer": "ipython3",
   "version": "3.11.11"
  },
  "papermill": {
   "default_parameters": {},
   "duration": 60.073819,
   "end_time": "2025-05-26T05:14:37.961908",
   "environment_variables": {},
   "exception": null,
   "input_path": "__notebook__.ipynb",
   "output_path": "__notebook__.ipynb",
   "parameters": {},
   "start_time": "2025-05-26T05:13:37.888089",
   "version": "2.6.0"
  }
 },
 "nbformat": 4,
 "nbformat_minor": 5
}
