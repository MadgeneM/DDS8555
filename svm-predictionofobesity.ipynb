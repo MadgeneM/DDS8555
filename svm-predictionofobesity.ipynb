{
 "cells": [
  {
   "cell_type": "code",
   "execution_count": 1,
   "id": "74f31dbc",
   "metadata": {
    "_cell_guid": "b1076dfc-b9ad-4769-8c92-a6c4dae69d19",
    "_uuid": "8f2839f25d086af736a60e9eeb907d3b93b6e0e5",
    "execution": {
     "iopub.execute_input": "2025-06-16T07:38:14.962471Z",
     "iopub.status.busy": "2025-06-16T07:38:14.962176Z",
     "iopub.status.idle": "2025-06-16T07:38:14.966501Z",
     "shell.execute_reply": "2025-06-16T07:38:14.965895Z"
    },
    "papermill": {
     "duration": 0.00985,
     "end_time": "2025-06-16T07:38:14.967930",
     "exception": false,
     "start_time": "2025-06-16T07:38:14.958080",
     "status": "completed"
    },
    "tags": []
   },
   "outputs": [],
   "source": [
    "#-----------------------------------------\n",
    "# Title:  Support Vector Machine (SVM) Multi-Class Prediction of Obesity Risk Dataset\n",
    "# Subtitle: DDS-8555, Assignment 5\n",
    "# Author: Madgene Moise\n",
    "# Date: Sunday, June 15, 2025\n",
    "#-----------------------------------------"
   ]
  },
  {
   "cell_type": "code",
   "execution_count": 2,
   "id": "00186e76",
   "metadata": {
    "execution": {
     "iopub.execute_input": "2025-06-16T07:38:14.974531Z",
     "iopub.status.busy": "2025-06-16T07:38:14.974241Z",
     "iopub.status.idle": "2025-06-16T07:38:17.027824Z",
     "shell.execute_reply": "2025-06-16T07:38:17.026843Z"
    },
    "papermill": {
     "duration": 2.058282,
     "end_time": "2025-06-16T07:38:17.029224",
     "exception": false,
     "start_time": "2025-06-16T07:38:14.970942",
     "status": "completed"
    },
    "tags": []
   },
   "outputs": [
    {
     "name": "stdout",
     "output_type": "stream",
     "text": [
      "<class 'pandas.core.frame.DataFrame'>\n",
      "RangeIndex: 20758 entries, 0 to 20757\n",
      "Data columns (total 18 columns):\n",
      " #   Column                          Non-Null Count  Dtype  \n",
      "---  ------                          --------------  -----  \n",
      " 0   id                              20758 non-null  int64  \n",
      " 1   Gender                          20758 non-null  object \n",
      " 2   Age                             20758 non-null  float64\n",
      " 3   Height                          20758 non-null  float64\n",
      " 4   Weight                          20758 non-null  float64\n",
      " 5   family_history_with_overweight  20758 non-null  object \n",
      " 6   FAVC                            20758 non-null  object \n",
      " 7   FCVC                            20758 non-null  float64\n",
      " 8   NCP                             20758 non-null  float64\n",
      " 9   CAEC                            20758 non-null  object \n",
      " 10  SMOKE                           20758 non-null  object \n",
      " 11  CH2O                            20758 non-null  float64\n",
      " 12  SCC                             20758 non-null  object \n",
      " 13  FAF                             20758 non-null  float64\n",
      " 14  TUE                             20758 non-null  float64\n",
      " 15  CALC                            20758 non-null  object \n",
      " 16  MTRANS                          20758 non-null  object \n",
      " 17  NObeyesdad                      20758 non-null  object \n",
      "dtypes: float64(8), int64(1), object(9)\n",
      "memory usage: 2.9+ MB\n",
      "<class 'pandas.core.frame.DataFrame'>\n",
      "RangeIndex: 13840 entries, 0 to 13839\n",
      "Data columns (total 17 columns):\n",
      " #   Column                          Non-Null Count  Dtype  \n",
      "---  ------                          --------------  -----  \n",
      " 0   id                              13840 non-null  int64  \n",
      " 1   Gender                          13840 non-null  object \n",
      " 2   Age                             13840 non-null  float64\n",
      " 3   Height                          13840 non-null  float64\n",
      " 4   Weight                          13840 non-null  float64\n",
      " 5   family_history_with_overweight  13840 non-null  object \n",
      " 6   FAVC                            13840 non-null  object \n",
      " 7   FCVC                            13840 non-null  float64\n",
      " 8   NCP                             13840 non-null  float64\n",
      " 9   CAEC                            13840 non-null  object \n",
      " 10  SMOKE                           13840 non-null  object \n",
      " 11  CH2O                            13840 non-null  float64\n",
      " 12  SCC                             13840 non-null  object \n",
      " 13  FAF                             13840 non-null  float64\n",
      " 14  TUE                             13840 non-null  float64\n",
      " 15  CALC                            13840 non-null  object \n",
      " 16  MTRANS                          13840 non-null  object \n",
      "dtypes: float64(8), int64(1), object(8)\n",
      "memory usage: 1.8+ MB\n"
     ]
    },
    {
     "data": {
      "text/plain": [
       "(None,\n",
       "    id  Gender        Age    Height      Weight family_history_with_overweight  \\\n",
       " 0   0    Male  24.443011  1.699998   81.669950                            yes   \n",
       " 1   1  Female  18.000000  1.560000   57.000000                            yes   \n",
       " 2   2  Female  18.000000  1.711460   50.165754                            yes   \n",
       " 3   3  Female  20.952737  1.710730  131.274851                            yes   \n",
       " 4   4    Male  31.641081  1.914186   93.798055                            yes   \n",
       " \n",
       "   FAVC      FCVC       NCP        CAEC SMOKE      CH2O SCC       FAF  \\\n",
       " 0  yes  2.000000  2.983297   Sometimes    no  2.763573  no  0.000000   \n",
       " 1  yes  2.000000  3.000000  Frequently    no  2.000000  no  1.000000   \n",
       " 2  yes  1.880534  1.411685   Sometimes    no  1.910378  no  0.866045   \n",
       " 3  yes  3.000000  3.000000   Sometimes    no  1.674061  no  1.467863   \n",
       " 4  yes  2.679664  1.971472   Sometimes    no  1.979848  no  1.967973   \n",
       " \n",
       "         TUE       CALC                 MTRANS           NObeyesdad  \n",
       " 0  0.976473  Sometimes  Public_Transportation  Overweight_Level_II  \n",
       " 1  1.000000         no             Automobile        Normal_Weight  \n",
       " 2  1.673584         no  Public_Transportation  Insufficient_Weight  \n",
       " 3  0.780199  Sometimes  Public_Transportation     Obesity_Type_III  \n",
       " 4  0.931721  Sometimes  Public_Transportation  Overweight_Level_II  ,\n",
       " None,\n",
       "       id  Gender        Age    Height      Weight  \\\n",
       " 0  20758    Male  26.899886  1.848294  120.644178   \n",
       " 1  20759  Female  21.000000  1.600000   66.000000   \n",
       " 2  20760  Female  26.000000  1.643355  111.600553   \n",
       " 3  20761    Male  20.979254  1.553127  103.669116   \n",
       " 4  20762  Female  26.000000  1.627396  104.835346   \n",
       " \n",
       "   family_history_with_overweight FAVC      FCVC       NCP       CAEC SMOKE  \\\n",
       " 0                            yes  yes  2.938616  3.000000  Sometimes    no   \n",
       " 1                            yes  yes  2.000000  1.000000  Sometimes    no   \n",
       " 2                            yes  yes  3.000000  3.000000  Sometimes    no   \n",
       " 3                            yes  yes  2.000000  2.977909  Sometimes    no   \n",
       " 4                            yes  yes  3.000000  3.000000  Sometimes    no   \n",
       " \n",
       "        CH2O SCC       FAF       TUE       CALC                 MTRANS  \n",
       " 0  2.825629  no  0.855400  0.000000  Sometimes  Public_Transportation  \n",
       " 1  3.000000  no  1.000000  0.000000  Sometimes  Public_Transportation  \n",
       " 2  2.621877  no  0.000000  0.250502  Sometimes  Public_Transportation  \n",
       " 3  2.786417  no  0.094851  0.000000  Sometimes  Public_Transportation  \n",
       " 4  2.653531  no  0.000000  0.741069  Sometimes  Public_Transportation  )"
      ]
     },
     "execution_count": 2,
     "metadata": {},
     "output_type": "execute_result"
    }
   ],
   "source": [
    "import pandas as pd\n",
    "\n",
    "# Load the training and testing datasets\n",
    "\n",
    "train_df = pd.read_csv(\"/kaggle/input/playground-series-s4e2/train.csv\") \n",
    "test_df = pd.read_csv(\"/kaggle/input/playground-series-s4e2/test.csv\")\n",
    "\n",
    "# Display basic information about the datasets\n",
    "train_df.info(), train_df.head(), test_df.info(), test_df.head()"
   ]
  },
  {
   "cell_type": "code",
   "execution_count": 3,
   "id": "cb5f366c",
   "metadata": {
    "execution": {
     "iopub.execute_input": "2025-06-16T07:38:17.036877Z",
     "iopub.status.busy": "2025-06-16T07:38:17.035867Z",
     "iopub.status.idle": "2025-06-16T07:38:19.606786Z",
     "shell.execute_reply": "2025-06-16T07:38:19.605966Z"
    },
    "papermill": {
     "duration": 2.576183,
     "end_time": "2025-06-16T07:38:19.608429",
     "exception": false,
     "start_time": "2025-06-16T07:38:17.032246",
     "status": "completed"
    },
    "tags": []
   },
   "outputs": [],
   "source": [
    "from sklearn.model_selection import train_test_split\n",
    "from sklearn.preprocessing import LabelEncoder, StandardScaler\n",
    "from sklearn.svm import SVC\n",
    "from sklearn.metrics import classification_report, confusion_matrix\n",
    "import seaborn as sns\n",
    "import matplotlib.pyplot as plt\n",
    "\n",
    "# Separate features and target\n",
    "X_train = train_df.drop('NObeyesdad', axis=1)\n",
    "y_train = train_df['NObeyesdad']\n",
    "X_test = test_df.copy()\n",
    "\n",
    "# Encode categorical variables\n",
    "X_full = pd.concat([X_train, X_test])\n",
    "X_full_encoded = pd.get_dummies(X_full)\n",
    "\n",
    "# Align train and test\n",
    "X_train_encoded = X_full_encoded.iloc[:len(X_train), :]\n",
    "X_test_encoded = X_full_encoded.iloc[len(X_train):, :]\n",
    "\n",
    "# Encode target\n",
    "le = LabelEncoder()\n",
    "y_train_encoded = le.fit_transform(y_train)\n",
    "\n",
    "# Scale features\n",
    "scaler = StandardScaler()\n",
    "X_train_scaled = scaler.fit_transform(X_train_encoded)\n",
    "X_test_scaled = scaler.transform(X_test_encoded)"
   ]
  },
  {
   "cell_type": "code",
   "execution_count": 4,
   "id": "85ceb420",
   "metadata": {
    "execution": {
     "iopub.execute_input": "2025-06-16T07:38:19.615804Z",
     "iopub.status.busy": "2025-06-16T07:38:19.615063Z",
     "iopub.status.idle": "2025-06-16T07:38:50.972130Z",
     "shell.execute_reply": "2025-06-16T07:38:50.971287Z"
    },
    "papermill": {
     "duration": 31.364717,
     "end_time": "2025-06-16T07:38:50.976007",
     "exception": false,
     "start_time": "2025-06-16T07:38:19.611290",
     "status": "completed"
    },
    "tags": []
   },
   "outputs": [
    {
     "name": "stdout",
     "output_type": "stream",
     "text": [
      "                     precision    recall  f1-score   support\n",
      "\n",
      "Insufficient_Weight       0.90      0.91      0.91      2523\n",
      "      Normal_Weight       0.83      0.84      0.83      3082\n",
      "     Obesity_Type_I       0.88      0.84      0.86      2910\n",
      "    Obesity_Type_II       0.95      0.97      0.96      3248\n",
      "   Obesity_Type_III       1.00      1.00      1.00      4046\n",
      " Overweight_Level_I       0.74      0.71      0.72      2427\n",
      "Overweight_Level_II       0.75      0.78      0.76      2522\n",
      "\n",
      "           accuracy                           0.88     20758\n",
      "          macro avg       0.86      0.86      0.86     20758\n",
      "       weighted avg       0.88      0.88      0.88     20758\n",
      " [[2308  197    0    1    0   13    4]\n",
      " [ 226 2584    3    0    0  220   49]\n",
      " [   2   14 2450  127   13   94  210]\n",
      " [   0    4   60 3154    0    4   26]\n",
      " [   0    1    5    3 4033    4    0]\n",
      " [  15  258   75    0    0 1724  355]\n",
      " [   1   65  205   19    0  276 1956]]\n"
     ]
    }
   ],
   "source": [
    "# Fit SVM model\n",
    "svm_model = SVC(kernel='rbf', C=1, gamma='scale')\n",
    "svm_model.fit(X_train_scaled, y_train_encoded)\n",
    "\n",
    "# Predict on the training set to evaluate\n",
    "y_train_pred = svm_model.predict(X_train_scaled)\n",
    "\n",
    "# Predict on test set\n",
    "y_test_pred = svm_model.predict(X_test_scaled)\n",
    "y_test_pred_labels = le.inverse_transform(y_test_pred)\n",
    "\n",
    "# Evaluate on training data\n",
    "report = classification_report(y_train_encoded, y_train_pred, target_names=le.classes_)\n",
    "cm = confusion_matrix(y_train_encoded, y_train_pred)\n",
    "\n",
    "print(report, cm)"
   ]
  },
  {
   "cell_type": "markdown",
   "id": "d51a23d5",
   "metadata": {
    "papermill": {
     "duration": 0.002379,
     "end_time": "2025-06-16T07:38:50.981052",
     "exception": false,
     "start_time": "2025-06-16T07:38:50.978673",
     "status": "completed"
    },
    "tags": []
   },
   "source": [
    "Model Training:\n",
    "* Algorithm: SVM with Radial Basis Function (RBF) kernel.\n",
    "* Data Preprocessing:\n",
    "  One-hot encoded categorical predictors.\n",
    "  Scaled features using StandardScaler.\n",
    "  Encoded target NObeyesdad as integer classes.\n",
    "\n",
    "Training Performance:\n",
    "* Accuracy (train) at 88%.\n",
    "* Macro-average F1-score at 86%. \n",
    "\n",
    "Classes with Best Performance: \n",
    "* Obesity_Type_III (Precision and Recall ~ 1.00)\n",
    "* Obesity_Type_II (Presision ~ 95%)\n",
    "\n",
    "Classes with Lower Performance: \n",
    "* Overweight_Level_I and Overweight_Level_II (Precision and Recall ~ 74%-78%)"
   ]
  },
  {
   "cell_type": "markdown",
   "id": "db0a1876",
   "metadata": {
    "papermill": {
     "duration": 0.002367,
     "end_time": "2025-06-16T07:38:50.985947",
     "exception": false,
     "start_time": "2025-06-16T07:38:50.983580",
     "status": "completed"
    },
    "tags": []
   },
   "source": []
  },
  {
   "cell_type": "code",
   "execution_count": 5,
   "id": "020ce02a",
   "metadata": {
    "execution": {
     "iopub.execute_input": "2025-06-16T07:38:50.992212Z",
     "iopub.status.busy": "2025-06-16T07:38:50.991898Z",
     "iopub.status.idle": "2025-06-16T07:38:51.480085Z",
     "shell.execute_reply": "2025-06-16T07:38:51.479074Z"
    },
    "papermill": {
     "duration": 0.494075,
     "end_time": "2025-06-16T07:38:51.482553",
     "exception": false,
     "start_time": "2025-06-16T07:38:50.988478",
     "status": "completed"
    },
    "tags": []
   },
   "outputs": [
    {
     "data": {
      "image/png": "[encoded data removed]",
      "text/plain": [
       "<Figure size 1000x700 with 2 Axes>"
      ]
     },
     "metadata": {},
     "output_type": "display_data"
    }
   ],
   "source": [
    "# Visualize confusion matrix\n",
    "plt.figure(figsize=(10,7))\n",
    "sns.heatmap(cm, annot=True, fmt='d', cmap='Blues', xticklabels=le.classes_, yticklabels=le.classes_)\n",
    "plt.title(\"Confusion Matrix - Training Data\")\n",
    "plt.xlabel(\"Predicted Label\")\n",
    "plt.ylabel(\"True Label\")\n",
    "plt.show()\n"
   ]
  },
  {
   "cell_type": "markdown",
   "id": "e25b86ce",
   "metadata": {
    "papermill": {
     "duration": 0.003622,
     "end_time": "2025-06-16T07:38:51.490299",
     "exception": false,
     "start_time": "2025-06-16T07:38:51.486677",
     "status": "completed"
    },
    "tags": []
   },
   "source": [
    "See the plotted matrix above. It shows misclassification mostly among similar weight categories (e.g., Overweight levels vs. Normal Weight). "
   ]
  },
  {
   "cell_type": "markdown",
   "id": "3bafeb02",
   "metadata": {
    "papermill": {
     "duration": 0.003622,
     "end_time": "2025-06-16T07:38:51.497808",
     "exception": false,
     "start_time": "2025-06-16T07:38:51.494186",
     "status": "completed"
    },
    "tags": []
   },
   "source": [
    "**Assumptions and Suitability**\n",
    "* SVM does not assume normality or linear separability: RBF kernel effectively handles non-linear class boundaries.\n",
    "* Feature scaling is essential: Properly performed.\n",
    "* Imbalanced classes: No severe imbalance, but mild confusion in adjacent weight categories.\n",
    "\n",
    "Overall: The SVM classifier captures the multi-class pattern well, especially for clearly distinct classes (Obesity_Type_III). \n",
    "\n",
    "Misclassifications: Often between adjacent BMI categories, which is expected due to subtle feature differences. \n",
    "\n",
    "Implication: Good generalization can be expected on the test set for practical classification tasks."
   ]
  },
  {
   "cell_type": "code",
   "execution_count": 6,
   "id": "c6db8be0",
   "metadata": {
    "execution": {
     "iopub.execute_input": "2025-06-16T07:38:51.506590Z",
     "iopub.status.busy": "2025-06-16T07:38:51.506280Z",
     "iopub.status.idle": "2025-06-16T07:38:51.524788Z",
     "shell.execute_reply": "2025-06-16T07:38:51.523930Z"
    },
    "papermill": {
     "duration": 0.024666,
     "end_time": "2025-06-16T07:38:51.526320",
     "exception": false,
     "start_time": "2025-06-16T07:38:51.501654",
     "status": "completed"
    },
    "tags": []
   },
   "outputs": [
    {
     "data": {
      "text/html": [
       "<div>\n",
       "<style scoped>\n",
       "    .dataframe tbody tr th:only-of-type {\n",
       "        vertical-align: middle;\n",
       "    }\n",
       "\n",
       "    .dataframe tbody tr th {\n",
       "        vertical-align: top;\n",
       "    }\n",
       "\n",
       "    .dataframe thead th {\n",
       "        text-align: right;\n",
       "    }\n",
       "</style>\n",
       "<table border=\"1\" class=\"dataframe\">\n",
       "  <thead>\n",
       "    <tr style=\"text-align: right;\">\n",
       "      <th></th>\n",
       "      <th>id</th>\n",
       "      <th>NObeyesdad</th>\n",
       "    </tr>\n",
       "  </thead>\n",
       "  <tbody>\n",
       "    <tr>\n",
       "      <th>0</th>\n",
       "      <td>20758</td>\n",
       "      <td>Obesity_Type_II</td>\n",
       "    </tr>\n",
       "    <tr>\n",
       "      <th>1</th>\n",
       "      <td>20759</td>\n",
       "      <td>Overweight_Level_I</td>\n",
       "    </tr>\n",
       "    <tr>\n",
       "      <th>2</th>\n",
       "      <td>20760</td>\n",
       "      <td>Obesity_Type_III</td>\n",
       "    </tr>\n",
       "    <tr>\n",
       "      <th>3</th>\n",
       "      <td>20761</td>\n",
       "      <td>Obesity_Type_I</td>\n",
       "    </tr>\n",
       "    <tr>\n",
       "      <th>4</th>\n",
       "      <td>20762</td>\n",
       "      <td>Obesity_Type_III</td>\n",
       "    </tr>\n",
       "  </tbody>\n",
       "</table>\n",
       "</div>"
      ],
      "text/plain": [
       "      id          NObeyesdad\n",
       "0  20758     Obesity_Type_II\n",
       "1  20759  Overweight_Level_I\n",
       "2  20760    Obesity_Type_III\n",
       "3  20761      Obesity_Type_I\n",
       "4  20762    Obesity_Type_III"
      ]
     },
     "execution_count": 6,
     "metadata": {},
     "output_type": "execute_result"
    }
   ],
   "source": [
    "# Assuming the test dataset contains an 'id' column\n",
    "# If it does not, we will create one as a sequential index\n",
    "\n",
    "# Check if 'id' exists\n",
    "if 'id' in test_df.columns:\n",
    "    ids = test_df['id']\n",
    "else:\n",
    "    ids = pd.Series(range(1, len(test_df) + 1), name='id')\n",
    "\n",
    "# Create submission DataFrame\n",
    "submission_df = pd.DataFrame({\n",
    "    'id': ids,\n",
    "    'NObeyesdad': y_test_pred_labels\n",
    "})\n",
    "\n",
    "submission_df.head()"
   ]
  }
 ],
 "metadata": {
  "kaggle": {
   "accelerator": "none",
   "dataSources": [
    {
     "databundleVersionId": 10950255,
     "sourceId": 68479,
     "sourceType": "competition"
    }
   ],
   "dockerImageVersionId": 31040,
   "isGpuEnabled": false,
   "isInternetEnabled": true,
   "language": "python",
   "sourceType": "notebook"
  },
  "kernelspec": {
   "display_name": "Python 3",
   "language": "python",
   "name": "python3"
  },
  "language_info": {
   "codemirror_mode": {
    "name": "ipython",
    "version": 3
   },
   "file_extension": ".py",
   "mimetype": "text/x-python",
   "name": "python",
   "nbconvert_exporter": "python",
   "pygments_lexer": "ipython3",
   "version": "3.11.11"
  },
  "papermill": {
   "default_parameters": {},
   "duration": 41.967248,
   "end_time": "2025-06-16T07:38:52.250912",
   "environment_variables": {},
   "exception": null,
   "input_path": "__notebook__.ipynb",
   "output_path": "__notebook__.ipynb",
   "parameters": {},
   "start_time": "2025-06-16T07:38:10.283664",
   "version": "2.6.0"
  }
 },
 "nbformat": 4,
 "nbformat_minor": 5
}
