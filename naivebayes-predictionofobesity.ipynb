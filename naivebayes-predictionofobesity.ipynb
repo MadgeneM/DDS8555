{
 "cells": [
  {
   "cell_type": "code",
   "execution_count": 1,
   "id": "34f17c00",
   "metadata": {
    "_cell_guid": "b1076dfc-b9ad-4769-8c92-a6c4dae69d19",
    "_uuid": "8f2839f25d086af736a60e9eeb907d3b93b6e0e5",
    "execution": {
     "iopub.execute_input": "2025-06-16T06:50:10.981952Z",
     "iopub.status.busy": "2025-06-16T06:50:10.981563Z",
     "iopub.status.idle": "2025-06-16T06:50:10.986003Z",
     "shell.execute_reply": "2025-06-16T06:50:10.985334Z"
    },
    "papermill": {
     "duration": 0.009463,
     "end_time": "2025-06-16T06:50:10.987274",
     "exception": false,
     "start_time": "2025-06-16T06:50:10.977811",
     "status": "completed"
    },
    "tags": []
   },
   "outputs": [],
   "source": [
    "#-----------------------------------------\n",
    "# Title:  Naive Bayes Multi-Class Prediction of Obesity Risk Dataset\n",
    "# Subtitle: DDS-8555, Assignment 5\n",
    "# Author: Madgene Moise\n",
    "# Date: Sunday, June 15, 2025\n",
    "#-----------------------------------------"
   ]
  },
  {
   "cell_type": "code",
   "execution_count": 2,
   "id": "4b61a353",
   "metadata": {
    "execution": {
     "iopub.execute_input": "2025-06-16T06:50:10.992818Z",
     "iopub.status.busy": "2025-06-16T06:50:10.992527Z",
     "iopub.status.idle": "2025-06-16T06:50:13.079085Z",
     "shell.execute_reply": "2025-06-16T06:50:13.078160Z"
    },
    "papermill": {
     "duration": 2.091152,
     "end_time": "2025-06-16T06:50:13.080942",
     "exception": false,
     "start_time": "2025-06-16T06:50:10.989790",
     "status": "completed"
    },
    "tags": []
   },
   "outputs": [
    {
     "name": "stdout",
     "output_type": "stream",
     "text": [
      "<class 'pandas.core.frame.DataFrame'>\n",
      "RangeIndex: 20758 entries, 0 to 20757\n",
      "Data columns (total 18 columns):\n",
      " #   Column                          Non-Null Count  Dtype  \n",
      "---  ------                          --------------  -----  \n",
      " 0   id                              20758 non-null  int64  \n",
      " 1   Gender                          20758 non-null  object \n",
      " 2   Age                             20758 non-null  float64\n",
      " 3   Height                          20758 non-null  float64\n",
      " 4   Weight                          20758 non-null  float64\n",
      " 5   family_history_with_overweight  20758 non-null  object \n",
      " 6   FAVC                            20758 non-null  object \n",
      " 7   FCVC                            20758 non-null  float64\n",
      " 8   NCP                             20758 non-null  float64\n",
      " 9   CAEC                            20758 non-null  object \n",
      " 10  SMOKE                           20758 non-null  object \n",
      " 11  CH2O                            20758 non-null  float64\n",
      " 12  SCC                             20758 non-null  object \n",
      " 13  FAF                             20758 non-null  float64\n",
      " 14  TUE                             20758 non-null  float64\n",
      " 15  CALC                            20758 non-null  object \n",
      " 16  MTRANS                          20758 non-null  object \n",
      " 17  NObeyesdad                      20758 non-null  object \n",
      "dtypes: float64(8), int64(1), object(9)\n",
      "memory usage: 2.9+ MB\n",
      "<class 'pandas.core.frame.DataFrame'>\n",
      "RangeIndex: 13840 entries, 0 to 13839\n",
      "Data columns (total 17 columns):\n",
      " #   Column                          Non-Null Count  Dtype  \n",
      "---  ------                          --------------  -----  \n",
      " 0   id                              13840 non-null  int64  \n",
      " 1   Gender                          13840 non-null  object \n",
      " 2   Age                             13840 non-null  float64\n",
      " 3   Height                          13840 non-null  float64\n",
      " 4   Weight                          13840 non-null  float64\n",
      " 5   family_history_with_overweight  13840 non-null  object \n",
      " 6   FAVC                            13840 non-null  object \n",
      " 7   FCVC                            13840 non-null  float64\n",
      " 8   NCP                             13840 non-null  float64\n",
      " 9   CAEC                            13840 non-null  object \n",
      " 10  SMOKE                           13840 non-null  object \n",
      " 11  CH2O                            13840 non-null  float64\n",
      " 12  SCC                             13840 non-null  object \n",
      " 13  FAF                             13840 non-null  float64\n",
      " 14  TUE                             13840 non-null  float64\n",
      " 15  CALC                            13840 non-null  object \n",
      " 16  MTRANS                          13840 non-null  object \n",
      "dtypes: float64(8), int64(1), object(8)\n",
      "memory usage: 1.8+ MB\n"
     ]
    },
    {
     "data": {
      "text/plain": [
       "(None,\n",
       "    id  Gender        Age    Height      Weight family_history_with_overweight  \\\n",
       " 0   0    Male  24.443011  1.699998   81.669950                            yes   \n",
       " 1   1  Female  18.000000  1.560000   57.000000                            yes   \n",
       " 2   2  Female  18.000000  1.711460   50.165754                            yes   \n",
       " 3   3  Female  20.952737  1.710730  131.274851                            yes   \n",
       " 4   4    Male  31.641081  1.914186   93.798055                            yes   \n",
       " \n",
       "   FAVC      FCVC       NCP        CAEC SMOKE      CH2O SCC       FAF  \\\n",
       " 0  yes  2.000000  2.983297   Sometimes    no  2.763573  no  0.000000   \n",
       " 1  yes  2.000000  3.000000  Frequently    no  2.000000  no  1.000000   \n",
       " 2  yes  1.880534  1.411685   Sometimes    no  1.910378  no  0.866045   \n",
       " 3  yes  3.000000  3.000000   Sometimes    no  1.674061  no  1.467863   \n",
       " 4  yes  2.679664  1.971472   Sometimes    no  1.979848  no  1.967973   \n",
       " \n",
       "         TUE       CALC                 MTRANS           NObeyesdad  \n",
       " 0  0.976473  Sometimes  Public_Transportation  Overweight_Level_II  \n",
       " 1  1.000000         no             Automobile        Normal_Weight  \n",
       " 2  1.673584         no  Public_Transportation  Insufficient_Weight  \n",
       " 3  0.780199  Sometimes  Public_Transportation     Obesity_Type_III  \n",
       " 4  0.931721  Sometimes  Public_Transportation  Overweight_Level_II  ,\n",
       " None,\n",
       "       id  Gender        Age    Height      Weight  \\\n",
       " 0  20758    Male  26.899886  1.848294  120.644178   \n",
       " 1  20759  Female  21.000000  1.600000   66.000000   \n",
       " 2  20760  Female  26.000000  1.643355  111.600553   \n",
       " 3  20761    Male  20.979254  1.553127  103.669116   \n",
       " 4  20762  Female  26.000000  1.627396  104.835346   \n",
       " \n",
       "   family_history_with_overweight FAVC      FCVC       NCP       CAEC SMOKE  \\\n",
       " 0                            yes  yes  2.938616  3.000000  Sometimes    no   \n",
       " 1                            yes  yes  2.000000  1.000000  Sometimes    no   \n",
       " 2                            yes  yes  3.000000  3.000000  Sometimes    no   \n",
       " 3                            yes  yes  2.000000  2.977909  Sometimes    no   \n",
       " 4                            yes  yes  3.000000  3.000000  Sometimes    no   \n",
       " \n",
       "        CH2O SCC       FAF       TUE       CALC                 MTRANS  \n",
       " 0  2.825629  no  0.855400  0.000000  Sometimes  Public_Transportation  \n",
       " 1  3.000000  no  1.000000  0.000000  Sometimes  Public_Transportation  \n",
       " 2  2.621877  no  0.000000  0.250502  Sometimes  Public_Transportation  \n",
       " 3  2.786417  no  0.094851  0.000000  Sometimes  Public_Transportation  \n",
       " 4  2.653531  no  0.000000  0.741069  Sometimes  Public_Transportation  )"
      ]
     },
     "execution_count": 2,
     "metadata": {},
     "output_type": "execute_result"
    }
   ],
   "source": [
    "import pandas as pd\n",
    "\n",
    "# Load the training and testing datasets\n",
    "\n",
    "train_df = pd.read_csv(\"/kaggle/input/playground-series-s4e2/train.csv\") \n",
    "test_df = pd.read_csv(\"/kaggle/input/playground-series-s4e2/test.csv\")\n",
    "\n",
    "# Display basic information about the datasets\n",
    "train_df.info(), train_df.head(), test_df.info(), test_df.head()"
   ]
  },
  {
   "cell_type": "code",
   "execution_count": 3,
   "id": "064cc1d0",
   "metadata": {
    "execution": {
     "iopub.execute_input": "2025-06-16T06:50:13.087404Z",
     "iopub.status.busy": "2025-06-16T06:50:13.087107Z",
     "iopub.status.idle": "2025-06-16T06:50:14.676725Z",
     "shell.execute_reply": "2025-06-16T06:50:14.675968Z"
    },
    "papermill": {
     "duration": 1.594998,
     "end_time": "2025-06-16T06:50:14.678430",
     "exception": false,
     "start_time": "2025-06-16T06:50:13.083432",
     "status": "completed"
    },
    "tags": []
   },
   "outputs": [],
   "source": [
    "from sklearn.model_selection import train_test_split\n",
    "from sklearn.naive_bayes import GaussianNB\n",
    "from sklearn.metrics import classification_report, confusion_matrix, accuracy_score\n",
    "from sklearn.preprocessing import LabelEncoder\n",
    "\n",
    "# Encode categorical variables\n",
    "# Combine train and test for consistent encoding\n",
    "combined_df = pd.concat([train_df.drop('NObeyesdad', axis=1), test_df])\n",
    "categorical_cols = combined_df.select_dtypes(include=['object']).columns\n",
    "\n",
    "encoders = {}\n",
    "for col in categorical_cols:\n",
    "    le = LabelEncoder()\n",
    "    combined_df[col] = le.fit_transform(combined_df[col])\n",
    "    encoders[col] = le\n",
    "\n",
    "# Separate back train and test\n",
    "X_train = combined_df.iloc[:len(train_df), :]\n",
    "X_test = combined_df.iloc[len(train_df):, :]\n",
    "\n",
    "# Encode target variable\n",
    "y_train = LabelEncoder().fit_transform(train_df['NObeyesdad'])"
   ]
  },
  {
   "cell_type": "code",
   "execution_count": 4,
   "id": "564d4c79",
   "metadata": {
    "execution": {
     "iopub.execute_input": "2025-06-16T06:50:14.686700Z",
     "iopub.status.busy": "2025-06-16T06:50:14.685778Z",
     "iopub.status.idle": "2025-06-16T06:50:14.892017Z",
     "shell.execute_reply": "2025-06-16T06:50:14.891122Z"
    },
    "papermill": {
     "duration": 0.212396,
     "end_time": "2025-06-16T06:50:14.893615",
     "exception": false,
     "start_time": "2025-06-16T06:50:14.681219",
     "status": "completed"
    },
    "tags": []
   },
   "outputs": [
    {
     "data": {
      "text/plain": [
       "(0.7013199730224492,\n",
       " array([[2071,  394,   19,    1,    1,   31,    6],\n",
       "        [ 775, 1743,   89,    0,   52,  293,  130],\n",
       "        [   3,   16, 1924,  535,   47,   91,  294],\n",
       "        [   0,    0,  224, 3001,    0,    3,   20],\n",
       "        [   1,    0,    0,    4, 4038,    3,    0],\n",
       "        [  52,  448,  582,    0,   55,  839,  451],\n",
       "        [   4,  190, 1134,   83,   13,  156,  942]]),\n",
       " '              precision    recall  f1-score   support\\n\\n           0       0.71      0.82      0.76      2523\\n           1       0.62      0.57      0.59      3082\\n           2       0.48      0.66      0.56      2910\\n           3       0.83      0.92      0.87      3248\\n           4       0.96      1.00      0.98      4046\\n           5       0.59      0.35      0.44      2427\\n           6       0.51      0.37      0.43      2522\\n\\n    accuracy                           0.70     20758\\n   macro avg       0.67      0.67      0.66     20758\\nweighted avg       0.70      0.70      0.69     20758\\n')"
      ]
     },
     "execution_count": 4,
     "metadata": {},
     "output_type": "execute_result"
    }
   ],
   "source": [
    "# Fit Naive Bayes\n",
    "nb = GaussianNB()\n",
    "nb.fit(X_train, y_train)\n",
    "\n",
    "# Predict\n",
    "y_train_pred = nb.predict(X_train)\n",
    "y_test_pred = nb.predict(X_test)\n",
    "\n",
    "# Evaluate on train\n",
    "train_accuracy = accuracy_score(y_train, y_train_pred)\n",
    "conf_matrix = confusion_matrix(y_train, y_train_pred)\n",
    "report = classification_report(y_train, y_train_pred)\n",
    "\n",
    "train_accuracy, conf_matrix, report"
   ]
  },
  {
   "cell_type": "markdown",
   "id": "1bd7c19d",
   "metadata": {
    "papermill": {
     "duration": 0.002183,
     "end_time": "2025-06-16T06:50:14.898312",
     "exception": false,
     "start_time": "2025-06-16T06:50:14.896129",
     "status": "completed"
    },
    "tags": []
   },
   "source": [
    "Gaussian Naive Bayes was fitted to the training data to classify the variable NObeyesdad. \n",
    "\n",
    "Accuracy: 70.13% \n",
    "\n",
    "Classification Report (Marco Average):\n",
    "* Precision: 0.67\n",
    "* Recall: 0.67\n",
    "* F1-score: 0.66\n",
    "\n",
    "High Performance Observed for 'Normal Weight' and 'Obesity Type I'\"\n",
    "* Classes 3 and 4 (in the matrix above) show very strong performance with high recall and precision.\n",
    "* 'Normal Weight' (class 4) is nearly perfectly classified.\n",
    "\n",
    "Mixed Performance Observed for Overlapping Categories: \n",
    "* Some confusion occurs between adjacent weight categories like 'Obesity Types I/II/III' and 'Overweight Levels'.\n",
    "* For example, many true \"Obesity Type II' are misclassified as 'Obesity Type I'.\n",
    "\n",
    "Naive Assumption:\n",
    "* The model assumes feature independence. In reality, features like height, weight, and family history are correlated. This can limit accuracy."
   ]
  },
  {
   "cell_type": "markdown",
   "id": "15906968",
   "metadata": {
    "papermill": {
     "duration": 0.002015,
     "end_time": "2025-06-16T06:50:14.902509",
     "exception": false,
     "start_time": "2025-06-16T06:50:14.900494",
     "status": "completed"
    },
    "tags": []
   },
   "source": [
    "**Assumptions and Diagnostics**\n",
    "* Feature Independence: Naive Bayes assumes all predictors are conditionally independent given the class label. This is unlikely to be true for anthropometric and lifestyle data.\n",
    "* Gaussian Assumption: The numeric predictors are assumed to follow a normal distribution per class. This should ideally be verified via histograms or Q-Q plots for each class.\n",
    "* Residuals: For classification, residuals are not like regression residuals. Misclassifications and the confusion matrix effectively serve as residual diagnostics. Here, misclassification is more frequent for intermediate categories.\n",
    "\n",
    "The Naive Bayes model performs reasonably well for clear-cut classes but struggles with categories that have overlapping predictor ranges. This behavior highlights the limits of the model's independence assumption."
   ]
  },
  {
   "cell_type": "code",
   "execution_count": 5,
   "id": "96fdcff2",
   "metadata": {
    "execution": {
     "iopub.execute_input": "2025-06-16T06:50:14.908435Z",
     "iopub.status.busy": "2025-06-16T06:50:14.907753Z",
     "iopub.status.idle": "2025-06-16T06:50:14.915826Z",
     "shell.execute_reply": "2025-06-16T06:50:14.915144Z"
    },
    "papermill": {
     "duration": 0.01272,
     "end_time": "2025-06-16T06:50:14.917373",
     "exception": false,
     "start_time": "2025-06-16T06:50:14.904653",
     "status": "completed"
    },
    "tags": []
   },
   "outputs": [],
   "source": [
    "# Decode numerical predictions back to original labels\n",
    "# First, get target encoder from train_df\n",
    "target_encoder = LabelEncoder()\n",
    "target_encoder.fit(train_df['NObeyesdad'])\n",
    "y_test_labels = target_encoder.inverse_transform(y_test_pred)\n",
    "\n",
    "# Create submission DataFrame\n",
    "submission_df = test_df[['id']].copy()\n",
    "submission_df['NObeyesdad_Predicted'] = y_test_labels"
   ]
  }
 ],
 "metadata": {
  "kaggle": {
   "accelerator": "none",
   "dataSources": [
    {
     "databundleVersionId": 10950255,
     "sourceId": 68479,
     "sourceType": "competition"
    }
   ],
   "dockerImageVersionId": 31040,
   "isGpuEnabled": false,
   "isInternetEnabled": true,
   "language": "python",
   "sourceType": "notebook"
  },
  "kernelspec": {
   "display_name": "Python 3",
   "language": "python",
   "name": "python3"
  },
  "language_info": {
   "codemirror_mode": {
    "name": "ipython",
    "version": 3
   },
   "file_extension": ".py",
   "mimetype": "text/x-python",
   "name": "python",
   "nbconvert_exporter": "python",
   "pygments_lexer": "ipython3",
   "version": "3.11.11"
  },
  "papermill": {
   "default_parameters": {},
   "duration": 9.321833,
   "end_time": "2025-06-16T06:50:15.540032",
   "environment_variables": {},
   "exception": null,
   "input_path": "__notebook__.ipynb",
   "output_path": "__notebook__.ipynb",
   "parameters": {},
   "start_time": "2025-06-16T06:50:06.218199",
   "version": "2.6.0"
  }
 },
 "nbformat": 4,
 "nbformat_minor": 5
}
